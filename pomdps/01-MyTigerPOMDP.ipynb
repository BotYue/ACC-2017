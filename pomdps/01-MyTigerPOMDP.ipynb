{
 "cells": [
  {
   "cell_type": "code",
   "execution_count": 1,
   "metadata": {
    "collapsed": false
   },
   "outputs": [],
   "source": [
    "include(\"get_requirements.jl\")"
   ]
  },
  {
   "cell_type": "markdown",
   "metadata": {},
   "source": [
    "# Tiger Problem\n",
    "\n",
    "There are two doors in front of you. One of these doors has a large reward behind it. The other has a tiger. At each time step, you can take one of three actions:\n",
    "\n",
    "- Open the LEFT door\n",
    "- Open the RIGHT door\n",
    "- LISTEN - you will receive an indication of which door the tiger is behind with an 85% chance of being correct.\n",
    "\n",
    "Once you open one of the doors, you recieve a reward or penalty and the problem resets."
   ]
  },
  {
   "cell_type": "code",
   "execution_count": 2,
   "metadata": {
    "collapsed": false
   },
   "outputs": [],
   "source": [
    "importall POMDPs\n",
    "using Distributions\n",
    "using POMDPToolbox\n",
    "using QMDP"
   ]
  },
  {
   "cell_type": "code",
   "execution_count": 3,
   "metadata": {
    "collapsed": false
   },
   "outputs": [
    {
     "data": {
      "text/plain": [
       "states (generic function with 4 methods)"
      ]
     },
     "execution_count": 3,
     "metadata": {},
     "output_type": "execute_result"
    }
   ],
   "source": [
    "immutable MyTigerPOMDP <: POMDP{Int, Int, Int}\n",
    "    p_correct_obs::Float64\n",
    "    reward::Float64\n",
    "    penalty::Float64\n",
    "end\n",
    "MyTigerPOMDP() = MyTigerPOMDP(0.85, 10, 100)\n",
    "\n",
    "# states and observations\n",
    "const TL = 1\n",
    "const TR = 2\n",
    "\n",
    "# actions\n",
    "const LEFT = 1\n",
    "const RIGHT = 2\n",
    "const LISTEN = 3\n",
    "\n",
    "n_states(t::MyTigerPOMDP) = 2\n",
    "n_actions(t::MyTigerPOMDP) = 3\n",
    "\n",
    "states(t::MyTigerPOMDP) = [TL, TR]"
   ]
  },
  {
   "cell_type": "code",
   "execution_count": 4,
   "metadata": {
    "collapsed": false
   },
   "outputs": [
    {
     "data": {
      "text/plain": [
       "discount (generic function with 4 methods)"
      ]
     },
     "execution_count": 4,
     "metadata": {},
     "output_type": "execute_result"
    }
   ],
   "source": [
    "initial_state_distribution(p::MyTigerPOMDP) = Categorical([0.5, 0.5])\n",
    "\n",
    "function transition(t::MyTigerPOMDP, s::Int, a::Int)\n",
    "    if a == LISTEN\n",
    "        p = zeros(2)\n",
    "        p[s] = 1.0\n",
    "        return Categorical(p)\n",
    "    else # action was to look, so reset\n",
    "        return initial_state_distribution(t)\n",
    "    end\n",
    "end\n",
    "\n",
    "function reward(t::MyTigerPOMDP, s::Int, a::Int)\n",
    "    if a == LISTEN\n",
    "        return 0.0\n",
    "    elseif a == s\n",
    "        return t.reward\n",
    "    else\n",
    "        return -t.penalty\n",
    "    end\n",
    "end\n",
    "\n",
    "function observation(t::MyTigerPOMDP, a::Int, sp::Int)\n",
    "    if a == LISTEN\n",
    "        p = fill(1-t.p_correct_obs, 2)\n",
    "        p[sp] = t.p_correct_obs\n",
    "        return Categorical(p)\n",
    "    else\n",
    "        return Categorical([0.5, 0.5])\n",
    "    end\n",
    "end\n",
    "\n",
    "discount(t::MyTigerPOMDP) = 0.95"
   ]
  },
  {
   "cell_type": "code",
   "execution_count": 5,
   "metadata": {
    "collapsed": false
   },
   "outputs": [
    {
     "name": "stdout",
     "output_type": "stream",
     "text": [
      "o = nothing\n",
      "b = POMDPToolbox.DiscreteBelief([0.5,0.5])\n",
      "a = 3\n",
      "o = 1\n",
      "b = POMDPToolbox.DiscreteBelief([0.85,0.15])\n",
      "a = 3\n",
      "o = 1\n",
      "b = POMDPToolbox.DiscreteBelief([0.969799,0.0302013])\n",
      "a = 1\n",
      "o = 2\n",
      "b = POMDPToolbox.DiscreteBelief([0.5,0.5])\n",
      "a = 3\n",
      "o = 1\n",
      "b = POMDPToolbox.DiscreteBelief([0.85,0.15])\n",
      "a = 3\n",
      "o = 1\n",
      "b = POMDPToolbox.DiscreteBelief([0.969799,0.0302013])\n",
      "a = 1\n",
      "o = 2\n",
      "b = POMDPToolbox.DiscreteBelief([0.5,0.5])\n",
      "a = 3\n",
      "o = 2\n",
      "b = POMDPToolbox.DiscreteBelief([0.15,0.85])\n",
      "a = 3\n",
      "o = 1\n",
      "b = POMDPToolbox.DiscreteBelief([0.5,0.5])\n",
      "a = 3\n",
      "o = 1\n",
      "b = POMDPToolbox.DiscreteBelief([0.85,0.15])\n",
      "a = 3\n",
      "discounted_reward(hist) = 16.762809375\n"
     ]
    }
   ],
   "source": [
    "problem = MyTigerPOMDP()\n",
    "filter = DiscreteUpdater(problem)\n",
    "b = initialize_belief(filter, initial_state_distribution(problem))\n",
    "a = LISTEN\n",
    "hist = sim(problem, max_steps=10) do o\n",
    "    global b, a\n",
    "    @show o\n",
    "    if o != nothing\n",
    "        b = update(filter, b, a, o)\n",
    "    end\n",
    "    @show b\n",
    "    if b[TL] > 0.9\n",
    "        a = LEFT\n",
    "    elseif b[TR] > 0.9\n",
    "        a = RIGHT\n",
    "    else\n",
    "        a = LISTEN\n",
    "    end\n",
    "    @show a\n",
    "    return a\n",
    "end\n",
    "@show discounted_reward(hist)"
   ]
  },
  {
   "cell_type": "code",
   "execution_count": 6,
   "metadata": {
    "collapsed": false
   },
   "outputs": [
    {
     "name": "stdout",
     "output_type": "stream",
     "text": [
      "\n",
      "INFO: POMDPs.jl requirements for \u001b[1m\u001b[34msolve(::QMDPSolver, ::POMDP)\u001b[0m and dependencies. ([✔] = implemented correctly; [X] = missing)\n",
      "\n",
      "For \u001b[1m\u001b[34msolve(::QMDPSolver, ::POMDP)\u001b[0m:\n",
      "  [No additional requirements]\n",
      "For \u001b[1m\u001b[34msolve(::ValueIterationSolver, ::Union{POMDP,MDP})\u001b[0m (in solve(::QMDPSolver, ::POMDP)):\n",
      "\u001b[1m\u001b[32m  [✔] discount(::MyTigerPOMDP)\u001b[0m\n",
      "\u001b[1m\u001b[32m  [✔] n_states(::MyTigerPOMDP)\u001b[0m\n",
      "\u001b[1m\u001b[32m  [✔] n_actions(::MyTigerPOMDP)\u001b[0m\n",
      "\u001b[1m\u001b[32m  [✔] transition(::MyTigerPOMDP, ::Int64, ::Int64)\u001b[0m\n",
      "\u001b[1m\u001b[32m  [✔] reward(::MyTigerPOMDP, ::Int64, ::Int64, ::Int64)\u001b[0m\n",
      "\u001b[1m\u001b[32m  [✔] state_index(::MyTigerPOMDP, ::Int64)\u001b[0m\n",
      "\u001b[1m\u001b[32m  [✔] action_index(::MyTigerPOMDP, ::Int64)\u001b[0m\n",
      "\u001b[1m\u001b[31m  [X] actions(::MyTigerPOMDP, ::Int64)\u001b[0m\n",
      "\u001b[1m\u001b[31m  WARNING: Some requirements may not be shown because a MethodError was thrown.\u001b[0m\n",
      "For \u001b[1m\u001b[34mordered_states(::Union{POMDP,MDP})\u001b[0m (in solve(::ValueIterationSolver, ::Union{POMDP,MDP})):\n",
      "\u001b[1m\u001b[32m  [✔] states(::MyTigerPOMDP)\u001b[0m\n",
      "\u001b[1m\u001b[32m  [✔] iterator(::Array)\u001b[0m\n",
      "For \u001b[1m\u001b[34mordered_actions(::Union{POMDP,MDP})\u001b[0m (in solve(::ValueIterationSolver, ::Union{POMDP,MDP})):\n",
      "\u001b[1m\u001b[31m  [X] actions(::MyTigerPOMDP)\u001b[0m\n",
      "\u001b[1m\u001b[31m  WARNING: Some requirements may not be shown because a MethodError was thrown.\u001b[0m\n",
      "\n",
      "Note: Missing methods are often due to incorrect importing. Consider using `importall POMDPs`.\n",
      "\n",
      "Throwing the first exception (from processing \u001b[1m\u001b[34msolve(::ValueIterationSolver, ::Union{POMDP,MDP})\u001b[0m requirements):\n",
      "\n"
     ]
    },
    {
     "ename": "LoadError",
     "evalue": "MethodError: no method matching actions(::MyTigerPOMDP)\u001b[0m\nClosest candidates are:\n  actions{S,A,O,B}(::POMDPs.POMDP{S,A,O}, \u001b[1m\u001b[31m::B\u001b[0m) at /home/zach/.julia/v0.5/POMDPs/src/space.jl:51\n  actions{S,A}(::Union{POMDPs.MDP{S,A},POMDPs.POMDP{S,A,O}}, \u001b[1m\u001b[31m::S\u001b[0m) at /home/zach/.julia/v0.5/POMDPs/src/space.jl:43\n  actions{S,O}(\u001b[1m\u001b[31m::POMDPs.POMDP{S,Bool,O}\u001b[0m) at /home/zach/.julia/v0.5/POMDPToolbox/src/convenience/implementations.jl:6\n  ...\u001b[0m",
     "output_type": "error",
     "traceback": [
      "MethodError: no method matching actions(::MyTigerPOMDP)\u001b[0m\nClosest candidates are:\n  actions{S,A,O,B}(::POMDPs.POMDP{S,A,O}, \u001b[1m\u001b[31m::B\u001b[0m) at /home/zach/.julia/v0.5/POMDPs/src/space.jl:51\n  actions{S,A}(::Union{POMDPs.MDP{S,A},POMDPs.POMDP{S,A,O}}, \u001b[1m\u001b[31m::S\u001b[0m) at /home/zach/.julia/v0.5/POMDPs/src/space.jl:43\n  actions{S,O}(\u001b[1m\u001b[31m::POMDPs.POMDP{S,Bool,O}\u001b[0m) at /home/zach/.julia/v0.5/POMDPToolbox/src/convenience/implementations.jl:6\n  ...\u001b[0m",
      ""
     ]
    }
   ],
   "source": [
    "@requirements_info QMDPSolver() MyTigerPOMDP()"
   ]
  },
  {
   "cell_type": "code",
   "execution_count": 7,
   "metadata": {
    "collapsed": false
   },
   "outputs": [
    {
     "data": {
      "text/plain": [
       "actions (generic function with 10 methods)"
      ]
     },
     "execution_count": 7,
     "metadata": {},
     "output_type": "execute_result"
    }
   ],
   "source": [
    "actions(t::MyTigerPOMDP) = [LEFT, RIGHT, LISTEN]"
   ]
  },
  {
   "cell_type": "code",
   "execution_count": 8,
   "metadata": {
    "collapsed": false
   },
   "outputs": [
    {
     "name": "stdout",
     "output_type": "stream",
     "text": [
      "Iteration : 1, residual: 14.75, iteration run-time: 8.085e-6, total run-time: 8.085e-6\n",
      "Iteration : 2, residual: 12.59046875, iteration run-time: 6.472e-6, total run-time: 1.4557e-5\n",
      "Iteration : 3, residual: 11.564691406249999, iteration run-time: 4.035e-6, total run-time: 1.8592e-5\n",
      "Iteration : 4, residual: 10.943236428222654, iteration run-time: 3.092e-6, total run-time: 2.1684e-5\n",
      "Iteration : 5, residual: 10.2558588273941, iteration run-time: 2.857e-6, total run-time: 2.4541e-5\n",
      "Iteration : 6, residual: 9.587976314837448, iteration run-time: 2.479e-6, total run-time: 2.7020000000000002e-5\n",
      "Iteration : 7, residual: 8.957886507199987, iteration run-time: 2.614e-6, total run-time: 2.9634e-5\n",
      "Iteration : 8, residual: 8.367828168991792, iteration run-time: 2.872e-6, total run-time: 3.2506000000000004e-5\n",
      "Iteration : 9, residual: 7.816304847983972, iteration run-time: 2.775e-6, total run-time: 3.5281e-5\n",
      "Iteration : 10, residual: 7.301052156282381, iteration run-time: 3.551e-6, total run-time: 3.8832000000000004e-5\n",
      "Iteration : 11, residual: 6.8197456599030915, iteration run-time: 3.288e-6, total run-time: 4.212e-5\n",
      "Iteration : 12, residual: 6.370163598662359, iteration run-time: 2.888e-6, total run-time: 4.5008e-5\n",
      "Iteration : 13, residual: 5.9502184661618, iteration run-time: 2.696e-6, total run-time: 4.7704e-5\n",
      "Iteration : 14, residual: 5.557957422333274, iteration run-time: 2.741e-6, total run-time: 5.0445e-5\n",
      "Iteration : 15, residual: 5.191555653202798, iteration run-time: 2.823e-6, total run-time: 5.3268000000000006e-5\n",
      "Iteration : 16, residual: 4.849308471382614, iteration run-time: 2.702e-6, total run-time: 5.597000000000001e-5\n",
      "Iteration : 17, residual: 4.529623527415282, iteration run-time: 2.627e-6, total run-time: 5.859700000000001e-5\n",
      "Iteration : 18, residual: 4.231013435561891, iteration run-time: 2.683e-6, total run-time: 6.128000000000001e-5\n",
      "Iteration : 19, residual: 3.9520888618093863, iteration run-time: 2.661e-6, total run-time: 6.3941e-5\n",
      "Iteration : 20, residual: 3.6915520617660036, iteration run-time: 2.804e-6, total run-time: 6.6745e-5\n",
      "Iteration : 21, residual: 3.448190843167879, iteration run-time: 2.989e-6, total run-time: 6.9734e-5\n",
      "Iteration : 22, residual: 3.2208729260632936, iteration run-time: 2.542e-6, total run-time: 7.2276e-5\n",
      "Iteration : 23, residual: 3.00854067471343, iteration run-time: 2.764e-6, total run-time: 7.504e-5\n",
      "Iteration : 24, residual: 2.8102061767669397, iteration run-time: 3.691e-6, total run-time: 7.8731e-5\n",
      "Iteration : 25, residual: 2.624946646829443, iteration run-time: 3.42e-6, total run-time: 8.215100000000001e-5\n",
      "Iteration : 26, residual: 2.451900133045797, iteration run-time: 3.041e-6, total run-time: 8.519200000000001e-5\n",
      "Iteration : 27, residual: 2.290261506721066, iteration run-time: 2.79e-6, total run-time: 8.798200000000001e-5\n",
      "Iteration : 28, residual: 2.13927871632049, iteration run-time: 2.783e-6, total run-time: 9.076500000000002e-5\n",
      "Iteration : 29, residual: 1.9982492884203396, iteration run-time: 2.769e-6, total run-time: 9.353400000000002e-5\n",
      "Iteration : 30, residual: 1.866517059329368, iteration run-time: 2.779e-6, total run-time: 9.631300000000001e-5\n",
      "Iteration : 31, residual: 1.7434691221742469, iteration run-time: 2.686e-6, total run-time: 9.8999e-5\n",
      "Iteration : 32, residual: 1.628532975244866, iteration run-time: 3.297e-6, total run-time: 0.00010229600000000001\n",
      "Iteration : 33, residual: 1.5211738583317356, iteration run-time: 2.906e-6, total run-time: 0.00010520200000000001\n",
      "Iteration : 34, residual: 1.4208922646616031, iteration run-time: 2.972e-6, total run-time: 0.00010817400000000001\n",
      "Iteration : 35, residual: 1.32722161685669, iteration run-time: 2.653e-6, total run-time: 0.00011082700000000001\n",
      "Iteration : 36, residual: 1.2397260961028849, iteration run-time: 2.69e-6, total run-time: 0.00011351700000000002\n",
      "Iteration : 37, residual: 1.1579986144276404, iteration run-time: 2.582e-6, total run-time: 0.00011609900000000001\n",
      "Iteration : 38, residual: 1.0816589206533251, iteration run-time: 2.534e-6, total run-time: 0.00011863300000000001\n",
      "Iteration : 39, residual: 1.0103518312128017, iteration run-time: 2.664e-6, total run-time: 0.00012129700000000001\n",
      "Iteration : 40, residual: 0.9437455775971557, iteration run-time: 2.761e-6, total run-time: 0.00012405800000000002\n",
      "Iteration : 41, residual: 0.8815302627452866, iteration run-time: 2.563e-6, total run-time: 0.00012662100000000002\n",
      "Iteration : 42, residual: 0.8234164191945297, iteration run-time: 2.695e-6, total run-time: 0.000129316\n",
      "Iteration : 43, residual: 0.7691336622836786, iteration run-time: 2.888e-6, total run-time: 0.000132204\n",
      "Iteration : 44, residual: 0.7184294321414484, iteration run-time: 2.933e-6, total run-time: 0.000135137\n",
      "Iteration : 45, residual: 0.6710678186085772, iteration run-time: 2.644e-6, total run-time: 0.000137781\n",
      "Iteration : 46, residual: 0.6268284636247756, iteration run-time: 2.808e-6, total run-time: 0.000140589\n",
      "Iteration : 47, residual: 0.5855055359753294, iteration run-time: 2.738e-6, total run-time: 0.000143327\n",
      "Iteration : 48, residual: 0.5469067736256363, iteration run-time: 2.597e-6, total run-time: 0.000145924\n",
      "Iteration : 49, residual: 0.5108525891891986, iteration run-time: 2.658e-6, total run-time: 0.000148582\n",
      "Iteration : 50, residual: 0.4771752343663138, iteration run-time: 2.215e-6, total run-time: 0.00015079699999999999\n",
      "Iteration : 51, residual: 0.445718019466085, iteration run-time: 2.448e-6, total run-time: 0.000153245\n",
      "Iteration : 52, residual: 0.416334584380877, iteration run-time: 3.133e-6, total run-time: 0.00015637799999999999\n",
      "Iteration : 53, residual: 0.3888882176207744, iteration run-time: 2.817e-6, total run-time: 0.000159195\n",
      "Iteration : 54, residual: 0.363251220239448, iteration run-time: 2.727e-6, total run-time: 0.000161922\n",
      "Iteration : 55, residual: 0.33930431169332564, iteration run-time: 2.616e-6, total run-time: 0.000164538\n",
      "Iteration : 56, residual: 0.3169360748679537, iteration run-time: 2.641e-6, total run-time: 0.000167179\n",
      "Iteration : 57, residual: 0.29604243769080085, iteration run-time: 2.561e-6, total run-time: 0.00016973999999999998\n",
      "Iteration : 58, residual: 0.2765261889181829, iteration run-time: 2.595e-6, total run-time: 0.000172335\n",
      "Iteration : 59, residual: 0.25829652584295104, iteration run-time: 2.784e-6, total run-time: 0.000175119\n",
      "Iteration : 60, residual: 0.24126863181945168, iteration run-time: 3.062e-6, total run-time: 0.000178181\n",
      "Iteration : 61, residual: 0.22536328163943153, iteration run-time: 2.81e-6, total run-time: 0.000180991\n",
      "Iteration : 62, residual: 0.21050647292310032, iteration run-time: 2.699e-6, total run-time: 0.00018369\n",
      "Iteration : 63, residual: 0.1966290818103289, iteration run-time: 2.689e-6, total run-time: 0.000186379\n",
      "Iteration : 64, residual: 0.18366654134996452, iteration run-time: 2.468e-6, total run-time: 0.000188847\n",
      "Iteration : 65, residual: 0.17155854109114443, iteration run-time: 2.707e-6, total run-time: 0.000191554\n",
      "Iteration : 66, residual: 0.16024874647814613, iteration run-time: 2.81e-6, total run-time: 0.000194364\n",
      "Iteration : 67, residual: 0.14968453674470084, iteration run-time: 2.84e-6, total run-time: 0.000197204\n",
      "Iteration : 68, residual: 0.13981676008637578, iteration run-time: 2.487e-6, total run-time: 0.000199691\n",
      "Iteration : 69, residual: 0.13059950497347472, iteration run-time: 2.675e-6, total run-time: 0.000202366\n",
      "Iteration : 70, residual: 0.12198988653997844, iteration run-time: 2.337e-6, total run-time: 0.00020470299999999998\n",
      "Iteration : 71, residual: 0.1139478470539359, iteration run-time: 2.695e-6, total run-time: 0.00020739799999999997\n",
      "Iteration : 72, residual: 0.10643596954218992, iteration run-time: 2.997e-6, total run-time: 0.00021039499999999997\n",
      "Iteration : 73, residual: 0.09941930370146679, iteration run-time: 3.279e-6, total run-time: 0.00021367399999999996\n",
      "Iteration : 74, residual: 0.09286520328609527, iteration run-time: 2.716e-6, total run-time: 0.00021638999999999995\n",
      "Iteration : 75, residual: 0.08674317421559863, iteration run-time: 2.37e-6, total run-time: 0.00021875999999999995\n",
      "Iteration : 76, residual: 0.08102473269576649, iteration run-time: 2.722e-6, total run-time: 0.00022148199999999995\n",
      "Iteration : 77, residual: 0.07568327269308384, iteration run-time: 2.806e-6, total run-time: 0.00022428799999999995\n",
      "Iteration : 78, residual: 0.07069394214531144, iteration run-time: 3.12e-6, total run-time: 0.00022740799999999996\n",
      "Iteration : 79, residual: 0.06603352733318957, iteration run-time: 2.502e-6, total run-time: 0.00022990999999999997\n",
      "Iteration : 80, residual: 0.06168034487455998, iteration run-time: 2.649e-6, total run-time: 0.00023255899999999997\n",
      "Iteration : 81, residual: 0.057614140838609273, iteration run-time: 2.647e-6, total run-time: 0.00023520599999999996\n",
      "Iteration : 82, residual: 0.05381599651104807, iteration run-time: 2.645e-6, total run-time: 0.00023785099999999997\n",
      "Iteration : 83, residual: 0.05026824037159372, iteration run-time: 2.645e-6, total run-time: 0.00024049599999999998\n",
      "Iteration : 84, residual: 0.04695436587405766, iteration run-time: 2.774e-6, total run-time: 0.00024327\n",
      "Iteration : 85, residual: 0.04385895464682221, iteration run-time: 2.558e-6, total run-time: 0.000245828\n",
      "Iteration : 86, residual: 0.04096760475636074, iteration run-time: 2.562e-6, total run-time: 0.00024839\n",
      "Iteration : 87, residual: 0.03826686369950494, iteration run-time: 2.709e-6, total run-time: 0.000251099\n",
      "Iteration : 88, residual: 0.03574416581358264, iteration run-time: 2.727e-6, total run-time: 0.000253826\n",
      "Iteration : 89, residual: 0.03338777381239311, iteration run-time: 3.506e-6, total run-time: 0.00025733200000000004\n",
      "Iteration : 90, residual: 0.03118672417650714, iteration run-time: 2.899e-6, total run-time: 0.00026023100000000004\n",
      "Iteration : 91, residual: 0.02913077614357462, iteration run-time: 2.704e-6, total run-time: 0.00026293500000000006\n",
      "Iteration : 92, residual: 0.027210364061460268, iteration run-time: 2.535e-6, total run-time: 0.00026547000000000007\n",
      "Iteration : 93, residual: 0.02541655288237621, iteration run-time: 2.748e-6, total run-time: 0.0002682180000000001\n",
      "Iteration : 94, residual: 0.023740996590987606, iteration run-time: 2.698e-6, total run-time: 0.00027091600000000006\n",
      "Iteration : 95, residual: 0.022175899373166885, iteration run-time: 3.114e-6, total run-time: 0.0002740300000000001\n",
      "Iteration : 96, residual: 0.020713979344748168, iteration run-time: 3.883e-6, total run-time: 0.0002779130000000001\n",
      "Iteration : 97, residual: 0.01934843467108749, iteration run-time: 4.291e-6, total run-time: 0.0002822040000000001\n",
      "Iteration : 98, residual: 0.018072911920540946, iteration run-time: 3.839e-6, total run-time: 0.0002860430000000001\n",
      "Iteration : 99, residual: 0.016881476503925796, iteration run-time: 3.428e-6, total run-time: 0.0002894710000000001\n",
      "Iteration : 100, residual: 0.015768585062858165, iteration run-time: 2.729e-6, total run-time: 0.00029220000000000006\n",
      "Iteration : 101, residual: 0.014729059678330714, iteration run-time: 2.742e-6, total run-time: 0.0002949420000000001\n",
      "Iteration : 102, residual: 0.013758063779533813, iteration run-time: 2.374e-6, total run-time: 0.00029731600000000005\n",
      "Iteration : 103, residual: 0.012851079640881835, iteration run-time: 2.629e-6, total run-time: 0.00029994500000000003\n",
      "Iteration : 104, residual: 0.01200388736253899, iteration run-time: 2.676e-6, total run-time: 0.00030262100000000004\n",
      "Iteration : 105, residual: 0.011212545236617188, iteration run-time: 2.977e-6, total run-time: 0.000305598\n",
      "Iteration : 106, residual: 0.010473371407613286, iteration run-time: 2.602e-6, total run-time: 0.0003082\n",
      "Iteration : 107, residual: 0.009782926742104792, iteration run-time: 2.804e-6, total run-time: 0.00031100400000000003\n",
      "Iteration : 108, residual: 0.009137998827327465, iteration run-time: 2.608e-6, total run-time: 0.00031361200000000006\n",
      "Iteration : 109, residual: 0.008535587025193081, iteration run-time: 2.951e-6, total run-time: 0.00031656300000000007\n",
      "Iteration : 110, residual: 0.007972888511062592, iteration run-time: 2.552e-6, total run-time: 0.0003191150000000001\n",
      "Iteration : 111, residual: 0.007447285233268985, iteration run-time: 2.972e-6, total run-time: 0.0003220870000000001\n",
      "Iteration : 112, residual: 0.006956331732055787, iteration run-time: 2.548e-6, total run-time: 0.0003246350000000001\n",
      "Iteration : 113, residual: 0.0064977437617415035, iteration run-time: 2.762e-6, total run-time: 0.0003273970000000001\n",
      "Iteration : 114, residual: 0.006069387662847703, iteration run-time: 2.807e-6, total run-time: 0.0003302040000000001\n",
      "Iteration : 115, residual: 0.005669270434907503, iteration run-time: 2.875e-6, total run-time: 0.0003330790000000001\n",
      "Iteration : 116, residual: 0.0052955304635702305, iteration run-time: 2.813e-6, total run-time: 0.0003358920000000001\n",
      "Iteration : 117, residual: 0.004946428859398111, iteration run-time: 2.792e-6, total run-time: 0.0003386840000000001\n",
      "Iteration : 118, residual: 0.004620341366944558, iteration run-time: 3.33e-6, total run-time: 0.00034201400000000013\n",
      "Iteration : 119, residual: 0.004315750808132179, iteration run-time: 2.676e-6, total run-time: 0.00034469000000000014\n",
      "Iteration : 120, residual: 0.004031240022925431, iteration run-time: 2.789e-6, total run-time: 0.00034747900000000015\n",
      "Iteration : 121, residual: 0.00376548527583509, iteration run-time: 2.759e-6, total run-time: 0.00035023800000000017\n",
      "Iteration : 122, residual: 0.0035172500972180387, iteration run-time: 2.641e-6, total run-time: 0.00035287900000000017\n",
      "Iteration : 123, residual: 0.003285379530211685, iteration run-time: 2.655e-6, total run-time: 0.0003555340000000002\n",
      "Iteration : 124, residual: 0.003068794757012938, iteration run-time: 2.574e-6, total run-time: 0.00035810800000000016\n",
      "Iteration : 125, residual: 0.0028664880797180103, iteration run-time: 2.776e-6, total run-time: 0.00036088400000000017\n",
      "Iteration : 126, residual: 0.002677518231621434, iteration run-time: 2.657e-6, total run-time: 0.00036354100000000016\n",
      "Iteration : 127, residual: 0.0025010059981127597, iteration run-time: 2.808e-6, total run-time: 0.00036634900000000013\n",
      "Iteration : 128, residual: 0.0023361301255135913, iteration run-time: 3.453e-6, total run-time: 0.00036980200000000013\n",
      "Iteration : 129, residual: 0.0021821235004608752, iteration run-time: 3.233e-6, total run-time: 0.00037303500000000013\n",
      "Iteration : 130, residual: 0.0020382695806802076, iteration run-time: 3.07e-6, total run-time: 0.0003761050000000001\n",
      "Iteration : 131, residual: 0.00190389906097721, iteration run-time: 3.127e-6, total run-time: 0.0003792320000000001\n",
      "Iteration : 132, residual: 0.001778386759440309, iteration run-time: 3.104e-6, total run-time: 0.0003823360000000001\n",
      "Iteration : 133, residual: 0.0016611487084503551, iteration run-time: 3.162e-6, total run-time: 0.0003854980000000001\n",
      "Iteration : 134, residual: 0.0015516394377641518, iteration run-time: 2.923e-6, total run-time: 0.0003884210000000001\n",
      "Iteration : 135, residual: 0.0014493494366547566, iteration run-time: 3.124e-6, total run-time: 0.00039154500000000014\n",
      "Iteration : 136, residual: 0.0013538027833135402, iteration run-time: 2.586e-6, total run-time: 0.00039413100000000015\n",
      "Iteration : 137, residual: 0.0012645549304863835, iteration run-time: 2.699e-6, total run-time: 0.00039683000000000014\n",
      "Iteration : 138, residual: 0.0011811906371690384, iteration run-time: 2.722e-6, total run-time: 0.0003995520000000001\n",
      "Iteration : 139, residual: 0.0011033220366698515, iteration run-time: 3.143e-6, total run-time: 0.0004026950000000001\n",
      "Iteration : 140, residual: 0.0010305868318027933, iteration run-time: 2.757e-6, total run-time: 0.0004054520000000001\n",
      "Iteration : 141, residual: 0.0009626466096506192, iteration run-time: 2.988e-6, total run-time: 0.0004084400000000001\n"
     ]
    },
    {
     "data": {
      "text/plain": [
       "QMDP.QMDPPolicy{MyTigerPOMDP,Int64}([199.986 89.9864 189.986; 89.9868 199.987 189.987],[1,2,3],MyTigerPOMDP(0.85,10.0,100.0))"
      ]
     },
     "execution_count": 8,
     "metadata": {},
     "output_type": "execute_result"
    }
   ],
   "source": [
    "solver = QMDPSolver(max_iterations=1000)\n",
    "problem = MyTigerPOMDP()\n",
    "policy = solve(solver, problem, verbose=true)"
   ]
  },
  {
   "cell_type": "code",
   "execution_count": 9,
   "metadata": {
    "collapsed": false
   },
   "outputs": [
    {
     "name": "stdout",
     "output_type": "stream",
     "text": [
      "rsum / 100 = 32.30941394248515\n"
     ]
    },
    {
     "data": {
      "text/plain": [
       "32.30941394248515"
      ]
     },
     "execution_count": 9,
     "metadata": {},
     "output_type": "execute_result"
    }
   ],
   "source": [
    "hr = HistoryRecorder(max_steps=100)\n",
    "rsum = 0\n",
    "for i in 1:100\n",
    "    hist = simulate(hr, problem, policy, filter)\n",
    "    rsum += discounted_reward(hist)\n",
    "end\n",
    "@show rsum/100"
   ]
  },
  {
   "cell_type": "code",
   "execution_count": null,
   "metadata": {
    "collapsed": true
   },
   "outputs": [],
   "source": []
  }
 ],
 "metadata": {
  "anaconda-cloud": {},
  "kernelspec": {
   "display_name": "Julia 0.5.1",
   "language": "julia",
   "name": "julia-0.5"
  },
  "language_info": {
   "file_extension": ".jl",
   "mimetype": "application/julia",
   "name": "julia",
   "version": "0.5.1"
  }
 },
 "nbformat": 4,
 "nbformat_minor": 1
}
