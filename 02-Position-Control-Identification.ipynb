{
 "cells": [
  {
   "cell_type": "markdown",
   "metadata": {},
   "source": [
    "## Control and Identification in Julia"
   ]
  },
  {
   "cell_type": "markdown",
   "metadata": {
    "heading_collapsed": true
   },
   "source": [
    "### DC motor"
   ]
  },
  {
   "cell_type": "markdown",
   "metadata": {
    "hidden": true
   },
   "source": [
    "In this tutorial we will model, identify and control the speed of a DC motor.\n",
    "We will cover the following topics\n",
    "\n",
    "- System modelling\n",
    "  - Representations\n",
    "  - Simulation\n",
    "  - Saving/loading data\n",
    "  \n",
    "  \n",
    "- System identification\n",
    "  - Transfer function estimation\n",
    "  - State space estimation\n",
    "\n",
    "\n",
    "- Control design\n",
    "  - Root locus\n",
    "  - Frequency domain (lead lag)\n",
    "  - Pole placement\n",
    "\n",
    "This tutorial is adapted from\n",
    "[Control Tutorials for Matlab and Simulink (CTMS)](http://ctms.engin.umich.edu/CTMS/index.php?example=MotorSpeed&section=SystemModeling)\n"
   ]
  },
  {
   "cell_type": "markdown",
   "metadata": {
    "heading_collapsed": true
   },
   "source": [
    "### Installation"
   ]
  },
  {
   "cell_type": "code",
   "execution_count": null,
   "metadata": {
    "collapsed": false,
    "hidden": true
   },
   "outputs": [],
   "source": [
    "Pkg.clone(\"https://github.com/JuliaSystems/SystemsBase.jl\")\n",
    "Pkg.clone(\"https://github.com/JuliaSystems/ControlToolbox.jl\")\n",
    "Pkg.clone(\"https://github.com/JuliaSystems/IdentificationToolbox.jl\")"
   ]
  },
  {
   "cell_type": "code",
   "execution_count": null,
   "metadata": {
    "collapsed": false,
    "hidden": true
   },
   "outputs": [],
   "source": [
    "Pkg.update()\n",
    "Pkg.checkout(\"RationalFunctions\")\n",
    "Pkg.checkout(\"PolynomialMatrices\")"
   ]
  },
  {
   "cell_type": "code",
   "execution_count": null,
   "metadata": {
    "collapsed": false,
    "hidden": true
   },
   "outputs": [],
   "source": [
    "using SystemsBase\n",
    "using ControlToolbox\n",
    "using IdentificationToolbox"
   ]
  },
  {
   "cell_type": "code",
   "execution_count": null,
   "metadata": {
    "collapsed": false,
    "hidden": true,
    "scrolled": true
   },
   "outputs": [],
   "source": [
    "using Plots\n",
    "pyplot()"
   ]
  },
  {
   "cell_type": "markdown",
   "metadata": {
    "heading_collapsed": true
   },
   "source": [
    "### JuliaSystems ecosystem"
   ]
  },
  {
   "cell_type": "markdown",
   "metadata": {
    "hidden": true
   },
   "source": [
    "What we aim for...\n",
    "\n",
    "\n",
    "<img src=\"assets/ecosystem.svg\" width=\"800\">"
   ]
  },
  {
   "cell_type": "markdown",
   "metadata": {
    "heading_collapsed": true
   },
   "source": [
    "### Dependencies"
   ]
  },
  {
   "cell_type": "markdown",
   "metadata": {
    "hidden": true
   },
   "source": [
    "What we rely on...\n",
    "\n",
    "<img src=\"assets/juliasystems.svg\" width=\"800\">"
   ]
  },
  {
   "cell_type": "markdown",
   "metadata": {},
   "source": [
    "### System modelling"
   ]
  },
  {
   "cell_type": "markdown",
   "metadata": {
    "heading_collapsed": true
   },
   "source": [
    "#### Physical setup"
   ]
  },
  {
   "cell_type": "markdown",
   "metadata": {
    "hidden": true
   },
   "source": [
    "For this example, we will assume that the input of the system is the voltage source (V) applied to the motor's armature, while the output is the rotational speed of the shaft d(theta)/dt. The rotor and shaft are assumed to be rigid. We further assume a viscous friction model, that is, the friction torque is proportional to shaft angular velocity.\n",
    "\n",
    "\n",
    "![title](figures/motor.png)\n",
    "\n",
    "Figure taken from [CTMS](http://ctms.engin.umich.edu/CTMS/index.php?example=MotorSpeed&section=SystemModeling).\n",
    "\n",
    "The physical constants are:\n",
    "\n",
    "| parameter     | description                     |  value         |\n",
    "| :------------ | :------------------------------ | :------------- |\n",
    "| J             | moment of inertia of the rotor  | 0.01 kg.m^2    |\n",
    "| b             | motor viscous friction constant | 0.1 N.m.s      |\n",
    "| Ke            | electromotive force constant    | 0.01 V/rad/sec |\n",
    "| Kt            | motor torque constant           | 0.01 N.m/Amp   |\n",
    "| R             | electric resistance             | 1 Ohm          |\n",
    "| L             | electric inductance             | 0.5 H          |\n"
   ]
  },
  {
   "cell_type": "markdown",
   "metadata": {
    "heading_collapsed": true
   },
   "source": [
    "#### System equations"
   ]
  },
  {
   "cell_type": "markdown",
   "metadata": {
    "hidden": true
   },
   "source": [
    "Motor torque is proportional to the armature current $i$ by a constant factor $Kt$\n",
    "\n",
    "$$\n",
    "T=K_{t}\n",
    "$$\n",
    "\n",
    "The back electromotive force, $e$, is proportional to the angular velocity of the shaft by a constant factor Ke.\n",
    "\n",
    "$$\n",
    "e = K_{e} \\dot{\\theta}\n",
    "$$\n",
    "\n",
    "In SI units, the motor torque and back electromotive force constant are equal, that is, $Kt = Ke$;\n",
    "therefore, we will use $K$ to represent both the motor torque constant and the back electromotive force constant.\n",
    "\n",
    "From the figure above, we can derive the following governing equations based on Newton's 2nd law\n",
    "and Kirchhoff's voltage law.\n",
    "\n",
    "$$\n",
    "J\\ddot{\\theta} + b \\dot{\\theta} = K i\n",
    "$$\n",
    "\n",
    "$$ L \\frac{di}{dt} + Ri = V - K\\dot{\\theta}$$"
   ]
  },
  {
   "cell_type": "markdown",
   "metadata": {},
   "source": [
    "### System representations"
   ]
  },
  {
   "cell_type": "markdown",
   "metadata": {
    "heading_collapsed": true
   },
   "source": [
    "#### Transfer function"
   ]
  },
  {
   "cell_type": "markdown",
   "metadata": {
    "hidden": true
   },
   "source": [
    "Applying the Laplace transform, the above modeling equations can be expressed in terms of the Laplace variable s.\n",
    "\n",
    "$$ s(Js + b)\\Theta(s) = KI(s) $$\n",
    "\n",
    "$$ (Ls + R)I(s) = V(s) - Ks\\Theta(s) $$\n",
    "\n",
    "We arrive at the following open-loop transfer function by eliminating I(s) between the two above equations, where the rotational speed is considered the output and the armature voltage is considered the input.\n",
    "\n",
    "$$\n",
    "P(s) = \\frac {\\dot{\\Theta}(s)}{V(s)} = \\frac{K}{(Js + b)(Ls + R) + K^2} \\qquad \\left[ \\frac{rad/sec}{V} \\right]\n",
    "$$"
   ]
  },
  {
   "cell_type": "code",
   "execution_count": null,
   "metadata": {
    "collapsed": false,
    "hidden": true
   },
   "outputs": [],
   "source": [
    "s = tf([1,0], 1)\n",
    "\n",
    "J = 0.01\n",
    "b = 0.1\n",
    "K = 0.01\n",
    "R = 1.\n",
    "L = 0.5\n",
    "\n",
    "Ptf = K/((J*s+b)*(L*s+R)+K^2)"
   ]
  },
  {
   "cell_type": "markdown",
   "metadata": {
    "heading_collapsed": true
   },
   "source": [
    "#### State-space"
   ]
  },
  {
   "cell_type": "markdown",
   "metadata": {
    "hidden": true
   },
   "source": [
    "In state-space form, the governing equations above can be expressed by choosing the rotational speed and electric current as the state variables. \n",
    "\n",
    "$$\n",
    "\\frac{d}{dt}\n",
    "\\begin{bmatrix} \\dot{\\theta} \\\\ i \\end{bmatrix}\n",
    "    =\n",
    "\\begin{bmatrix}\n",
    "    -\\frac{b}{J} & \\frac{K}{J} \\\\\n",
    "    -\\frac{K}{L} & -\\frac{R}{L}\n",
    "\\end{bmatrix}\n",
    "\\begin{bmatrix} \\dot{\\theta} \\\\  i \\end{bmatrix}  +\n",
    "\\begin{bmatrix} 0 \\\\ \\frac{1}{L} \\end{bmatrix} V\n",
    "$$\n",
    "\n",
    "$$\n",
    "y =\n",
    "\\begin{bmatrix} 1 & 0 \\end{bmatrix}\n",
    "\\begin{bmatrix} \\dot{\\theta} \\\\ i \\end{bmatrix}\n",
    "$$"
   ]
  },
  {
   "cell_type": "code",
   "execution_count": null,
   "metadata": {
    "collapsed": false,
    "hidden": true
   },
   "outputs": [],
   "source": [
    "A = [-b/J   K/J;\n",
    "    -K/L   -R/L]\n",
    "B = [0 1/L].'\n",
    "C = [1. 0]\n",
    "D = 0.\n",
    "\n",
    "Pss = ss(A,B,C,D)"
   ]
  },
  {
   "cell_type": "markdown",
   "metadata": {
    "heading_collapsed": true
   },
   "source": [
    "#### Design requirements"
   ]
  },
  {
   "cell_type": "markdown",
   "metadata": {
    "hidden": true
   },
   "source": [
    "For a unit step command in motor speed, the control system's output should meet the following requirements.\n",
    "\n",
    "- Settling time less than 2 seconds\n",
    "- Overshoot less than 5%\n",
    "- Steady-state error less than 1%"
   ]
  },
  {
   "cell_type": "markdown",
   "metadata": {
    "heading_collapsed": true
   },
   "source": [
    "#### Open loop characteristics"
   ]
  },
  {
   "cell_type": "code",
   "execution_count": null,
   "metadata": {
    "collapsed": false,
    "hidden": true
   },
   "outputs": [],
   "source": [
    "plot(pzmap(Pss), xlim = (-10, 10), ylim = (-10,10))"
   ]
  },
  {
   "cell_type": "markdown",
   "metadata": {
    "hidden": true
   },
   "source": [
    "Because of the dominant pole, the open loop system behaves very much like the first order system\n",
    "\n",
    "$$\n",
    "\\frac{0.1}{0.5s +1}\n",
    "$$"
   ]
  },
  {
   "cell_type": "code",
   "execution_count": null,
   "metadata": {
    "collapsed": false,
    "hidden": true,
    "scrolled": true
   },
   "outputs": [],
   "source": [
    "Psimple = tf([0.1],[0.5, 1])\n",
    "\n",
    "plot(step(Pss, (0., 10.)))\n",
    "plot!(step(Psimple, (0., 10.)), label = \"Psimple\")"
   ]
  },
  {
   "cell_type": "markdown",
   "metadata": {
    "heading_collapsed": true
   },
   "source": [
    "### Simulation"
   ]
  },
  {
   "cell_type": "markdown",
   "metadata": {
    "hidden": true
   },
   "source": [
    "We will now generate some data that can be used for identification"
   ]
  },
  {
   "cell_type": "code",
   "execution_count": null,
   "metadata": {
    "collapsed": false,
    "hidden": true
   },
   "outputs": [],
   "source": [
    "sln = simulate(Pss, (0., 40.), input = (t,x)->sin(0.4t)+sin(t) + sin(3t) + sin(5t), saveat = 0.05)\n",
    "writecsv(\"collected-data.csv\", [sln.t sln.y sln.u])"
   ]
  },
  {
   "cell_type": "code",
   "execution_count": null,
   "metadata": {
    "collapsed": false,
    "hidden": true,
    "scrolled": true
   },
   "outputs": [],
   "source": [
    "plot(sln, inputs = [1])"
   ]
  },
  {
   "cell_type": "markdown",
   "metadata": {},
   "source": [
    "### System identification"
   ]
  },
  {
   "cell_type": "markdown",
   "metadata": {
    "heading_collapsed": true
   },
   "source": [
    "#### Loading data"
   ]
  },
  {
   "cell_type": "code",
   "execution_count": null,
   "metadata": {
    "collapsed": false,
    "hidden": true
   },
   "outputs": [],
   "source": [
    "data, header = readcsv(\"collected-data.csv\", header=true)\n",
    "N   = size(data,1)\n",
    "\n",
    "t   = data[:,1]\n",
    "u   = data[:,3]\n",
    "y0  = data[:,2]\n",
    "y   = y0 + 0.3*randn(N) # add some noise\n",
    "\n",
    "plot(t, [y u y0], layout = (2,1), label = [\"y\" \"u\" \"y0\"] )"
   ]
  },
  {
   "cell_type": "markdown",
   "metadata": {
    "heading_collapsed": true
   },
   "source": [
    "#### Split data"
   ]
  },
  {
   "cell_type": "markdown",
   "metadata": {
    "hidden": true
   },
   "source": [
    "Split data into identification and validation part"
   ]
  },
  {
   "cell_type": "code",
   "execution_count": null,
   "metadata": {
    "collapsed": false,
    "hidden": true
   },
   "outputs": [],
   "source": [
    "Ni  = 400\n",
    "\n",
    "ti  = t[1:Ni]\n",
    "ui  = u[1:Ni]\n",
    "yi0 = y0[1:Ni]\n",
    "yi  = y[1:Ni]\n",
    "\n",
    "tv  = t[Ni+1:end]\n",
    "uv  = u[Ni+1:end]\n",
    "yv0 = y0[Ni+1:end]\n",
    "yv  = y[Ni+1:end]\n",
    "\n",
    "Ts    = 0.5\n",
    "datai = iddata(yi,ui,Ts)\n",
    "datav = iddata(yv,uv,Ts)"
   ]
  },
  {
   "cell_type": "markdown",
   "metadata": {
    "heading_collapsed": true
   },
   "source": [
    "#### Transfer function identification"
   ]
  },
  {
   "cell_type": "markdown",
   "metadata": {
    "hidden": true
   },
   "source": [
    "We identify a transfer function model of order 2\n",
    "$$\n",
    "    P(z) = \\frac{b_0 z^{-1} + b_1 z^{-2}}{1 + f_1 z^{-1} + f_2 z^{-2}}\n",
    "$$\n",
    "\n",
    "We asssume that we know that the noise is white noise.\n",
    "This is an Output-Error model."
   ]
  },
  {
   "cell_type": "code",
   "execution_count": null,
   "metadata": {
    "collapsed": false,
    "hidden": true
   },
   "outputs": [],
   "source": [
    "model   = OE(2,2,1)\n",
    "\n",
    "Ptfinit = morsm(datai, model)\n",
    "Ptfid   = pem(datai, Ptfinit)\n",
    "Pss2    = ss(Ptfid)"
   ]
  },
  {
   "cell_type": "markdown",
   "metadata": {
    "heading_collapsed": true
   },
   "source": [
    "#### Compare prediction on validation data"
   ]
  },
  {
   "cell_type": "code",
   "execution_count": null,
   "metadata": {
    "collapsed": false,
    "hidden": true
   },
   "outputs": [],
   "source": [
    "ŷ = predict(datav, Ptfid)[:]\n",
    "plot(tv, [yv0 yv ŷ], layout = (2,1), label = [\"\\$y_{0}\\$\" \"y\" \"\\$\\\\hat{y}\\$\"])"
   ]
  },
  {
   "cell_type": "markdown",
   "metadata": {
    "heading_collapsed": true
   },
   "source": [
    "#### State-space identification"
   ]
  },
  {
   "cell_type": "markdown",
   "metadata": {
    "hidden": true
   },
   "source": [
    "**Note.** State space identification (n4sid) is work in progress"
   ]
  },
  {
   "cell_type": "code",
   "execution_count": null,
   "metadata": {
    "collapsed": true,
    "hidden": true
   },
   "outputs": [],
   "source": [
    "# Pssid = n4sid(datai, 2)\n",
    "# Pssid = ss(Pssid);"
   ]
  },
  {
   "cell_type": "markdown",
   "metadata": {
    "heading_collapsed": true
   },
   "source": [
    "#### Discretize true system"
   ]
  },
  {
   "cell_type": "code",
   "execution_count": null,
   "metadata": {
    "collapsed": false,
    "hidden": true
   },
   "outputs": [],
   "source": [
    "Ts = 0.05\n",
    "Pssd, xomap = c2d(Pss, Ts)\n",
    "Pssd"
   ]
  },
  {
   "cell_type": "code",
   "execution_count": null,
   "metadata": {
    "collapsed": false,
    "hidden": true
   },
   "outputs": [],
   "source": [
    "plot(simulate(Pssd, (0.,10.), input = (t,x)->sin(t) + sin(3t) + sin(5t)))"
   ]
  },
  {
   "cell_type": "markdown",
   "metadata": {
    "heading_collapsed": true
   },
   "source": [
    "#### Discretization continued"
   ]
  },
  {
   "cell_type": "code",
   "execution_count": null,
   "metadata": {
    "collapsed": false,
    "hidden": true
   },
   "outputs": [],
   "source": [
    "?c2d"
   ]
  },
  {
   "cell_type": "code",
   "execution_count": null,
   "metadata": {
    "collapsed": false,
    "hidden": true
   },
   "outputs": [],
   "source": [
    "Pssd, xomap = c2d(Pss, Ts, Discretization.Bilinear()) # ZOH by default\n",
    "\n",
    "discretizer = Discretization.ZOH()\n",
    "\n",
    "Pssd, xomap = discretizer(Pss, Ts)\n",
    "Pssd"
   ]
  },
  {
   "cell_type": "markdown",
   "metadata": {},
   "source": [
    "### Root locus"
   ]
  },
  {
   "cell_type": "markdown",
   "metadata": {
    "heading_collapsed": true
   },
   "source": [
    "#### P-controller"
   ]
  },
  {
   "cell_type": "markdown",
   "metadata": {
    "hidden": true
   },
   "source": [
    "We investigate the behaviour of a simple proportional controller in the feedback loop:\n",
    "\n",
    "![title](figures/MotorSpeed_ControlRootLocus_feedback_motors.png)\n",
    "\n",
    "(Figure taken from [CTMS](http://ctms.engin.umich.edu/CTMS/index.php?example=MotorSpeed&section=ControlRootLocus)),\n",
    "where\n",
    "$$\n",
    "C(s) = c\n",
    "$$"
   ]
  },
  {
   "cell_type": "code",
   "execution_count": null,
   "metadata": {
    "collapsed": false,
    "hidden": true
   },
   "outputs": [],
   "source": [
    "rl = rootlocus(Ptf)\n",
    "animate(rl, \"rootlocus.gif\")"
   ]
  },
  {
   "cell_type": "markdown",
   "metadata": {
    "hidden": true
   },
   "source": [
    "To make the system faster without too much overshoot we try to place the poles at $-6\\pm 2j$"
   ]
  },
  {
   "cell_type": "code",
   "execution_count": null,
   "metadata": {
    "collapsed": false,
    "hidden": true
   },
   "outputs": [],
   "source": [
    "c = 10\n",
    "rl(c)"
   ]
  },
  {
   "cell_type": "code",
   "execution_count": null,
   "metadata": {
    "collapsed": false,
    "hidden": true
   },
   "outputs": [],
   "source": [
    "Pcl = feedback(Ptf*c,1)\n",
    "plot(step(ss(Pcl), (0., 10.)))"
   ]
  },
  {
   "cell_type": "markdown",
   "metadata": {
    "heading_collapsed": true
   },
   "source": [
    "#### Lag compensator"
   ]
  },
  {
   "cell_type": "markdown",
   "metadata": {
    "hidden": true
   },
   "source": [
    "In the above we saw that the overshoot and settling time criteria were met with the proportional controller,\n",
    "but the steady-state error requirement was not.\n",
    "A lag compensator is one type of controller known to be able to reduce steady-state error.\n",
    "\n",
    "$$ C(s) = \\frac {s + 1} { s + 0.01 } $$"
   ]
  },
  {
   "cell_type": "code",
   "execution_count": null,
   "metadata": {
    "collapsed": false,
    "hidden": true
   },
   "outputs": [],
   "source": [
    "C = tf([1, 1.], [1., .01])\n",
    "rl = rootlocus(Ptf*C)\n",
    "\n",
    "plotly()\n",
    "plot(rl)"
   ]
  },
  {
   "cell_type": "markdown",
   "metadata": {
    "hidden": true
   },
   "source": [
    "We pick the gain 44."
   ]
  },
  {
   "cell_type": "code",
   "execution_count": null,
   "metadata": {
    "collapsed": false,
    "hidden": true
   },
   "outputs": [],
   "source": [
    "pyplot()\n",
    "Pcl = feedback(44*Ptf*C,1)\n",
    "plot(step(ss(Pcl), (0., 10.)))"
   ]
  },
  {
   "cell_type": "markdown",
   "metadata": {},
   "source": [
    "### Frequency domain"
   ]
  },
  {
   "cell_type": "markdown",
   "metadata": {
    "heading_collapsed": true
   },
   "source": [
    "#### Frequency evaluation"
   ]
  },
  {
   "cell_type": "markdown",
   "metadata": {
    "hidden": true
   },
   "source": [
    "Here we will design a lag compensator using frequency domain methods."
   ]
  },
  {
   "cell_type": "code",
   "execution_count": null,
   "metadata": {
    "collapsed": false,
    "hidden": true
   },
   "outputs": [],
   "source": [
    "# Pss(s = 10)\n",
    "Pss(10)"
   ]
  },
  {
   "cell_type": "code",
   "execution_count": null,
   "metadata": {
    "collapsed": false,
    "hidden": true
   },
   "outputs": [],
   "source": [
    "# Pss(s = iω)\n",
    "Pss(ω = 10)"
   ]
  },
  {
   "cell_type": "code",
   "execution_count": null,
   "metadata": {
    "collapsed": false,
    "hidden": true
   },
   "outputs": [],
   "source": [
    "# Pss(s = iω)\n",
    "freqresp(Ptf, 10)"
   ]
  },
  {
   "cell_type": "markdown",
   "metadata": {
    "heading_collapsed": true
   },
   "source": [
    "#### Nyquist curve"
   ]
  },
  {
   "cell_type": "code",
   "execution_count": null,
   "metadata": {
    "collapsed": false,
    "hidden": true
   },
   "outputs": [],
   "source": [
    "ω = logspace(-6, 6, 1000)\n",
    "plot(nyquist(Pss, ω))"
   ]
  },
  {
   "cell_type": "markdown",
   "metadata": {
    "heading_collapsed": true
   },
   "source": [
    "#### Bode diagram"
   ]
  },
  {
   "cell_type": "code",
   "execution_count": null,
   "metadata": {
    "collapsed": false,
    "hidden": true
   },
   "outputs": [],
   "source": [
    "br = bode(Pss, ω)\n",
    "plot(br)"
   ]
  },
  {
   "cell_type": "markdown",
   "metadata": {
    "hidden": true
   },
   "source": [
    "A phase margin of 60 degrees is achieved for a crossover frequency of approximately 10 rad/sec. The gain should be increased approximately 40 dB."
   ]
  },
  {
   "cell_type": "code",
   "execution_count": null,
   "metadata": {
    "collapsed": false,
    "hidden": true
   },
   "outputs": [],
   "source": [
    "C = 1/0.01\n",
    "Pcl = feedback(C*Ptf,1)\n",
    "plot(step(Pcl, (0., 10.)))"
   ]
  },
  {
   "cell_type": "markdown",
   "metadata": {
    "hidden": true
   },
   "source": [
    "Note that the settling time is fast enough, but the overshoot and the steady-state error are too high. But can be fixed with a lag compensator."
   ]
  },
  {
   "cell_type": "markdown",
   "metadata": {
    "heading_collapsed": true
   },
   "source": [
    "#### Lag compensator"
   ]
  },
  {
   "cell_type": "markdown",
   "metadata": {
    "hidden": true
   },
   "source": [
    "Consider the following lag compensator:\n",
    "\n",
    "$$ C(s) = \\frac {s + 1} { s + 0.01 } $$\n",
    "\n",
    "This lag compensator has a DC gain of 1/0.01 = 100 and will only add minor phase to around the crossover frequency of 10 rad/sec."
   ]
  },
  {
   "cell_type": "code",
   "execution_count": null,
   "metadata": {
    "collapsed": false,
    "hidden": true
   },
   "outputs": [],
   "source": [
    "C = 45*(s + 1)/(s + 0.01)\n",
    "Pcl = feedback(C*Ptf,1)\n",
    "plot(step(Pcl, (0., 10.)))"
   ]
  },
  {
   "cell_type": "markdown",
   "metadata": {},
   "source": [
    "### Pole placement"
   ]
  },
  {
   "cell_type": "markdown",
   "metadata": {
    "heading_collapsed": true
   },
   "source": [
    "#### Check controllability"
   ]
  },
  {
   "cell_type": "markdown",
   "metadata": {
    "hidden": true
   },
   "source": [
    "Since both of the state variables in our problem are easy to measure (simply add an ammeter for current and a tachometer for the speed), we can design a full-state feedback controller for the system without worrying about having to add an observer. The control law for a full-state feedback system has the form \n",
    "\n",
    "$$ u = r - Kc x $$ \n",
    "\n",
    "and the associated schematic is shown below.\n",
    "\n",
    "![title](figures/statefeedback_motors.png)\n",
    "\n",
    "Figure taken from [CTSM](http://ctms.engin.umich.edu/CTMS/index.php?example=MotorSpeed&section=ControlStateSpace)."
   ]
  },
  {
   "cell_type": "code",
   "execution_count": null,
   "metadata": {
    "collapsed": false,
    "hidden": true
   },
   "outputs": [],
   "source": [
    "A = [-b/J   K/J\n",
    "    -K/L   -R/L]\n",
    "B = [0 1/L].'\n",
    "C = [1. 0]\n",
    "D = 0.\n",
    "Pss = ss(A,B,C,D)\n",
    "\n",
    "sys_order = numstates(Pss)\n",
    "sys_rank  = rank(controllability(Pss))\n",
    "\n",
    "sys_order == sys_rank"
   ]
  },
  {
   "cell_type": "markdown",
   "metadata": {
    "hidden": true
   },
   "source": [
    "We try to place the poles on the real axis. "
   ]
  },
  {
   "cell_type": "markdown",
   "metadata": {
    "heading_collapsed": true
   },
   "source": [
    "#### Place poles"
   ]
  },
  {
   "cell_type": "code",
   "execution_count": null,
   "metadata": {
    "collapsed": false,
    "hidden": true
   },
   "outputs": [],
   "source": [
    "Kc = place(A,B,[-6,-6])"
   ]
  },
  {
   "cell_type": "code",
   "execution_count": null,
   "metadata": {
    "collapsed": false,
    "hidden": true
   },
   "outputs": [],
   "source": [
    "Pcl = ss(A-B*Kc,B,C,D)"
   ]
  },
  {
   "cell_type": "code",
   "execution_count": null,
   "metadata": {
    "collapsed": false,
    "hidden": true
   },
   "outputs": [],
   "source": [
    "poles(Pcl)"
   ]
  },
  {
   "cell_type": "code",
   "execution_count": null,
   "metadata": {
    "collapsed": false,
    "hidden": true
   },
   "outputs": [],
   "source": [
    "?place"
   ]
  },
  {
   "cell_type": "code",
   "execution_count": null,
   "metadata": {
    "collapsed": false,
    "hidden": true
   },
   "outputs": [],
   "source": [
    "plot(step(Pcl, (0., 10.)))"
   ]
  },
  {
   "cell_type": "markdown",
   "metadata": {
    "heading_collapsed": true
   },
   "source": [
    "#### Correct dc gain"
   ]
  },
  {
   "cell_type": "markdown",
   "metadata": {
    "hidden": true
   },
   "source": [
    "To get the the correct steady state, we calculate the dcgain of the closed loop system and set the final control law to \n",
    "\n",
    "$$ u = \\bar{N} r - Kc x $$ \n",
    "\n",
    "where $\\bar{N}$ = 1/dcgain(Pcl)."
   ]
  },
  {
   "cell_type": "code",
   "execution_count": null,
   "metadata": {
    "collapsed": false,
    "hidden": true
   },
   "outputs": [],
   "source": [
    "N̄ = 1/dcgain(Pcl)\n",
    "Pcl = N̄*Pcl\n",
    "plot(step(Pcl, (0., 10.)))"
   ]
  },
  {
   "cell_type": "markdown",
   "metadata": {},
   "source": [
    "### Advanced topics"
   ]
  },
  {
   "cell_type": "markdown",
   "metadata": {
    "heading_collapsed": true
   },
   "source": [
    "#### Simulation"
   ]
  },
  {
   "cell_type": "code",
   "execution_count": null,
   "metadata": {
    "collapsed": false,
    "hidden": true
   },
   "outputs": [],
   "source": [
    "sim = simulate(Pcl, (0.,10.), tstops = [1,4]) do t,x\n",
    "    1 ≤ t ≤ 4 ? one(t) : zero(t)\n",
    "end\n",
    "plot(sim, inputs = [1], states = [1,2])"
   ]
  },
  {
   "cell_type": "code",
   "execution_count": null,
   "metadata": {
    "collapsed": false,
    "hidden": true,
    "scrolled": true
   },
   "outputs": [],
   "source": [
    "mysignal = Signals.Step(1.,2.) - Signals.Ramp(3.,2) + Signals.Ramp(4., 3) -\n",
    "    Signals.Ramp(6.,1.) - Signals.Step(8.0,2.)\n",
    "sim = simulate(Pcl, (0.,10.), input = mysignal)\n",
    "plot(sim, inputs = [1], states = [1,2])"
   ]
  },
  {
   "cell_type": "markdown",
   "metadata": {
    "heading_collapsed": true
   },
   "source": [
    "#### Identification"
   ]
  },
  {
   "cell_type": "code",
   "execution_count": null,
   "metadata": {
    "collapsed": true,
    "hidden": true
   },
   "outputs": [],
   "source": [
    "function cost(data, model, x, options)\n",
    "  y_est = predict(data, model, x, options)\n",
    "  value(options.loss_function, data.y, y_est)\n",
    "end\n",
    "\n",
    "function pem(data, model, x0, options)\n",
    "    costf = x->cost(data, model, x, options)\n",
    "    opt = optimize(costf, x0, Newton(), options)\n",
    "    give_me_idmodel(model, opt, options)\n",
    "end"
   ]
  },
  {
   "cell_type": "code",
   "execution_count": null,
   "metadata": {
    "collapsed": false,
    "hidden": true
   },
   "outputs": [],
   "source": [
    "Ptf = pem(datai, Ptfinit, IdOptions(loss_function = HuberLoss()))\n",
    "ss(Ptf)"
   ]
  },
  {
   "cell_type": "markdown",
   "metadata": {},
   "source": [
    "### Implemented and planned features"
   ]
  },
  {
   "cell_type": "markdown",
   "metadata": {
    "heading_collapsed": true
   },
   "source": [
    "#### Control and base functionality"
   ]
  },
  {
   "cell_type": "markdown",
   "metadata": {
    "hidden": true
   },
   "source": [
    "| Functionality                  | Implementation status      |\n",
    "| :----------------------------- | :------------------------: |\n",
    "|                                |                            |\n",
    "| Representations                |                            |\n",
    "| state-space                    | yes                        |\n",
    "| transfer function              | yes                        |\n",
    "| matrix fraction description    | yes                        |\n",
    "| models with time delays        | no                         |\n",
    "|                                |                            |\n",
    "| Interconnections               |                            |\n",
    "| series                         | yes                        |\n",
    "| parallel                       | yes                        |\n",
    "| feedback                       | yes                        |\n",
    "| lft                            | no                         |\n",
    "|                                |                            |\n",
    "| Simulation                     |                            |\n",
    "| simulate transfer function     | yes                        |\n",
    "| simulate state-space           | yes                        |\n",
    "| simulate MFD                   | work in progress           |\n",
    "| step                           | yes                        |\n",
    "| ramp                           | yes                        |\n",
    "| sinusoidal                     | work in progress           |\n",
    "| PRBS                           | work in progress           |\n",
    "| impulse                        | work in progress           |\n",
    "|                                |                            |\n",
    "| Frequency domain analysis      |                            |\n",
    "| Bode                           | yes                        |\n",
    "| Nyquist                        | yes                        |\n",
    "| Nichols                        | no                         |\n",
    "| frequency evaluations          | yes                        |\n",
    "| norm                           | future work                |\n",
    "|                                |                            |\n",
    "| Continuous-discrete conversion |                            |\n",
    "| c2d                            | yes                        |\n",
    "| d2c                            | yes                        |\n",
    "| resampling discrete model      | no                         |\n",
    "|                                |                            |\n",
    "| Model reduction                |                            |\n",
    "| minimal realization            | yes                        |\n",
    "| balanced reduction             | no                         |\n",
    "|                                |                            |\n",
    "| Stability analysis             |                            |\n",
    "| poles                          | yes                        |\n",
    "| zeros                          | yes                        |\n",
    "| transmission zeros             | yes                        |\n",
    "| pole zero map                  | yes                        |\n",
    "|                                |                            |\n",
    "| Control system design          |                            |\n",
    "| PID design                     | future work                |\n",
    "| root locus                     | yes                        |\n",
    "| pole placement                 | yes                        |\n",
    "| LQR/LQG                        | future work                |\n",
    "|                                |                            |\n",
    "| Matrix computations            |                            |\n",
    "| controllability/observability  | yes                        |\n",
    "| gramians                       | yes                        |\n",
    "| Riccati equation solvers       | yes (could use an upgrade) |\n",
    "| Lyapunov equation solvers      | yes (could use an upgrade) | \n",
    "\n",
    "\n",
    "| Extensions                     | Implementation status      |\n",
    "| :----------------------------- | :------------------------: |\n",
    "|                                |                            |\n",
    "| Robust control                 | no                         |\n",
    "| Optimal control                | no                         |\n",
    "| Model predictive control       | work in progress           |"
   ]
  },
  {
   "cell_type": "markdown",
   "metadata": {
    "heading_collapsed": true
   },
   "source": [
    "#### System identification"
   ]
  },
  {
   "cell_type": "markdown",
   "metadata": {
    "hidden": true
   },
   "source": [
    "| Functionality                   | Implementation status      |\n",
    "| :------------------------------ | :------------------------: |\n",
    "|                                 |                            |\n",
    "| Data processing                 |                            |\n",
    "| detrend                         | yes                        |\n",
    "| fft                             | yes (Julia)                |\n",
    "| ifft                            | yes (Julia)                |\n",
    "|                                 |                            |\n",
    "| Input generation                |                            |\n",
    "| PRBS                            | work in progress           |\n",
    "| random phase multi sine         | work in progress           |\n",
    "| input design                    | no                         |\n",
    "|                                 |                            |\n",
    "| Polynomial models               |                            |\n",
    "| prediction error method         | yes                        |\n",
    "| instrumental variable           | work in progress           |\n",
    "|                                 |                            |\n",
    "| State-space                     |                            |\n",
    "| n4sid                           | work in progress           |\n",
    "|                                 |                            |\n",
    "| Frequency domain                |                            |\n",
    "| etfe                            | no                         |\n",
    "| spectral analysis               | no                         |\n",
    "|                                 |                            |\n",
    "| Model validation                |                            |\n",
    "| compare models                  | work in progress           |\n",
    "| residual analysis               | no                         |\n",
    "| parameter covariances           | no                         |\n",
    "| confidence regions              | no                         |\n",
    "|                                 |                            |\n",
    "| Model selection                 |                            |\n",
    "| Akaike's final prediction error | no                         |\n",
    "| Akaike's Information Criterion  | no                         |\n",
    "|                                 |                            |\n",
    "| Online estimation               |                            |\n",
    "| recursive OE etc.               | no                         |\n",
    "\n",
    "\n",
    "| Extensions                     | Implementation status      |\n",
    "| :----------------------------- | :------------------------: |\n",
    "|                                |                            |\n",
    "| Nonlinear models               | no                         |\n",
    "| Bayesian estimation            | no                         |"
   ]
  }
 ],
 "metadata": {
  "kernelspec": {
   "display_name": "Julia 0.5.1",
   "language": "julia",
   "name": "julia-0.5"
  },
  "language_info": {
   "file_extension": ".jl",
   "mimetype": "application/julia",
   "name": "julia",
   "version": "0.5.1"
  }
 },
 "nbformat": 4,
 "nbformat_minor": 2
}
