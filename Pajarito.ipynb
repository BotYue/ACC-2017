{
 "cells": [
  {
   "cell_type": "markdown",
   "metadata": {},
   "source": [
    "# Pajarito Solver\n",
    "\n",
    "See https://github.com/JuliaOpt/Pajarito.jl\n",
    "\n",
    "Pajarito is a mixed-integer convex programming (MICP) solver package written in Julia.\n",
    "\n",
    "MICP problems are convex except for restrictions that some variables take binary or integer values. Pajarito supports both mixed-integer conic programming, which encodes nonlinearities using a small number of predefined cones, and more traditional convex mixed-integer nonlinear programming, which encodes nonlinearities with smooth functions and uses their derivatives.\n",
    "\n",
    "Pajarito solves MICP problems by constructing sequential lifted polyhedral outer-approximations of the convex feasible set to leverage the power of MILP solvers. The algorithm has theoretical finite-time convergence under reasonable assumptions. Pajarito accesses state-of-the-art MILP solvers and continuous conic or nonlinear programming (NLP) solvers through the MathProgBase interface.\n",
    "\n"
   ]
  },
  {
   "cell_type": "markdown",
   "metadata": {},
   "source": [
    "## Optimal experimental design\n",
    "\n",
    "Featured in Pajarito examples folder at https://github.com/JuliaOpt/Pajarito.jl/blob/master/examples/expdesign.jl\n",
    "\n",
    "Experimental design examples (D-optimal, A-optimal, and E-optimal) from Boyd and Vandenberghe, \"Convex Optimization\", section 7.5 (CVX code adapted from expdesign.m by Lieven Vandenberghe and Almir Mutapcic)\n",
    "\n",
    "`D-optimal design' minimizes the volume of a confidence ellipsoid defined by the error covariance (Fisher matrix):\n",
    "\n",
    "$$ \n",
    "\\max \\quad \\log \\det \\sum_i \\lambda_i V_i V_i^T\n",
    "\\\\\n",
    "s.t. \\quad \\sum_i \\lambda_i = 1,\\quad \\lambda_i \\geq 0, \\forall i\n",
    "$$\n"
   ]
  },
  {
   "cell_type": "markdown",
   "metadata": {},
   "source": [
    "### Install packages"
   ]
  },
  {
   "cell_type": "code",
   "execution_count": null,
   "metadata": {
    "collapsed": false
   },
   "outputs": [],
   "source": [
    "Pkg.update()\n",
    "Pkg.add(\"Convex\")\n",
    "Pkg.add(\"Pajarito\")\n",
    "Pkg.checkout(\"Pajarito\")\n",
    "Pkg.add(\"Cbc\")\n",
    "Pkg.checkout(\"Cbc\")\n",
    "Pkg.add(\"SCS\")"
   ]
  },
  {
   "cell_type": "markdown",
   "metadata": {},
   "source": [
    "### Specify MICP solver"
   ]
  },
  {
   "cell_type": "code",
   "execution_count": null,
   "metadata": {
    "collapsed": false
   },
   "outputs": [],
   "source": [
    "using Cbc\n",
    "mip_solver = CbcSolver(logLevel=0)\n",
    "\n",
    "using SCS\n",
    "cont_solver = SCSSolver(eps=1e-6, max_iters=100000, verbose=0)\n",
    "\n",
    "using Pajarito\n",
    "solver = PajaritoSolver(\n",
    "    mip_solver_drives=false,\n",
    "    log_level=3,\n",
    "    rel_gap=1e-4,\n",
    "    mip_solver=mip_solver,\n",
    "    cont_solver=cont_solver,\n",
    ")"
   ]
  },
  {
   "cell_type": "markdown",
   "metadata": {},
   "source": [
    "### Specify/generate data"
   ]
  },
  {
   "cell_type": "code",
   "execution_count": null,
   "metadata": {
    "collapsed": true
   },
   "outputs": [],
   "source": [
    "# Uncomment only the line with the desired data dimensions\n",
    "(q, p, n, nmax) = (\n",
    "    # 100, 250, 500, 5   # Huge\n",
    "    # 25, 75, 125, 5     # Large\n",
    "    # 10, 30, 50, 5      # Medium\n",
    "    # 5, 15, 25, 5       # Small\n",
    "    4, 8, 12, 3        # Tiny\n",
    ")\n",
    "@assert (p > q) && (n > q)\n",
    "\n",
    "# Generate matrix of experimental vectors\n",
    "# Change or comment random seed to get different random V matrix\n",
    "srand(100)\n",
    "\n",
    "V = Array{Float64}(q, p)\n",
    "for i in 1:q, j in 1:p\n",
    "    v = randn()\n",
    "    if abs(v) < 1e-2\n",
    "        v = 0.\n",
    "    end\n",
    "    V[i, j] = v\n",
    "end"
   ]
  },
  {
   "cell_type": "markdown",
   "metadata": {},
   "source": [
    "### Model with Convex.jl and solve"
   ]
  },
  {
   "cell_type": "code",
   "execution_count": null,
   "metadata": {
    "collapsed": false
   },
   "outputs": [],
   "source": [
    "using Convex\n",
    "\n",
    "λ = Convex.Variable(p, :Int)\n",
    "Q = Convex.Variable(q, q)\n",
    "\n",
    "dOpt = maximize(\n",
    "    logdet(Q),\n",
    "    Q == V * diagm(λ./n) * V',\n",
    "    sum(λ) <= n,\n",
    "    λ >= 0,\n",
    "    λ <= nmax\n",
    ")\n",
    "\n",
    "solve!(dOpt, solver)\n",
    "println(\"\\n  objective $(dOpt.optval)\")\n",
    "println(\"  solution\\n$(λ.value)\")"
   ]
  },
  {
   "cell_type": "markdown",
   "metadata": {},
   "source": [
    "## Sum of squares trajectory planning\n",
    "\n",
    "Credit to Joey Huchette for Julia code, and Robin Deits and Prof. Russ Tedrake (MIT) and collaborators for the quadrotor application (see http://groups.csail.mit.edu/robotics-center/public_papers/Landry15b.pdf)\n",
    "\n",
    "A short video provides an overview: https://www.youtube.com/watch?v=7epTZM0yHA4\n",
    "\n",
    "For simplicity, we just use boxes for the convex segments, but one could use arbitrary semialgebraic (described by finite number of polynomials) sets"
   ]
  },
  {
   "cell_type": "markdown",
   "metadata": {},
   "source": [
    "### Install packages"
   ]
  },
  {
   "cell_type": "code",
   "execution_count": null,
   "metadata": {
    "collapsed": false
   },
   "outputs": [],
   "source": [
    "Pkg.update()\n",
    "Pkg.add(\"Pajarito\")\n",
    "Pkg.add(\"Cbc\")\n",
    "Pkg.add(\"CSDP\")\n",
    "Pkg.checkout(\"CSDP\")\n",
    "Pkg.add(\"JuMP\")\n",
    "Pkg.checkout(\"JuMP\")\n",
    "Pkg.add(\"PolyJuMP\")\n",
    "Pkg.checkout(\"PolyJuMP\")\n",
    "Pkg.add(\"SumOfSquares\")\n",
    "Pkg.checkout(\"SumOfSquares\")\n",
    "Pkg.add(\"MultivariatePolynomials\")\n",
    "Pkg.checkout(\"MultivariatePolynomials\")"
   ]
  },
  {
   "cell_type": "markdown",
   "metadata": {},
   "source": [
    "### Specify MICP solver"
   ]
  },
  {
   "cell_type": "code",
   "execution_count": null,
   "metadata": {
    "collapsed": false
   },
   "outputs": [],
   "source": [
    "using Cbc\n",
    "mip_solver = CbcSolver(logLevel=0)\n",
    "\n",
    "using CSDP\n",
    "cont_solver = CSDPSolver(printlevel=0,fastmode=1)\n",
    "\n",
    "using Pajarito\n",
    "solver = PajaritoSolver(\n",
    "    mip_solver_drives=false,\n",
    "    log_level=3,\n",
    "    rel_gap=1e-4,\n",
    "    mip_solver=mip_solver,\n",
    "    cont_solver=cont_solver,\n",
    "    prim_cuts_always=true,\n",
    ")"
   ]
  },
  {
   "cell_type": "markdown",
   "metadata": {},
   "source": [
    "### Specify types and data"
   ]
  },
  {
   "cell_type": "code",
   "execution_count": null,
   "metadata": {
    "collapsed": false
   },
   "outputs": [],
   "source": [
    "type Box\n",
    "    xl::Float64\n",
    "    xu::Float64\n",
    "    yl::Float64\n",
    "    yu::Float64\n",
    "end\n",
    "\n",
    "boxes = Box[Box(0.0,1.0,0.0,0.3),\n",
    "            Box(0.8,1.7,0.1,0.3),\n",
    "            Box(1.4,1.9,0.2,0.4),\n",
    "            Box(1.0,1.7,0.3,0.5),\n",
    "            Box(0.5,1.4,0.4,0.6),\n",
    "            Box(0.0,1.0,0.5,0.7),\n",
    "            Box(0.2,1.0,0.6,0.8),\n",
    "            Box(0.5,1.3,0.7,0.9),\n",
    "            Box(1.0,2.0,0.7,1.0)]\n",
    "\n",
    "N = 8 # Number of trajectory pieces\n",
    "d = 2 # dimension of space\n",
    "r = 5 # dimension of polynomial trajectories\n",
    "M = 2 # number of horizontal segments\n",
    "\n",
    "domain = Box(0,M,0,1)\n",
    "\n",
    "X₀   = Dict(:x=>0, :y=>0)\n",
    "X₀′  = Dict(:x=>1, :y=>0)\n",
    "X₀′′ = Dict(:x=>0, :y=>0)\n",
    "X₁   = Dict(:x=>2, :y=>1)\n",
    "X₁′  = Dict(:x=>1, :y=>0)\n",
    "X₁′′ = Dict(:x=>0, :y=>0)\n",
    "\n",
    "# T = linspace(1, 2, N+1)\n",
    "T = linspace(0, 1, N+1)\n",
    "\n",
    "Tmin = minimum(T)\n",
    "Tmax = maximum(T)\n",
    ";"
   ]
  },
  {
   "cell_type": "markdown",
   "metadata": {},
   "source": [
    "### Model with JuMP and polynomial packages"
   ]
  },
  {
   "cell_type": "code",
   "execution_count": null,
   "metadata": {
    "collapsed": false
   },
   "outputs": [],
   "source": [
    "using JuMP, PolyJuMP, SumOfSquares, MultivariatePolynomials\n",
    "\n",
    "model = SOSModel(solver=solver)\n",
    "\n",
    "@polyvar(t)\n",
    "Z = monomials([t], 0:r)\n",
    "\n",
    "@variable(model, H[1:N,boxes], Bin)\n",
    "\n",
    "Mxl, Mxu, Myl, Myu = domain.xl, domain.xu, domain.yl, domain.yu\n",
    "p = Dict()\n",
    "for j in 1:N\n",
    "    @constraint(model, sum(H[j,box] for box in boxes) == 1)\n",
    "\n",
    "    p[(:x,j)] = @polyvariable(model, _, Z)\n",
    "    p[(:y,j)] = @polyvariable(model, _, Z)\n",
    "    for box in boxes\n",
    "        xl, xu, yl, yu = box.xl, box.xu, box.yl, box.yu\n",
    "        @assert xl >= Mxl\n",
    "        @polyconstraint(model, p[(:x,j)] >= Mxl + (xl-Mxl)*H[j,box], domain = (t >= T[j] && t <= T[j+1]))\n",
    "        @assert xu <= Mxu\n",
    "        @polyconstraint(model, p[(:x,j)] <= Mxu + (xu-Mxu)*H[j,box], domain = (t >= T[j] && t <= T[j+1]))\n",
    "        @assert yl >= Myl\n",
    "        @polyconstraint(model, p[(:y,j)] >= Myl + (yl-Myl)*H[j,box], domain = (t >= T[j] && t <= T[j+1]))\n",
    "        @assert yu <= Myu\n",
    "        @polyconstraint(model, p[(:y,j)] <= Myu + (yu-Myu)*H[j,box], domain = (t >= T[j] && t <= T[j+1]))\n",
    "    end\n",
    "end\n",
    "\n",
    "for axis in (:x,:y)\n",
    "    @constraint(model,               p[(axis,1)       ]([Tmin], [t]) == X₀[axis])\n",
    "    @constraint(model, differentiate(p[(axis,1)], t   )([Tmin], [t]) == X₀′[axis])\n",
    "    @constraint(model, differentiate(p[(axis,1)], t, 2)([Tmin], [t]) == X₀′′[axis])\n",
    "\n",
    "    for j in 1:N-1\n",
    "        # @constraint(model,               T[j+1]^(-d)*(p[(axis,j)       ]([T[j+1]], [t])) ==               T[j+1]^(-d)*(p[(axis,j+1)       ]([T[j+1]], [t])))\n",
    "        # @constraint(model, T[j+1]^(-d)*(differentiate(p[(axis,j)], t   )([T[j+1]], [t])) == T[j+1]^(-d)*(differentiate(p[(axis,j+1)], t   )([T[j+1]], [t])))\n",
    "        # @constraint(model, T[j+1]^(-d)*(differentiate(p[(axis,j)], t, 2)([T[j+1]], [t])) == T[j+1]^(-d)*(differentiate(p[(axis,j+1)], t, 2)([T[j+1]], [t])))\n",
    "        @constraint(model,               p[(axis,j)       ]([T[j+1]], [t]) ==               p[(axis,j+1)       ]([T[j+1]], [t]))\n",
    "        @constraint(model, differentiate(p[(axis,j)], t   )([T[j+1]], [t]) == differentiate(p[(axis,j+1)], t   )([T[j+1]], [t]))\n",
    "        @constraint(model, differentiate(p[(axis,j)], t, 2)([T[j+1]], [t]) == differentiate(p[(axis,j+1)], t, 2)([T[j+1]], [t]))\n",
    "    end\n",
    "\n",
    "    @constraint(model,               p[(axis,N)       ]([Tmax], [t]) == X₁[axis])\n",
    "    # @constraint(model, differentiate(p[(axis,N)], t   )([1], [t]) == X₁′[axis])\n",
    "    # @constraint(model, differentiate(p[(axis,N)], t, 2)([1], [t]) == X₁′′[axis])\n",
    "end\n",
    "\n",
    "@variable(model, γ[keys(p)] ≥ 0)\n",
    "for (key,val) in p\n",
    "    @constraint(model, γ[key] ≥ norm(differentiate(val, t, 3)))\n",
    "end\n",
    "# expr = norm(differentiate(poly, t, 3) for poly in values(p))\n",
    "# @constraint(model, γ ≥ sum(norm(differentiate(poly, t, 3)) for poly in values(p)))\n",
    "@objective(model, Min, sum(γ))\n",
    ";"
   ]
  },
  {
   "cell_type": "markdown",
   "metadata": {},
   "source": [
    "### Solve and interpret solution"
   ]
  },
  {
   "cell_type": "code",
   "execution_count": null,
   "metadata": {
    "collapsed": false
   },
   "outputs": [],
   "source": [
    "solve(model)\n",
    "\n",
    "PP = Dict(key => getvalue(p[key]) for key in keys(p))\n",
    "HH = getvalue(H)\n",
    "\n",
    "function eval_poly(r)\n",
    "    for i in 1:N\n",
    "        if T[i] <= r <= T[i+1]\n",
    "            return PP[(:x,i)]([r], [t]), PP[(:y,i)]([r], [t])\n",
    "            break\n",
    "        end\n",
    "    end\n",
    "    error(\"Time $r out of interval [$(minimum(T)),$(maximum(T))]\")\n",
    "end"
   ]
  },
  {
   "cell_type": "markdown",
   "metadata": {},
   "source": [
    "### Plot solution with SFML\n",
    "\n",
    "See https://github.com/zyedidia/SFML.jl\n",
    "\n",
    "\"This is a binding of the C++ game and multimedia library SFML (Simple and Fast Multimedia Library), developed by Laurent Gomila, for Julia. SFML is often used for game development but it can be used for anything graphics-related\""
   ]
  },
  {
   "cell_type": "code",
   "execution_count": null,
   "metadata": {
    "collapsed": true
   },
   "outputs": [],
   "source": [
    "Pkg.add(\"SFML\")"
   ]
  },
  {
   "cell_type": "code",
   "execution_count": null,
   "metadata": {
    "collapsed": true
   },
   "outputs": [],
   "source": [
    "using SFML\n",
    "\n",
    "const window_width = 800\n",
    "const window_height = 600\n",
    "\n",
    "window = RenderWindow(\"Helicopter\", window_width, window_height)\n",
    "event = Event()\n",
    "\n",
    "rects = RectangleShape[]\n",
    "for box in boxes\n",
    "    rect = RectangleShape()\n",
    "    xl = (window_width/M)*box.xl\n",
    "    xu = (window_width/M)*box.xu\n",
    "    yl = window_height*(domain.yu-box.yl)\n",
    "    yu = window_height*(domain.yu-box.yu)\n",
    "    set_size(rect, Vector2f(xu-xl, yu-yl))\n",
    "    set_position(rect, Vector2f(xl, yl))\n",
    "    set_fillcolor(rect, SFML.white)\n",
    "    push!(rects, rect)\n",
    "end\n",
    "\n",
    "type Helicopter\n",
    "    shape::CircleShape\n",
    "    past_path::Vector{Vector2f}\n",
    "    path_func::Function\n",
    "end\n",
    "\n",
    "const radius = 10\n",
    "\n",
    "heli = Helicopter(CircleShape(), Vector2f[Vector2f(X₀[:x]*window_width, X₀[:y]*window_height)], eval_poly)\n",
    "set_position(heli.shape, Vector2f(window_width/2,window_height/2))\n",
    "set_radius(heli.shape, radius)\n",
    "set_fillcolor(heli.shape, SFML.red)\n",
    "set_origin(heli.shape, Vector2f(radius, radius))\n",
    "\n",
    "function update_heli!(heli::Helicopter, tm)\n",
    "    (_x,_y) = heli.path_func(tm)\n",
    "    x = window_width / M * _x\n",
    "    y = window_height * (1-_y)\n",
    "    pt = Vector2f(x,y)\n",
    "    set_position(heli.shape, pt)\n",
    "    # move(heli.shape, pt-heli.past_path[end])\n",
    "    push!(heli.past_path, pt)\n",
    "    get_position(heli.shape)\n",
    "    nothing\n",
    "end\n",
    "\n",
    "const maxtime = 10.0\n",
    "\n",
    "make_gif(window, window_width, window_height, 1.05*maxtime, \"foobarbat.gif\", 0.05)\n",
    "\n",
    "clock = Clock()\n",
    "restart(clock)\n",
    "\n",
    "while isopen(window)\n",
    "    frametime = as_seconds(get_elapsed_time(clock))\n",
    "\n",
    "    @show normalizedtime = Tmin + (frametime / maxtime)*(Tmax-Tmin)\n",
    "\n",
    "    (normalizedtime >= Tmax) && break\n",
    "\n",
    "    while pollevent(window, event)\n",
    "        if get_type(event) == EventType.CLOSED\n",
    "            close(window)\n",
    "        end\n",
    "    end\n",
    "\n",
    "    clear(window, SFML.blue)\n",
    "\n",
    "    for rect in rects\n",
    "        draw(window, rect)\n",
    "    end\n",
    "    update_heli!(heli, normalizedtime)\n",
    "    draw(window, heli.shape)\n",
    "    display(window)\n",
    "end"
   ]
  }
 ],
 "metadata": {
  "kernelspec": {
   "display_name": "Julia 0.5.2",
   "language": "julia",
   "name": "julia-0.5"
  },
  "language_info": {
   "file_extension": ".jl",
   "mimetype": "application/julia",
   "name": "julia",
   "version": "0.5.2"
  }
 },
 "nbformat": 4,
 "nbformat_minor": 2
}
