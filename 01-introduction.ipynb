{
 "cells": [
  {
   "cell_type": "markdown",
   "metadata": {},
   "source": [
    "# Introduction to Julia\n",
    "\n",
    "From `Julia`'s [website](http://julialang.org/):\n",
    "\n",
    "> Julia is a high-level, high-performance dynamic programming language for numerical computing.\n",
    "> It provides a sophisticated compiler, distributed parallel execution, numerical accuracy, and\n",
    "> an extensive mathematical function library.\n",
    "\n",
    "## How to use `Julia`\n",
    "\n",
    "We can start using `Julia` right away by following either of the steps: \n",
    "\n",
    "  1. Installing on the computer:\n",
    "    - directly by downloading the stable, binary releases from the\n",
    "      [official website](https://julialang.org/downloads/), or,\n",
    "    - building the most recent version (might be unstable) from the official\n",
    "      sources hosted at [GitHub](https://github.com/JuliaLang/Julia).\n",
    "  2. Using in the cloud:\n",
    "    - [JuliaBox](https://juliabox.com/). By logging in to the website (LinkedIn,\n",
    "      GitHub or Google account needed), we can create [Jupyter](http://jupyter.org)\n",
    "      notebooks and use `Julia` along with other tools (Markdown, `python`, etc.)\n",
    "      to do some number crunching. The platform is hosted at [Google Cloud Platform](https://cloud.google.com)\n",
    "      and provides for free, as of 2017-05-17, 6GB RAM, 4 CPUs and 500MB disk space for up to 2\n",
    "      hours of continuous use (after the time period, re-login required).\n",
    "      \n",
    "## How to Get Help\n",
    "\n",
    "Generally, the [Julia Documentation](http://docs.julialang.org/) is our friend. We can get\n",
    "help on the language elements while using `Julia` interactively.\n",
    "\n",
    "## Downloading the Workshop Materials\n",
    "\n",
    "To access the workshop materials, we should do the following:\n",
    "\n",
    "  - When using [JuliaBox](https://juliabox.com/),\n",
    "    1. Login with one of your LinkedIn, GitHub or Google accounts,\n",
    "    2. Navigate to the `Sync` tab above,\n",
    "    3. Enter `https://github.com/JuliaSystems/ACC-2017.git` in the \"Git Clone URL\" field,\n",
    "    4. Press `<TAB>` to auto-complete the other fields,\n",
    "    5. Click `+` under \"Actions.\"\n",
    "  - When using our computers,\n",
    "    1. Install [Jupyter](http://jupyter.org), following the instructions on the website,\n",
    "    2. Navigate to [ACC-2017](https://github.com/JuliaSystems/ACC-2017.git),\n",
    "    3. Click on `Clone or download`/`Download ZIP`,\n",
    "    4. Unzip and run `Jupyter` to access the notebook files.\n",
    "    \n",
    "Let's do some programming in `Julia`!"
   ]
  },
  {
   "cell_type": "markdown",
   "metadata": {},
   "source": [
    "# Simple Calculations\n",
    "\n",
    "In its interactive mode, we can do pretty much everything.\n",
    "\n",
    "## Basic Operations with `Real` Numbers"
   ]
  },
  {
   "cell_type": "code",
   "execution_count": null,
   "metadata": {},
   "outputs": [],
   "source": [
    "1 + 2*3 # simple mathematical operation"
   ]
  },
  {
   "cell_type": "code",
   "execution_count": null,
   "metadata": {},
   "outputs": [],
   "source": [
    "x = 5\n",
    "α = 3 # unicode characters allowed, i.e., `\\alpha<TAB>`.\n",
    "res = α*x"
   ]
  },
  {
   "cell_type": "code",
   "execution_count": null,
   "metadata": {},
   "outputs": [],
   "source": [
    "ans # binds to the result of the last operation"
   ]
  },
  {
   "cell_type": "code",
   "execution_count": null,
   "metadata": {},
   "outputs": [],
   "source": [
    "typeof(x) # x is `Int64`, a 64-bit integer; not a floating point number"
   ]
  },
  {
   "cell_type": "code",
   "execution_count": null,
   "metadata": {},
   "outputs": [],
   "source": [
    "sin(π/2)  # cos, tan, ... (rad)"
   ]
  },
  {
   "cell_type": "markdown",
   "metadata": {},
   "source": [
    "Let's get some help on `cos`. `?cos` makes a **fuzzy search**, *i.e*, it will pull\n",
    "out all results that have the word `cos` inside in any way (check `const` and `consume`,\n",
    "for instance)."
   ]
  },
  {
   "cell_type": "code",
   "execution_count": null,
   "metadata": {},
   "outputs": [],
   "source": [
    "?cos"
   ]
  },
  {
   "cell_type": "code",
   "execution_count": null,
   "metadata": {},
   "outputs": [],
   "source": [
    "cosd(180) # sind, tand, ... (degrees)"
   ]
  },
  {
   "cell_type": "code",
   "execution_count": null,
   "metadata": {},
   "outputs": [],
   "source": [
    "exp(10)"
   ]
  },
  {
   "cell_type": "code",
   "execution_count": null,
   "metadata": {},
   "outputs": [],
   "source": [
    "log(exp(10))"
   ]
  },
  {
   "cell_type": "markdown",
   "metadata": {},
   "source": [
    "## Basic Operations with `Complex` Numbers"
   ]
  },
  {
   "cell_type": "code",
   "execution_count": null,
   "metadata": {},
   "outputs": [],
   "source": [
    "x = 1 + 1im # `im` is used for the imaginary part"
   ]
  },
  {
   "cell_type": "code",
   "execution_count": null,
   "metadata": {},
   "outputs": [],
   "source": [
    "abs(x), angle(x)"
   ]
  },
  {
   "cell_type": "markdown",
   "metadata": {},
   "source": [
    "**POP QUIZ.** What happens if we try calculate $y = \\sqrt{-1}$?"
   ]
  },
  {
   "cell_type": "code",
   "execution_count": null,
   "metadata": {},
   "outputs": [],
   "source": [
    "y = √-1 # y = \\sqrt<TAB> -1, or, y = sqrt(-1)"
   ]
  },
  {
   "cell_type": "markdown",
   "metadata": {},
   "source": [
    "**NOTE.** Types are important. Since $\\sqrt{\\cdot}$ is not defined on negative `Real`s, `sqrt`\n",
    "throws an error. `Julia` is not an as strictly typed language as C/++ and Fortran, but it\n",
    "generally uses the type information to avoid unintentional mistakes and to generate efficient\n",
    "code. We will revisit this point, later."
   ]
  },
  {
   "cell_type": "code",
   "execution_count": null,
   "metadata": {},
   "outputs": [],
   "source": [
    "complex(-1) # makes the number a `Complex` number"
   ]
  },
  {
   "cell_type": "code",
   "execution_count": null,
   "metadata": {},
   "outputs": [],
   "source": [
    "sqrt(complex(-1))"
   ]
  },
  {
   "cell_type": "code",
   "execution_count": null,
   "metadata": {},
   "outputs": [],
   "source": [
    "typeof(complex(-1))  # complex number having 64-bit integers"
   ]
  },
  {
   "cell_type": "code",
   "execution_count": null,
   "metadata": {},
   "outputs": [],
   "source": [
    "typeof(complex(-1.)) # complex number having 64-bit (double precision) floating point numbers"
   ]
  },
  {
   "cell_type": "markdown",
   "metadata": {},
   "source": [
    "## Defining `Array`s: `Vector`s and `Matrix`'s"
   ]
  },
  {
   "cell_type": "code",
   "execution_count": null,
   "metadata": {},
   "outputs": [],
   "source": [
    "# `Vector` of `length` 3\n",
    "b = [1; 2; 3]"
   ]
  },
  {
   "cell_type": "code",
   "execution_count": null,
   "metadata": {},
   "outputs": [],
   "source": [
    "length(b)"
   ]
  },
  {
   "cell_type": "code",
   "execution_count": null,
   "metadata": {},
   "outputs": [],
   "source": [
    "# `Matrix` of `size` (3,3)\n",
    "A = [1 2 3;\n",
    "     4 5 6;\n",
    "     7 8 9]"
   ]
  },
  {
   "cell_type": "code",
   "execution_count": null,
   "metadata": {},
   "outputs": [],
   "source": [
    "size(A) # a tuple of dimensions: (nrows,ncols,...)"
   ]
  },
  {
   "cell_type": "code",
   "execution_count": null,
   "metadata": {},
   "outputs": [],
   "source": [
    "A[1,3] # `[]` notation is used for indexing. 1-based indexing is used."
   ]
  },
  {
   "cell_type": "code",
   "execution_count": null,
   "metadata": {},
   "outputs": [],
   "source": [
    "A[1,:] # `Colon`s span the entire dimension. A row or a column of a `Matrix` is a `Vector`."
   ]
  },
  {
   "cell_type": "markdown",
   "metadata": {},
   "source": [
    "## Basic Operations with `Array`s"
   ]
  },
  {
   "cell_type": "code",
   "execution_count": null,
   "metadata": {},
   "outputs": [],
   "source": [
    "I3 = eye(3,3) # elementary matrices such as zeros(3,3), ones(3,3), speye(3,3), etc."
   ]
  },
  {
   "cell_type": "code",
   "execution_count": null,
   "metadata": {},
   "outputs": [],
   "source": [
    "A-5*I3"
   ]
  },
  {
   "cell_type": "code",
   "execution_count": null,
   "metadata": {},
   "outputs": [],
   "source": [
    "A-5I  # `I` is a special Julia type that can scale accordingly"
   ]
  },
  {
   "cell_type": "code",
   "execution_count": null,
   "metadata": {},
   "outputs": [],
   "source": [
    "A.'   # transpose(A)\n",
    "# A'  # tranpose(conj(A))"
   ]
  },
  {
   "cell_type": "code",
   "execution_count": null,
   "metadata": {},
   "outputs": [],
   "source": [
    "expm(A) # logm(A), diag(A), det(A), eig(A)"
   ]
  },
  {
   "cell_type": "code",
   "execution_count": null,
   "metadata": {},
   "outputs": [],
   "source": [
    "?diag"
   ]
  },
  {
   "cell_type": "markdown",
   "metadata": {},
   "source": [
    "**NOTE.** `diag` gets the diagonal elements. To construct a diagonal matrix\n",
    "from a `Vector`:"
   ]
  },
  {
   "cell_type": "code",
   "execution_count": null,
   "metadata": {},
   "outputs": [],
   "source": [
    "diagm([1,2,3])"
   ]
  },
  {
   "cell_type": "markdown",
   "metadata": {},
   "source": [
    "**EXAMPLE.** Let's try to calculate\n",
    "\n",
    "\\begin{align*}\n",
    "y = \\frac{1}{\\sum_{n=1}^{N} x_{n}^{2}} \\,\n",
    "\\end{align*}\n",
    "\n",
    "for some `Vector` $x$."
   ]
  },
  {
   "cell_type": "code",
   "execution_count": null,
   "metadata": {},
   "outputs": [],
   "source": [
    "x = [1,2,3]"
   ]
  },
  {
   "cell_type": "code",
   "execution_count": null,
   "metadata": {},
   "outputs": [],
   "source": [
    "1/(x.'*x) # will not work"
   ]
  },
  {
   "cell_type": "code",
   "execution_count": null,
   "metadata": {},
   "outputs": [],
   "source": [
    "x.'*x"
   ]
  },
  {
   "cell_type": "code",
   "execution_count": null,
   "metadata": {},
   "outputs": [],
   "source": [
    "dot(x, x) # <- this is inner product,"
   ]
  },
  {
   "cell_type": "code",
   "execution_count": null,
   "metadata": {},
   "outputs": [],
   "source": [
    "x⋅x # <- ..., or this. x\\cdot<TAB>(I*x)"
   ]
  },
  {
   "cell_type": "code",
   "execution_count": null,
   "metadata": {},
   "outputs": [],
   "source": [
    "1/(x⋅x)"
   ]
  },
  {
   "cell_type": "markdown",
   "metadata": {},
   "source": [
    "**NOTE.** Remembering the types we are working with, we avoid problems early on."
   ]
  },
  {
   "cell_type": "code",
   "execution_count": null,
   "metadata": {},
   "outputs": [],
   "source": [
    "x = [5,4,6,1,3,9,10]"
   ]
  },
  {
   "cell_type": "code",
   "execution_count": null,
   "metadata": {},
   "outputs": [],
   "source": [
    "maximum(x), minimum(x)"
   ]
  },
  {
   "cell_type": "code",
   "execution_count": null,
   "metadata": {},
   "outputs": [],
   "source": [
    "inds = find(isodd, x)"
   ]
  },
  {
   "cell_type": "code",
   "execution_count": null,
   "metadata": {},
   "outputs": [],
   "source": [
    "x[inds]"
   ]
  },
  {
   "cell_type": "code",
   "execution_count": null,
   "metadata": {},
   "outputs": [],
   "source": [
    "sort(x)"
   ]
  },
  {
   "cell_type": "code",
   "execution_count": null,
   "metadata": {},
   "outputs": [],
   "source": [
    "x"
   ]
  },
  {
   "cell_type": "code",
   "execution_count": null,
   "metadata": {},
   "outputs": [],
   "source": [
    "sort!(x) # bang notation, by convention, used to indicate variables will be changed"
   ]
  },
  {
   "cell_type": "code",
   "execution_count": null,
   "metadata": {},
   "outputs": [],
   "source": [
    "x"
   ]
  },
  {
   "cell_type": "markdown",
   "metadata": {},
   "source": [
    "## Manipulating Variables"
   ]
  },
  {
   "cell_type": "code",
   "execution_count": null,
   "metadata": {},
   "outputs": [],
   "source": [
    "x = 1"
   ]
  },
  {
   "cell_type": "code",
   "execution_count": null,
   "metadata": {},
   "outputs": [],
   "source": [
    "println(\"x = \", x)"
   ]
  },
  {
   "cell_type": "code",
   "execution_count": null,
   "metadata": {},
   "outputs": [],
   "source": [
    "println(\"x = $(x)\") # $() used for string interpolation (gets the value of `x`)"
   ]
  },
  {
   "cell_type": "code",
   "execution_count": null,
   "metadata": {},
   "outputs": [],
   "source": [
    "whos() # shows the variables in the current workspace"
   ]
  },
  {
   "cell_type": "markdown",
   "metadata": {},
   "source": [
    "To delete a single variable, *i.e.*, the memory location pointed to by the variable,\n",
    "we set it equal to `nothing`. Garbage collection handles the rest."
   ]
  },
  {
   "cell_type": "code",
   "execution_count": null,
   "metadata": {
    "collapsed": true
   },
   "outputs": [],
   "source": [
    "A = nothing"
   ]
  },
  {
   "cell_type": "code",
   "execution_count": null,
   "metadata": {},
   "outputs": [],
   "source": [
    "whos()"
   ]
  },
  {
   "cell_type": "markdown",
   "metadata": {},
   "source": [
    "**NOTE.** To start with a clean workspace, we type `workspace()`."
   ]
  },
  {
   "cell_type": "code",
   "execution_count": null,
   "metadata": {},
   "outputs": [],
   "source": [
    "B = [1 2 3;\n",
    "     4 5 6;\n",
    "     7 8 9]"
   ]
  },
  {
   "cell_type": "code",
   "execution_count": null,
   "metadata": {
    "collapsed": true
   },
   "outputs": [],
   "source": [
    "writecsv(\"B.csv\", B)"
   ]
  },
  {
   "cell_type": "code",
   "execution_count": null,
   "metadata": {
    "collapsed": true
   },
   "outputs": [],
   "source": [
    "B = nothing"
   ]
  },
  {
   "cell_type": "code",
   "execution_count": null,
   "metadata": {},
   "outputs": [],
   "source": [
    "readcsv(\"B.csv\")"
   ]
  },
  {
   "cell_type": "code",
   "execution_count": null,
   "metadata": {
    "collapsed": true
   },
   "outputs": [],
   "source": [
    "# To save the whole workspace, we need a package\n",
    "# Pkg.add(\"JLD\")"
   ]
  },
  {
   "cell_type": "markdown",
   "metadata": {},
   "source": [
    "## Plotting\n",
    "\n",
    "Julia has a bunch of backends to choose from. Each backend has different types of capabilities.\n",
    "All of the mature plotting backends are preinstalled on JuliaBox. When we are running `Julia`\n",
    "locally, we need to `Pkg.add` these packages, as in `Pkg.add(\"PyPlot\")` for installing the\n",
    "[PyPlot](https://github.com/JuliaPy/PyPlot.jl), the `matplotlib` backend in `Julia`.\n",
    "\n",
    "To overcome the need of remembering how to use each backend, a frontend plotting package,\n",
    "[Plots](https://github.com/JuliaPlots/Plots.jl) can be used. `Plots` is also preinstalled\n",
    "on JuliaBox."
   ]
  },
  {
   "cell_type": "code",
   "execution_count": null,
   "metadata": {},
   "outputs": [],
   "source": [
    "using Plots"
   ]
  },
  {
   "cell_type": "code",
   "execution_count": null,
   "metadata": {
    "collapsed": true
   },
   "outputs": [],
   "source": [
    "t = linspace(0,10,1000)\n",
    "f = 0.5\n",
    "y1 = sin(2π*f*t)\n",
    "y2 = cos(2π*f*t);"
   ]
  },
  {
   "cell_type": "code",
   "execution_count": null,
   "metadata": {},
   "outputs": [],
   "source": [
    "plot(t, y1, xlabel = \"Time\", ylabel = \"Function\", title = \"Time Response\")"
   ]
  },
  {
   "cell_type": "code",
   "execution_count": null,
   "metadata": {},
   "outputs": [],
   "source": [
    "plot!(t, y2, color = :green, linewidth = 2.)"
   ]
  },
  {
   "cell_type": "code",
   "execution_count": null,
   "metadata": {},
   "outputs": [],
   "source": [
    "plot(t, [y1 y2], layout = (2,1)) # subplotting"
   ]
  },
  {
   "cell_type": "code",
   "execution_count": null,
   "metadata": {},
   "outputs": [],
   "source": [
    "# Customizing the plot\n",
    "plot(t, [y1 y2], layout = (2,1), xlabel = \"t\", ylabel = \"y(t)\",\n",
    "    label = [\"sin\" \"cos\"], color= [:red :green], linewidth = [1. 2.],\n",
    "    linestyle = [:dash :dot])"
   ]
  },
  {
   "cell_type": "markdown",
   "metadata": {},
   "source": [
    "### Changing Backends"
   ]
  },
  {
   "cell_type": "code",
   "execution_count": null,
   "metadata": {
    "collapsed": true
   },
   "outputs": [],
   "source": [
    "# BACKENDS\n",
    "# Pkg.add(\"PyPlot\")\n",
    "# Pkg.add(\"GR\")\n",
    "# Pkg.add(\"Plotly\")\n",
    "# Pkg.add(\"PlotlyJS\")\n",
    "# ..., see http://pkg.julialang.org for all the rest\n",
    "\n",
    "# FRONTEND\n",
    "# Pkg.add(\"Plots\")\n",
    "# using Plots\n",
    "\n",
    "# pyplot()   <- tells Plots to use PyPlot backend\n",
    "# gr()       <- GR\n",
    "# plotly()   <- Plotly (default in JuliaBox)\n",
    "# plotlyjs() <- PlotlyJS"
   ]
  },
  {
   "cell_type": "code",
   "execution_count": null,
   "metadata": {},
   "outputs": [],
   "source": [
    "pyplot() # initialize PyPlot (matplotlib) as the backend"
   ]
  },
  {
   "cell_type": "markdown",
   "metadata": {},
   "source": [
    "Below example is borrowed from [JuliaPlots](https://juliaplots.github.io).\n",
    "\n",
    "> Simple is Beautiful."
   ]
  },
  {
   "cell_type": "code",
   "execution_count": null,
   "metadata": {},
   "outputs": [],
   "source": [
    "# Lorenz Attractor\n",
    "# initialize the attractor\n",
    "n = 1500\n",
    "dt = 0.02\n",
    "σ, ρ, β = 10., 28., 8/3\n",
    "x, y, z = 1., 1., 1.\n",
    "\n",
    "# initialize a 3D plot with 1 empty series\n",
    "plt = path3d(1, xlimit = (-25,25), ylimit = (-25,25), zlimit = (0,50),\n",
    "                xlabel = \"x\", ylabel = \"y\", zlabel = \"z\", legend = false,\n",
    "                title = \"Lorenz Attractor\", marker = 1)\n",
    "\n",
    "# build an animated gif, saving every 10th frame\n",
    "@gif for i = 1:n\n",
    "    dx = σ*(y - x)     ; x += dt * dx\n",
    "    dy = x*(ρ - z) - y ; y += dt * dy\n",
    "    dz = x*y - β*z     ; z += dt * dz\n",
    "    push!(plt, x, y, z)\n",
    "end every 10"
   ]
  },
  {
   "cell_type": "code",
   "execution_count": null,
   "metadata": {
    "collapsed": true
   },
   "outputs": [],
   "source": [
    "savefig(plt, \"lorenz.pdf\")"
   ]
  },
  {
   "cell_type": "markdown",
   "metadata": {},
   "source": [
    "## Basic Programming\n",
    "\n",
    "### Looping and Branching"
   ]
  },
  {
   "cell_type": "code",
   "execution_count": null,
   "metadata": {},
   "outputs": [],
   "source": [
    "for x = 1:10\n",
    "    println(\"x = \", x)\n",
    "end"
   ]
  },
  {
   "cell_type": "code",
   "execution_count": null,
   "metadata": {},
   "outputs": [],
   "source": [
    "for x in 1:10\n",
    "    if isodd(x)\n",
    "        println(\"x = \", x, \" (odd)\")\n",
    "    else\n",
    "        println(\"x = \", x, \" (even)\")\n",
    "    end\n",
    "end"
   ]
  },
  {
   "cell_type": "code",
   "execution_count": null,
   "metadata": {},
   "outputs": [],
   "source": [
    "x = 1\n",
    "while x ≤ 10\n",
    "    if isodd(x)\n",
    "        println(\"x = \", x, \" (odd)\")\n",
    "    else\n",
    "        println(\"x = \", x, \" (even)\")\n",
    "    end\n",
    "    x += 1\n",
    "end"
   ]
  },
  {
   "cell_type": "markdown",
   "metadata": {},
   "source": [
    "### Defining functions\n",
    "\n",
    "First attempt to write a function that calculates the sum of all the elements of a\n",
    "`Vector`."
   ]
  },
  {
   "cell_type": "code",
   "execution_count": null,
   "metadata": {},
   "outputs": [],
   "source": [
    "function mysum1(x)\n",
    "    res = 0\n",
    "    for idx in 1:length(x)\n",
    "        res += x[idx] # res = res + x[idx]\n",
    "    end\n",
    "    res\n",
    "end"
   ]
  },
  {
   "cell_type": "markdown",
   "metadata": {},
   "source": [
    "**NOTE.** We have not explicitly stated that `x` is a `Vector`. When we call `mysum1`\n",
    "for the first time with an `x` that is a `Vector`, `Julia` will compile the function\n",
    "specifically for that type. Later, calls to the function with the same type of inputs\n",
    "will simply use the compiled code. When we call `mysum1` with a different type, *e.g.*,\n",
    "a `Matrix`, then the function will be compiled for that specific type."
   ]
  },
  {
   "cell_type": "code",
   "execution_count": null,
   "metadata": {},
   "outputs": [],
   "source": [
    "mysum1([1,2,3])"
   ]
  },
  {
   "cell_type": "code",
   "execution_count": null,
   "metadata": {},
   "outputs": [],
   "source": [
    "# time our function when the input is a 1000-Vector of 1's (double precision float)\n",
    "@time mysum1(ones(Float64,1000))"
   ]
  },
  {
   "cell_type": "code",
   "execution_count": null,
   "metadata": {},
   "outputs": [],
   "source": [
    "# time our function when the input is a 1000-Vector of 1's (64-bit integers)\n",
    "@time mysum1(ones(Int,1000))"
   ]
  },
  {
   "cell_type": "markdown",
   "metadata": {},
   "source": [
    "**NOTE.** Timing the operations in `Julia` is handled through the `@time` macro.\n",
    "[Macros](docs.julialang.org/en/stable/manual/metaprogramming/) will not be covered due\n",
    "to time limitations. However, we can discuss them during breaks."
   ]
  },
  {
   "cell_type": "code",
   "execution_count": null,
   "metadata": {},
   "outputs": [],
   "source": [
    "function mysum2(x)\n",
    "    res = zero(eltype(x)) # only change here.\n",
    "    for idx in 1:length(x)\n",
    "        res += x[idx] # res = res + x[idx]\n",
    "    end\n",
    "    res\n",
    "end"
   ]
  },
  {
   "cell_type": "code",
   "execution_count": null,
   "metadata": {},
   "outputs": [],
   "source": [
    "# time our function when the input is a 1000-Vector of 1's (double precision float)\n",
    "@time mysum2(ones(Float64,1000))"
   ]
  },
  {
   "cell_type": "code",
   "execution_count": null,
   "metadata": {},
   "outputs": [],
   "source": [
    "# time our function when the input is a 1000-Vector of 1's (64-bit integers)\n",
    "@time mysum2(ones(Int,1000))"
   ]
  },
  {
   "cell_type": "code",
   "execution_count": null,
   "metadata": {},
   "outputs": [],
   "source": [
    "@code_warntype mysum1(1.)"
   ]
  },
  {
   "cell_type": "code",
   "execution_count": null,
   "metadata": {},
   "outputs": [],
   "source": [
    "@code_warntype mysum2(1.)"
   ]
  },
  {
   "cell_type": "markdown",
   "metadata": {},
   "source": [
    "**What happened?** In `mysum1`, we initialized `temp` to the `zero` of type `Int64`. Since the\n",
    "compiler cannot know whether the `x` will be empty or not, it generates code that would return\n",
    "a `Union` of `Int64` and `Float64`. Each time we execute the function, `Julia` needs to determine\n",
    "the return type. On the other hand, in `mysum2`, we initialized `temp` to the `zero` of the `eltype`\n",
    "of `x`. The return type is **fixed** (no ambiguity) regardless of the `length` of `x`.\n",
    "\n",
    "**Take-home message.** `Julia` is flexible enough to suit different needs. For instance, when we\n",
    "simply want to prototype a piece of code, we can simply discard the type information, as in the\n",
    "case of `mysum1`, and carry on our operations. `Julia` will be happy to return what we want\n",
    "(generally). Similarly, when our major concern is the\n",
    "[performance](https://docs.julialang.org/en/stable/manual/performance-tips/), we can benefit\n",
    "from `Julia`'s [type system](https://docs.julialang.org/en/stable/manual/types/) to write code\n",
    "that will be compiled and executed efficiently for the specific types we use."
   ]
  },
  {
   "cell_type": "code",
   "execution_count": null,
   "metadata": {},
   "outputs": [],
   "source": [
    "# short hand notation when defining simple functions\n",
    "add_x_y(x,y) = x+y"
   ]
  },
  {
   "cell_type": "code",
   "execution_count": null,
   "metadata": {},
   "outputs": [],
   "source": [
    "add_x_y(1, 5)"
   ]
  },
  {
   "cell_type": "code",
   "execution_count": null,
   "metadata": {},
   "outputs": [],
   "source": [
    "add_x_y(1., 6 + im)"
   ]
  },
  {
   "cell_type": "code",
   "execution_count": null,
   "metadata": {},
   "outputs": [],
   "source": [
    "add_x_y([1,2], [3,4])"
   ]
  },
  {
   "cell_type": "code",
   "execution_count": null,
   "metadata": {},
   "outputs": [],
   "source": [
    "add_x_y([1 2; 3 4], I)"
   ]
  },
  {
   "cell_type": "code",
   "execution_count": null,
   "metadata": {},
   "outputs": [],
   "source": [
    "mult_α(x; α = 2) = α*x"
   ]
  },
  {
   "cell_type": "code",
   "execution_count": null,
   "metadata": {},
   "outputs": [],
   "source": [
    "mult_α(1)"
   ]
  },
  {
   "cell_type": "code",
   "execution_count": null,
   "metadata": {},
   "outputs": [],
   "source": [
    "mult_α([1, 5], α = 5)"
   ]
  },
  {
   "cell_type": "markdown",
   "metadata": {},
   "source": [
    "**NOTE.** Apart from positional arguments, *e.g.*, `x` and `y` in `add_x_y`, we can also define\n",
    "*keyword* arguments, *e.g.*, `α` in `mult_α` when writing functions. Keyword arguments are later\n",
    "accessed by using their names."
   ]
  },
  {
   "cell_type": "code",
   "execution_count": null,
   "metadata": {},
   "outputs": [],
   "source": [
    "# Anonymous functions (λ-functions)\n",
    "g = (t,x)->(t < zero(t) ? zero(t)*zero(x) : t*x)"
   ]
  },
  {
   "cell_type": "markdown",
   "metadata": {},
   "source": [
    "## Advanced Programming"
   ]
  },
  {
   "cell_type": "markdown",
   "metadata": {},
   "source": [
    "### Iterators"
   ]
  },
  {
   "cell_type": "code",
   "execution_count": null,
   "metadata": {},
   "outputs": [],
   "source": [
    "# generate a 10-Vector drawing its elements from 1,2,...,100 uniformly at random\n",
    "x = rand(1:100, 10)"
   ]
  },
  {
   "cell_type": "code",
   "execution_count": null,
   "metadata": {},
   "outputs": [],
   "source": [
    "# `mysum` example revisited.\n",
    "# if a container does not have linear indexing property, our `mysum1` and `mysum2`\n",
    "# will fail. But whenever x is an iterable object, the below code will work. Often,\n",
    "# it works more efficiently.\n",
    "temp = 0\n",
    "for elem in x\n",
    "    temp += elem\n",
    "end\n",
    "temp"
   ]
  },
  {
   "cell_type": "markdown",
   "metadata": {},
   "source": [
    "**NOTE.** For more information on iterable objects, please refer to\n",
    "[Interfaces](https://docs.julialang.org/en/stable/manual/interfaces/).\n",
    "\n",
    "### Array Comprehension"
   ]
  },
  {
   "cell_type": "code",
   "execution_count": null,
   "metadata": {},
   "outputs": [],
   "source": [
    "[elem for elem in x]"
   ]
  },
  {
   "cell_type": "code",
   "execution_count": null,
   "metadata": {},
   "outputs": [],
   "source": [
    "[elem for elem in x if isodd(elem)]"
   ]
  },
  {
   "cell_type": "code",
   "execution_count": null,
   "metadata": {},
   "outputs": [],
   "source": [
    "sum([elem for elem in x if isodd(elem)])"
   ]
  },
  {
   "cell_type": "code",
   "execution_count": null,
   "metadata": {},
   "outputs": [],
   "source": [
    "A = [col for row in 1:5, col in 1:5]"
   ]
  },
  {
   "cell_type": "code",
   "execution_count": null,
   "metadata": {},
   "outputs": [],
   "source": [
    "# Let's get the upper triangular part of A\n",
    "[A[row,col] for col in indices(A,2), row in indices(A,1) if col ≥ row] # instead of >=, we can write `\\ge<TAB>`"
   ]
  },
  {
   "cell_type": "markdown",
   "metadata": {},
   "source": [
    "### Custom Datatypes\n",
    "\n",
    "When fundamental types are not enough for our purposes, we can define custom\n",
    "[datatypes](https://docs.julialang.org/en/stable/manual/types/)."
   ]
  },
  {
   "cell_type": "code",
   "execution_count": null,
   "metadata": {
    "collapsed": true
   },
   "outputs": [],
   "source": [
    "type MyDataType\n",
    "    t::Vector{Float64}\n",
    "    y1::Vector{Float64}\n",
    "    y2::Vector{Float64}\n",
    "end"
   ]
  },
  {
   "cell_type": "code",
   "execution_count": null,
   "metadata": {},
   "outputs": [],
   "source": [
    "t = linspace(0, 10, 1000)\n",
    "y1, y2 = sin(π*t), cos(π*t)"
   ]
  },
  {
   "cell_type": "code",
   "execution_count": null,
   "metadata": {},
   "outputs": [],
   "source": [
    "mydata = MyDataType(t,y1,y2)"
   ]
  },
  {
   "cell_type": "code",
   "execution_count": null,
   "metadata": {},
   "outputs": [],
   "source": [
    "mydata.t"
   ]
  },
  {
   "cell_type": "markdown",
   "metadata": {},
   "source": [
    "Let's plot our custom datatype object."
   ]
  },
  {
   "cell_type": "code",
   "execution_count": null,
   "metadata": {},
   "outputs": [],
   "source": [
    "plot(mydata.t, mydata.y1, xlabel = \"Time\", ylabel = \"Output\",\n",
    "    label = \"\\$y_{1}(t)\\$\") # PyPlot supports LaTeX strings"
   ]
  },
  {
   "cell_type": "markdown",
   "metadata": {},
   "source": [
    "**NOTE.** When we know how to visualize an object of some datatype, we can\n",
    "define [plotting recipes](https://github.com/JuliaPlots/RecipesBase.jl) so that\n",
    "`Plots` will carry out the necessary tasks for the corresponding backends. Niklas\n",
    "will show some examples on this in the next session.\n",
    "\n",
    "Let's try to write our data structure in a comma separated file."
   ]
  },
  {
   "cell_type": "code",
   "execution_count": null,
   "metadata": {},
   "outputs": [],
   "source": [
    "writecsv(\"mydata1.csv\", mydata)"
   ]
  },
  {
   "cell_type": "markdown",
   "metadata": {},
   "source": [
    "**Option 1.** Define a data writer function and use it."
   ]
  },
  {
   "cell_type": "code",
   "execution_count": null,
   "metadata": {},
   "outputs": [],
   "source": [
    "function mydatawriter(io, mydata)\n",
    "    writecsv(io, [\"t\" \"y1\" \"y2\"])\n",
    "    writecsv(io, [mydata.t mydata.y1 mydata.y2])\n",
    "end"
   ]
  },
  {
   "cell_type": "code",
   "execution_count": null,
   "metadata": {
    "collapsed": true
   },
   "outputs": [],
   "source": [
    "curio = open(\"mydata2.csv\", \"w\")\n",
    "mydatawriter(curio, mydata)\n",
    "close(curio)"
   ]
  },
  {
   "cell_type": "markdown",
   "metadata": {},
   "source": [
    "**Option 2.** When data writing might be error-prone, we need to make sure we have\n",
    "exception handling. We use the\n",
    "[try-catch](https://docs.julialang.org/en/stable/manual/control-flow/#the-try-catch-statement)\n",
    "mechanism to *finally* close the I/O handle."
   ]
  },
  {
   "cell_type": "code",
   "execution_count": null,
   "metadata": {
    "collapsed": true
   },
   "outputs": [],
   "source": [
    "curio = open(\"mydata3.csv\", \"w\")\n",
    "try\n",
    "    mydatawriter(curio, mydata)\n",
    "catch e\n",
    "    warn(\"Error occured: \", e)\n",
    "finally\n",
    "    close(curio)\n",
    "end"
   ]
  },
  {
   "cell_type": "markdown",
   "metadata": {},
   "source": [
    "**Option 3.** The `Julia`n way of doing it. We benefit from multiple dispatching\n",
    "and the\n",
    "[do-block](https://docs.julialang.org/en/stable/manual/functions/#do-block-syntax-for-function-arguments)\n",
    "syntax."
   ]
  },
  {
   "cell_type": "code",
   "execution_count": null,
   "metadata": {},
   "outputs": [],
   "source": [
    "?open"
   ]
  },
  {
   "cell_type": "code",
   "execution_count": null,
   "metadata": {
    "collapsed": true
   },
   "outputs": [],
   "source": [
    "open(io->mydatawriter(io, mydata), \"mydata4.csv\", \"w\")"
   ]
  },
  {
   "cell_type": "code",
   "execution_count": null,
   "metadata": {
    "collapsed": true
   },
   "outputs": [],
   "source": [
    "open(\"mydata5.csv\", \"w\") do io\n",
    "    writecsv(io, [\"t\" \"y1\" \"y2\"])\n",
    "    writecsv(io, [mydata.t mydata.y1 mydata.y2])\n",
    "end"
   ]
  },
  {
   "cell_type": "markdown",
   "metadata": {},
   "source": [
    "### Other Useful Datatypes\n",
    "\n",
    "We have `Tuple`s"
   ]
  },
  {
   "cell_type": "code",
   "execution_count": null,
   "metadata": {},
   "outputs": [],
   "source": [
    "x = (1,5) # we have already seen `Tuple`s in size(A)"
   ]
  },
  {
   "cell_type": "code",
   "execution_count": null,
   "metadata": {},
   "outputs": [],
   "source": [
    "println(\"x[1] = $(x[1]), x[2] = $(x[2]).\")"
   ]
  },
  {
   "cell_type": "markdown",
   "metadata": {},
   "source": [
    "..., `Dict`s (dictionaries)"
   ]
  },
  {
   "cell_type": "code",
   "execution_count": null,
   "metadata": {},
   "outputs": [],
   "source": [
    "mydict = Dict{Int64,Float64}() # dictionary having Int64 keys and Float64 values\n",
    "mydict[1] = 5.\n",
    "mydict[2] = 10"
   ]
  },
  {
   "cell_type": "code",
   "execution_count": null,
   "metadata": {},
   "outputs": [],
   "source": [
    "mydict[3] # error! we don't have that element, yet."
   ]
  },
  {
   "cell_type": "code",
   "execution_count": null,
   "metadata": {},
   "outputs": [],
   "source": [
    "mydict[3] = 100"
   ]
  },
  {
   "cell_type": "code",
   "execution_count": null,
   "metadata": {},
   "outputs": [],
   "source": [
    "# iteration interface for dictionaries. we iterate on (key,value) `Tuple`s\n",
    "for (key,value) in mydict\n",
    "    println(\"$(key) => $(value)\")\n",
    "end"
   ]
  },
  {
   "cell_type": "code",
   "execution_count": null,
   "metadata": {},
   "outputs": [],
   "source": [
    "heights = Dict{String,Int}()\n",
    "\n",
    "heights[\"Arda\"] = 179\n",
    "heights[\"Niklas\"] = 171"
   ]
  },
  {
   "cell_type": "code",
   "execution_count": null,
   "metadata": {},
   "outputs": [],
   "source": [
    "for (name,height) in heights\n",
    "    println(\"$(name) is $(height) cm tall.\")\n",
    "end"
   ]
  },
  {
   "cell_type": "markdown",
   "metadata": {},
   "source": [
    "..., `Set`s (specialized `Dict`s)"
   ]
  },
  {
   "cell_type": "code",
   "execution_count": null,
   "metadata": {},
   "outputs": [],
   "source": [
    "# set of Int64 values. Int will be Int32 on 32-bit computers, Int64 on 64-bit computers\n",
    "uniqueindices = Set{Int}()\n",
    "push!(uniqueindices, 1, 2, 3, 3, 5, 4, 2, 6, 8)\n",
    "uniqueindices"
   ]
  },
  {
   "cell_type": "markdown",
   "metadata": {},
   "source": [
    "..., and many more through the package [DataStructures](https://github.com/JuliaCollections/DataStructures.jl)."
   ]
  }
 ],
 "metadata": {
  "kernelspec": {
   "display_name": "Julia 0.5.2",
   "language": "julia",
   "name": "julia-0.5"
  },
  "language_info": {
   "file_extension": ".jl",
   "mimetype": "application/julia",
   "name": "julia",
   "version": "0.5.2"
  }
 },
 "nbformat": 4,
 "nbformat_minor": 1
}
