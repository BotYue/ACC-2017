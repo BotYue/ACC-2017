{
 "cells": [
  {
   "cell_type": "markdown",
   "metadata": {},
   "source": [
    "<img src=\"https://upload.wikimedia.org/wikipedia/commons/thumb/6/69/Julia_prog_language.svg/1200px-\n",
    "Julia_prog_language.svg.png\" alt=\"Drawing\" style=\"width: 200px;\"/>"
   ]
  },
  {
   "cell_type": "markdown",
   "metadata": {},
   "source": [
    "# What is the `Julia` Language"
   ]
  },
  {
   "cell_type": "markdown",
   "metadata": {},
   "source": [
    "Julia is a high-level, high-performance dynamic programming language for numerical computing.\n",
    "It provides a sophisticated compiler, distributed parallel execution, numerical accuracy, and\n",
    "an extensive mathematical function library.\n",
    "\n",
    "The central source of information is `Julia`'s website http://julialang.org/, which contains\n",
    "binary distributions, extensive documentation and much more..."
   ]
  },
  {
   "cell_type": "markdown",
   "metadata": {},
   "source": [
    "## Using `Julia` on a Computer or in the Cloud   "
   ]
  },
  {
   "cell_type": "markdown",
   "metadata": {},
   "source": [
    "You can run `Julia` code both\n",
    "\n",
    "  1. On your own computer,\n",
    "    - by downloading and installing the stable binaries from the\n",
    "      [official website](https://julialang.org/downloads/), or,\n",
    "    - by building from the official sources hosted at\n",
    "      [GitHub](https://github.com/JuliaLang/Julia). Please note that the\n",
    "      latest source may not yet be stable.\n",
    "  2. In the cloud:\n",
    "    - [JuliaBox](https://juliabox.com/) allows you to create and run\n",
    "      [Jupyter](http://jupyter.org) notebooks that contain `Julia` code.\n",
    "      \n",
    "As of 2017-05-17, JuliaBox can be used for free, and requires only a LinkedIn, GitHub or\n",
    "Google account. The free account allows you to run Julia on a 4 vCPU server with 6GB RAM\n",
    "and 500MB disk space for up to 3 hours of continuous use (after the time period, re-login\n",
    "required)."
   ]
  },
  {
   "cell_type": "markdown",
   "metadata": {},
   "source": [
    "## Installing and Running the Workshop Material"
   ]
  },
  {
   "cell_type": "markdown",
   "metadata": {},
   "source": [
    "To access the workshop materials, please do the following:\n",
    "\n",
    "  - When using [JuliaBox](https://juliabox.com/),\n",
    "    1. Login with one of your LinkedIn, GitHub or Google accounts,\n",
    "    2. Navigate to the `Sync` tab above,\n",
    "    3. Enter `https://github.com/JuliaSystems/ACC-2017.git` in the \"Git Clone URL\" field,\n",
    "    4. Press `<TAB>` to auto-complete the other fields,\n",
    "    5. Click `+` under \"Actions.\"\n",
    "  - When using your own computer,\n",
    "    1. Install [Jupyter](http://jupyter.org), following the instructions on the website,\n",
    "    2. Navigate to [ACC-2017](https://github.com/JuliaSystems/ACC-2017.git),\n",
    "    3. Click on `Clone or download`/`Download ZIP`,\n",
    "    4. Unzip and run `Jupyter` to access the notebook files."
   ]
  },
  {
   "cell_type": "markdown",
   "metadata": {},
   "source": [
    "# Using `Julia` for Simple Calculations"
   ]
  },
  {
   "cell_type": "markdown",
   "metadata": {},
   "source": [
    "## Basic Operations with  `Real` Numbers"
   ]
  },
  {
   "cell_type": "markdown",
   "metadata": {},
   "source": [
    "Julia is an interactive language which allows us to evaluate mathematical expressions."
   ]
  },
  {
   "cell_type": "code",
   "execution_count": null,
   "metadata": {
    "collapsed": false
   },
   "outputs": [],
   "source": [
    "1 + 2*3 "
   ]
  },
  {
   "cell_type": "markdown",
   "metadata": {},
   "source": [
    "Variables are introduced automatically when needed. Note that Unicode characters are allowed\n",
    "in variable names."
   ]
  },
  {
   "cell_type": "code",
   "execution_count": null,
   "metadata": {
    "collapsed": false
   },
   "outputs": [],
   "source": [
    "x = 5\n",
    "α = 3 \n",
    "res = α*x"
   ]
  },
  {
   "cell_type": "markdown",
   "metadata": {},
   "source": [
    "The special `ans` variable in the interactive environment binds to the result of the last operation."
   ]
  },
  {
   "cell_type": "code",
   "execution_count": null,
   "metadata": {
    "collapsed": false
   },
   "outputs": [],
   "source": [
    "ans "
   ]
  },
  {
   "cell_type": "markdown",
   "metadata": {},
   "source": [
    "The `typeof` command can be used to check the type of a variable or expression. Types are\n",
    "essential in `Julia` (much more later...)"
   ]
  },
  {
   "cell_type": "code",
   "execution_count": null,
   "metadata": {
    "collapsed": false
   },
   "outputs": [],
   "source": [
    "typeof(x) "
   ]
  },
  {
   "cell_type": "markdown",
   "metadata": {},
   "source": [
    "Most of the common mathematical functions are already defined."
   ]
  },
  {
   "cell_type": "code",
   "execution_count": null,
   "metadata": {
    "collapsed": false
   },
   "outputs": [],
   "source": [
    "sin(π/2)"
   ]
  },
  {
   "cell_type": "code",
   "execution_count": null,
   "metadata": {
    "collapsed": false
   },
   "outputs": [],
   "source": [
    "exp(1)"
   ]
  },
  {
   "cell_type": "code",
   "execution_count": null,
   "metadata": {
    "collapsed": false
   },
   "outputs": [],
   "source": [
    "exp(log(1))"
   ]
  },
  {
   "cell_type": "markdown",
   "metadata": {},
   "source": [
    "We can get help by typing a question mark and the text to search for."
   ]
  },
  {
   "cell_type": "code",
   "execution_count": null,
   "metadata": {
    "collapsed": false,
    "scrolled": true
   },
   "outputs": [],
   "source": [
    "?cos"
   ]
  },
  {
   "cell_type": "markdown",
   "metadata": {},
   "source": [
    "The help informs us that there is a `cosd` function. This is cosine with arguments in degrees."
   ]
  },
  {
   "cell_type": "code",
   "execution_count": null,
   "metadata": {
    "collapsed": false
   },
   "outputs": [],
   "source": [
    "cosd(180) "
   ]
  },
  {
   "cell_type": "markdown",
   "metadata": {},
   "source": [
    "## Basic Operations with `Complex` Numbers"
   ]
  },
  {
   "cell_type": "markdown",
   "metadata": {},
   "source": [
    "`Complex` number manipulations are supported. The imaginary unit is denoted `im`."
   ]
  },
  {
   "cell_type": "code",
   "execution_count": null,
   "metadata": {
    "collapsed": false
   },
   "outputs": [],
   "source": [
    "x = 1 + 1*im "
   ]
  },
  {
   "cell_type": "markdown",
   "metadata": {},
   "source": [
    "Standard operations on `Complex` numbers are predefined."
   ]
  },
  {
   "cell_type": "code",
   "execution_count": null,
   "metadata": {
    "collapsed": false
   },
   "outputs": [],
   "source": [
    "abs(x), angle(x)"
   ]
  },
  {
   "cell_type": "markdown",
   "metadata": {},
   "source": [
    "We should also be able to calculate $y = \\sqrt{-1}$. Right?"
   ]
  },
  {
   "cell_type": "code",
   "execution_count": null,
   "metadata": {
    "collapsed": false
   },
   "outputs": [],
   "source": [
    "y = sqrt(-1) "
   ]
  },
  {
   "cell_type": "markdown",
   "metadata": {},
   "source": [
    "What happened? We called $\\sqrt{\\cdot}$ with a `Real` argument. Since the square root is not\n",
    "defined on negative `Real`s, `sqrt` throws an error.\n",
    "\n",
    "Apparently, `sqrt` is defined for any `Complex`-valued argument. Let us first tell Julia that\n",
    "`-1` is a `Complex` number, and then compute the square root."
   ]
  },
  {
   "cell_type": "code",
   "execution_count": null,
   "metadata": {
    "collapsed": false
   },
   "outputs": [],
   "source": [
    "complex(-1) "
   ]
  },
  {
   "cell_type": "code",
   "execution_count": null,
   "metadata": {
    "collapsed": false
   },
   "outputs": [],
   "source": [
    "sqrt(complex(-1))"
   ]
  },
  {
   "cell_type": "markdown",
   "metadata": {},
   "source": [
    "**NOTE.** `Julia` uses the type information to avoid unintentional mistakes and to generate efficient\n",
    "code. It will not (generally) try to convert between types for you."
   ]
  },
  {
   "cell_type": "code",
   "execution_count": null,
   "metadata": {
    "collapsed": false
   },
   "outputs": [],
   "source": [
    "typeof(complex(-1))  # complex number having 64-bit integers"
   ]
  },
  {
   "cell_type": "code",
   "execution_count": null,
   "metadata": {
    "collapsed": false
   },
   "outputs": [],
   "source": [
    "typeof(complex(-1.)) # complex number having 64-bit (double precision) floating point numbers"
   ]
  },
  {
   "cell_type": "markdown",
   "metadata": {},
   "source": [
    "## Julia's `Array` Types: `Vector` and `Matrix`"
   ]
  },
  {
   "cell_type": "markdown",
   "metadata": {},
   "source": [
    "`Julia` has built-in support for `Array` manipulations. For instance, let's create a `Vector` of\n",
    "3 `Integer`s."
   ]
  },
  {
   "cell_type": "code",
   "execution_count": null,
   "metadata": {
    "collapsed": false
   },
   "outputs": [],
   "source": [
    "b = [1; 2; 3]"
   ]
  },
  {
   "cell_type": "code",
   "execution_count": null,
   "metadata": {
    "collapsed": false
   },
   "outputs": [],
   "source": [
    "length(b)"
   ]
  },
  {
   "cell_type": "markdown",
   "metadata": {},
   "source": [
    "`Matrix` variables are created, in a similar way, using the squared brackets. Rows are separated using\n",
    "semicolons."
   ]
  },
  {
   "cell_type": "code",
   "execution_count": null,
   "metadata": {
    "collapsed": false
   },
   "outputs": [],
   "source": [
    "A = [1 2 3;\n",
    "     4 5 6;\n",
    "     7 8 9]"
   ]
  },
  {
   "cell_type": "markdown",
   "metadata": {},
   "source": [
    "We use the `size` command to get the length of each dimension of a given `Array`.\n",
    "In this case, `Matrix` objects have two dimensions: rows and columns."
   ]
  },
  {
   "cell_type": "code",
   "execution_count": null,
   "metadata": {
    "collapsed": false
   },
   "outputs": [],
   "source": [
    "size(A)"
   ]
  },
  {
   "cell_type": "markdown",
   "metadata": {},
   "source": [
    "To index the `Array`s, we use the square bracket notation. Each dimension is separated by\n",
    "commas. Please note that the indexing is 1-based."
   ]
  },
  {
   "cell_type": "code",
   "execution_count": null,
   "metadata": {
    "collapsed": false
   },
   "outputs": [],
   "source": [
    "A[1,3]"
   ]
  },
  {
   "cell_type": "code",
   "execution_count": null,
   "metadata": {
    "collapsed": false
   },
   "outputs": [],
   "source": [
    "A[1,:]"
   ]
  },
  {
   "cell_type": "markdown",
   "metadata": {},
   "source": [
    "Note above that the whole row or column of a `Matrix` is a `Vector`."
   ]
  },
  {
   "cell_type": "markdown",
   "metadata": {},
   "source": [
    "## Basic Operations with `Array`s"
   ]
  },
  {
   "cell_type": "markdown",
   "metadata": {},
   "source": [
    "Elementary matrices such as `zeros(3,3)`, `ones(3,3)`, `speye(3,3)`, etc. are predefined."
   ]
  },
  {
   "cell_type": "code",
   "execution_count": null,
   "metadata": {
    "collapsed": false
   },
   "outputs": [],
   "source": [
    "I3 = eye(3,3)"
   ]
  },
  {
   "cell_type": "code",
   "execution_count": null,
   "metadata": {
    "collapsed": false
   },
   "outputs": [],
   "source": [
    "A-5*I3"
   ]
  },
  {
   "cell_type": "markdown",
   "metadata": {},
   "source": [
    "We can also write this expression as..."
   ]
  },
  {
   "cell_type": "code",
   "execution_count": null,
   "metadata": {
    "collapsed": false
   },
   "outputs": [],
   "source": [
    "A-5I"
   ]
  },
  {
   "cell_type": "markdown",
   "metadata": {},
   "source": [
    "Above, `I` is the `UniformScaling`, which scales automatically. Also note that we do not write\n",
    "the multiplication operator."
   ]
  },
  {
   "cell_type": "code",
   "execution_count": null,
   "metadata": {
    "collapsed": false
   },
   "outputs": [],
   "source": [
    "A = eye(2) + I*im"
   ]
  },
  {
   "cell_type": "markdown",
   "metadata": {},
   "source": [
    "When dealing with `Complex` matrices, we need to be careful about the transpose operation."
   ]
  },
  {
   "cell_type": "code",
   "execution_count": null,
   "metadata": {
    "collapsed": false
   },
   "outputs": [],
   "source": [
    "A'"
   ]
  },
  {
   "cell_type": "code",
   "execution_count": null,
   "metadata": {
    "collapsed": false
   },
   "outputs": [],
   "source": [
    "A.'"
   ]
  },
  {
   "cell_type": "markdown",
   "metadata": {},
   "source": [
    "Most of the common operations on `Matrix` objects are defined."
   ]
  },
  {
   "cell_type": "code",
   "execution_count": null,
   "metadata": {
    "collapsed": false
   },
   "outputs": [],
   "source": [
    "A = diagm([2,2])"
   ]
  },
  {
   "cell_type": "code",
   "execution_count": null,
   "metadata": {
    "collapsed": false
   },
   "outputs": [],
   "source": [
    "diag(A)"
   ]
  },
  {
   "cell_type": "markdown",
   "metadata": {},
   "source": [
    "**NOTE.** `diag` gets the diagonal elements of a `Matrix`. To construct a diagonal matrix\n",
    "from a `Vector`, we should use `diagm`, instead."
   ]
  },
  {
   "cell_type": "code",
   "execution_count": null,
   "metadata": {
    "collapsed": false
   },
   "outputs": [],
   "source": [
    "expm(A)"
   ]
  },
  {
   "cell_type": "code",
   "execution_count": null,
   "metadata": {
    "collapsed": false
   },
   "outputs": [],
   "source": [
    "logm(A)"
   ]
  },
  {
   "cell_type": "code",
   "execution_count": null,
   "metadata": {
    "collapsed": false
   },
   "outputs": [],
   "source": [
    "det(A)"
   ]
  },
  {
   "cell_type": "code",
   "execution_count": null,
   "metadata": {
    "collapsed": false
   },
   "outputs": [],
   "source": [
    "evals, evecs = eig(A);"
   ]
  },
  {
   "cell_type": "code",
   "execution_count": null,
   "metadata": {
    "collapsed": false
   },
   "outputs": [],
   "source": [
    "evals"
   ]
  },
  {
   "cell_type": "code",
   "execution_count": null,
   "metadata": {
    "collapsed": false
   },
   "outputs": [],
   "source": [
    "evecs"
   ]
  },
  {
   "cell_type": "markdown",
   "metadata": {},
   "source": [
    "**EXAMPLE.**\n",
    "\n",
    "Let's try to calculate\n",
    "\n",
    "\\begin{align*}\n",
    "y = \\frac{1}{\\sum_{n=1}^{N} x_{n}^{2}} \\,\n",
    "\\end{align*}\n",
    "\n",
    "for some `Vector` $x$."
   ]
  },
  {
   "cell_type": "code",
   "execution_count": null,
   "metadata": {
    "collapsed": false
   },
   "outputs": [],
   "source": [
    "x = [1,2,3]"
   ]
  },
  {
   "cell_type": "code",
   "execution_count": null,
   "metadata": {
    "collapsed": false
   },
   "outputs": [],
   "source": [
    "x.'*x"
   ]
  },
  {
   "cell_type": "code",
   "execution_count": null,
   "metadata": {
    "collapsed": false
   },
   "outputs": [],
   "source": [
    "1/(x.'*x)"
   ]
  },
  {
   "cell_type": "markdown",
   "metadata": {},
   "source": [
    "What went wrong?\n",
    "\n",
    "`x.'*x` returns a `Vector`. This is because `x.'` is a `Matrix`, and `Matrix*Vector` will give\n",
    "a `Vector`.\n",
    "\n",
    "To obtain the inner product of two `Vector`s in `Julia`, we need to tell this explicitly."
   ]
  },
  {
   "cell_type": "code",
   "execution_count": null,
   "metadata": {
    "collapsed": false
   },
   "outputs": [],
   "source": [
    "dot(x, x)"
   ]
  },
  {
   "cell_type": "code",
   "execution_count": null,
   "metadata": {
    "collapsed": false
   },
   "outputs": [],
   "source": [
    "x⋅x # <- x\\cdot<TAB>(I*x)"
   ]
  },
  {
   "cell_type": "code",
   "execution_count": null,
   "metadata": {
    "collapsed": false
   },
   "outputs": [],
   "source": [
    "1/(x⋅x)"
   ]
  },
  {
   "cell_type": "markdown",
   "metadata": {},
   "source": [
    "**NOTE.** Remembering the types we are working with, we avoid problems early on.\n",
    "\n",
    "Basic `sort`ing and `find`ing functions are defined for collection of objects."
   ]
  },
  {
   "cell_type": "code",
   "execution_count": null,
   "metadata": {
    "collapsed": false
   },
   "outputs": [],
   "source": [
    "x = [5,4,6,1,3,9,10]"
   ]
  },
  {
   "cell_type": "code",
   "execution_count": null,
   "metadata": {
    "collapsed": false
   },
   "outputs": [],
   "source": [
    "minimum(x), maximum(x)"
   ]
  },
  {
   "cell_type": "code",
   "execution_count": null,
   "metadata": {
    "collapsed": false
   },
   "outputs": [],
   "source": [
    "inds = find(isodd, x)"
   ]
  },
  {
   "cell_type": "code",
   "execution_count": null,
   "metadata": {
    "collapsed": false
   },
   "outputs": [],
   "source": [
    "x[inds]"
   ]
  },
  {
   "cell_type": "code",
   "execution_count": null,
   "metadata": {
    "collapsed": false
   },
   "outputs": [],
   "source": [
    "y = sort(x)"
   ]
  },
  {
   "cell_type": "code",
   "execution_count": null,
   "metadata": {
    "collapsed": false
   },
   "outputs": [],
   "source": [
    "x"
   ]
  },
  {
   "cell_type": "markdown",
   "metadata": {},
   "source": [
    "Bang notation, by convention, is used to indicate that at least one of the parameters of\n",
    "a function will be changed."
   ]
  },
  {
   "cell_type": "code",
   "execution_count": null,
   "metadata": {
    "collapsed": false
   },
   "outputs": [],
   "source": [
    "sort!(x)"
   ]
  },
  {
   "cell_type": "code",
   "execution_count": null,
   "metadata": {
    "collapsed": false
   },
   "outputs": [],
   "source": [
    "x"
   ]
  },
  {
   "cell_type": "markdown",
   "metadata": {},
   "source": [
    "## Manipulating Variables"
   ]
  },
  {
   "cell_type": "code",
   "execution_count": null,
   "metadata": {
    "collapsed": false
   },
   "outputs": [],
   "source": [
    "x = 1"
   ]
  },
  {
   "cell_type": "markdown",
   "metadata": {},
   "source": [
    "To print messages in the `Julia` environment, we can use the `println` command."
   ]
  },
  {
   "cell_type": "code",
   "execution_count": null,
   "metadata": {
    "collapsed": false
   },
   "outputs": [],
   "source": [
    "println(\"x = \", x)"
   ]
  },
  {
   "cell_type": "markdown",
   "metadata": {},
   "source": [
    "`$()` inside `String`s is used for *string interpolation*, *i.e.*, to get the value of some\n",
    "variable, `x`."
   ]
  },
  {
   "cell_type": "code",
   "execution_count": null,
   "metadata": {
    "collapsed": false
   },
   "outputs": [],
   "source": [
    "println(\"x = $(x)\")"
   ]
  },
  {
   "cell_type": "markdown",
   "metadata": {},
   "source": [
    "To list the variables currently defined in the workspace, we use the following command."
   ]
  },
  {
   "cell_type": "code",
   "execution_count": null,
   "metadata": {
    "collapsed": false
   },
   "outputs": [],
   "source": [
    "whos()"
   ]
  },
  {
   "cell_type": "markdown",
   "metadata": {},
   "source": [
    "Please note that some symbols are named `Module`. They are the `Package`s in `Julia`,\n",
    "loaded currently into the workspace. We will come to that later.\n",
    "\n",
    "To delete a single variable, *i.e.*, the memory location pointed to by the variable,\n",
    "we set it equal to `nothing`. Garbage collection handles the rest.\n",
    "\n",
    "To start with a clean workspace, we type `workspace()`."
   ]
  },
  {
   "cell_type": "code",
   "execution_count": null,
   "metadata": {
    "collapsed": true
   },
   "outputs": [],
   "source": [
    "A = nothing"
   ]
  },
  {
   "cell_type": "code",
   "execution_count": null,
   "metadata": {
    "collapsed": false
   },
   "outputs": [],
   "source": [
    "whos()"
   ]
  },
  {
   "cell_type": "code",
   "execution_count": null,
   "metadata": {
    "collapsed": false
   },
   "outputs": [],
   "source": [
    "B = [1 2 3;\n",
    "     4 5 6;\n",
    "     7 8 9]"
   ]
  },
  {
   "cell_type": "markdown",
   "metadata": {},
   "source": [
    "We can save built-in variables in `Julia` in several formats. For example, in comma-separated format..."
   ]
  },
  {
   "cell_type": "code",
   "execution_count": null,
   "metadata": {
    "collapsed": true
   },
   "outputs": [],
   "source": [
    "writecsv(\"B.csv\", B)"
   ]
  },
  {
   "cell_type": "code",
   "execution_count": null,
   "metadata": {
    "collapsed": true
   },
   "outputs": [],
   "source": [
    "B = nothing"
   ]
  },
  {
   "cell_type": "markdown",
   "metadata": {},
   "source": [
    "We can retreive the saved value."
   ]
  },
  {
   "cell_type": "code",
   "execution_count": null,
   "metadata": {
    "collapsed": false
   },
   "outputs": [],
   "source": [
    "B = readcsv(\"B.csv\")"
   ]
  },
  {
   "cell_type": "markdown",
   "metadata": {},
   "source": [
    "**NOTE.** Julia supports saving variables in cross-platform compatible binary formats, too. For\n",
    "this functionality, we need to install a separate package, called `JLD`. The underlying data\n",
    "representation is based on `HDF5`, which is used in other software packages for saving scientific data."
   ]
  },
  {
   "cell_type": "code",
   "execution_count": null,
   "metadata": {
    "collapsed": true
   },
   "outputs": [],
   "source": [
    "# Pkg.add(\"JLD\")"
   ]
  },
  {
   "cell_type": "markdown",
   "metadata": {},
   "source": [
    "## Plotting"
   ]
  },
  {
   "cell_type": "markdown",
   "metadata": {},
   "source": [
    "`Julia` supports a wide variety of plot commands. The easiest way to access them is through the `Plots` package.\n",
    "\n",
    "The `Plots` package is pre-installed on JuliaBox, but we have to tell that we want to use it."
   ]
  },
  {
   "cell_type": "code",
   "execution_count": null,
   "metadata": {
    "collapsed": true
   },
   "outputs": [],
   "source": [
    "using Plots"
   ]
  },
  {
   "cell_type": "code",
   "execution_count": null,
   "metadata": {
    "collapsed": true
   },
   "outputs": [],
   "source": [
    "t = linspace(0,10,1000)\n",
    "f = 0.5\n",
    "y1 = sin(2π*f*t)\n",
    "y2 = cos(2π*f*t);"
   ]
  },
  {
   "cell_type": "code",
   "execution_count": null,
   "metadata": {
    "collapsed": false
   },
   "outputs": [],
   "source": [
    "plot(t, y1, xlabel = \"Time\", ylabel = \"Function\", title = \"Time Response\")"
   ]
  },
  {
   "cell_type": "markdown",
   "metadata": {},
   "source": [
    "We can add a plot to the current figure using `Julia`'s \"bang\" notation."
   ]
  },
  {
   "cell_type": "code",
   "execution_count": null,
   "metadata": {
    "collapsed": false
   },
   "outputs": [],
   "source": [
    "plot!(t, y2, color = :green, linewidth = 2.)"
   ]
  },
  {
   "cell_type": "markdown",
   "metadata": {},
   "source": [
    "Subplots are supported."
   ]
  },
  {
   "cell_type": "code",
   "execution_count": null,
   "metadata": {
    "collapsed": false
   },
   "outputs": [],
   "source": [
    "plot(t, [y1 y2], layout = (2,1))"
   ]
  },
  {
   "cell_type": "markdown",
   "metadata": {},
   "source": [
    "Most visual properties of the plots can be customized."
   ]
  },
  {
   "cell_type": "code",
   "execution_count": null,
   "metadata": {
    "collapsed": false
   },
   "outputs": [],
   "source": [
    "plot(t, [y1 y2], layout = (2,1), xlabel = \"t\", ylabel = \"y(t)\",\n",
    "    label = [\"sin\" \"cos\"], color= [:red :green], linewidth = [1. 2.],\n",
    "    linestyle = [:dash :dot])"
   ]
  },
  {
   "cell_type": "markdown",
   "metadata": {},
   "source": [
    "### Changing Backends"
   ]
  },
  {
   "cell_type": "markdown",
   "metadata": {},
   "source": [
    "The plotting package, [Plots](https://github.com/JuliaPlots/Plots.jl), can be configured to use\n",
    "one of several supported plotting backends. \n",
    "\n",
    "Julia has a bunch of backends to choose from. Each backend has different types of capabilities.\n",
    "All of the mature plotting backends are preinstalled on JuliaBox. When we are running `Julia`\n",
    "locally, we need to `Pkg.add` these packages, as in `Pkg.add(\"PyPlot\")` for installing\n",
    "[PyPlot](https://github.com/JuliaPy/PyPlot.jl), the `matplotlib` backend in `Julia`."
   ]
  },
  {
   "cell_type": "code",
   "execution_count": null,
   "metadata": {
    "collapsed": true
   },
   "outputs": [],
   "source": [
    "# BACKENDS\n",
    "# Pkg.add(\"PyPlot\")\n",
    "# Pkg.add(\"GR\")\n",
    "# Pkg.add(\"Plotly\")\n",
    "# Pkg.add(\"PlotlyJS\")\n",
    "# ..., see http://pkg.julialang.org for all the rest\n",
    "\n",
    "# FRONTEND\n",
    "# Pkg.add(\"Plots\")\n",
    "# using Plots\n",
    "\n",
    "# pyplot()   <- tells Plots to use PyPlot backend\n",
    "# gr()       <- GR\n",
    "# plotly()   <- Plotly (default in JuliaBox)\n",
    "# plotlyjs() <- PlotlyJS"
   ]
  },
  {
   "cell_type": "code",
   "execution_count": null,
   "metadata": {
    "collapsed": false
   },
   "outputs": [],
   "source": [
    "pyplot() # initialize PyPlot (matplotlib) as the backend"
   ]
  },
  {
   "cell_type": "markdown",
   "metadata": {},
   "source": [
    "Below example is borrowed from [JuliaPlots](https://juliaplots.github.io)."
   ]
  },
  {
   "cell_type": "code",
   "execution_count": null,
   "metadata": {
    "collapsed": false
   },
   "outputs": [],
   "source": [
    "# Lorenz Attractor\n",
    "# initialize the attractor\n",
    "n = 1500\n",
    "dt = 0.02\n",
    "σ, ρ, β = 10., 28., 8/3\n",
    "x, y, z = 1., 1., 1.\n",
    "\n",
    "# initialize a 3D plot with 1 empty series\n",
    "plt = path3d(1, xlimit = (-25,25), ylimit = (-25,25), zlimit = (0,50),\n",
    "                xlabel = \"x\", ylabel = \"y\", zlabel = \"z\", legend = false,\n",
    "                title = \"Lorenz Attractor\", marker = 1)\n",
    "\n",
    "# build an animated gif, saving every 10th frame\n",
    "@gif for i = 1:n\n",
    "    dx = σ*(y - x)     ; x += dt * dx\n",
    "    dy = x*(ρ - z) - y ; y += dt * dy\n",
    "    dz = x*y - β*z     ; z += dt * dz\n",
    "    push!(plt, x, y, z)\n",
    "end every 10"
   ]
  },
  {
   "cell_type": "code",
   "execution_count": null,
   "metadata": {
    "collapsed": true
   },
   "outputs": [],
   "source": [
    "savefig(plt, \"lorenz.pdf\")"
   ]
  },
  {
   "cell_type": "markdown",
   "metadata": {},
   "source": [
    "# Basic Programming"
   ]
  },
  {
   "cell_type": "markdown",
   "metadata": {},
   "source": [
    "### Looping and Branching"
   ]
  },
  {
   "cell_type": "markdown",
   "metadata": {},
   "source": [
    "Basic flow control such as `for` and `while` loops, and `if` branching is supported."
   ]
  },
  {
   "cell_type": "code",
   "execution_count": null,
   "metadata": {
    "collapsed": false
   },
   "outputs": [],
   "source": [
    "for x = 1:10\n",
    "    println(\"x = \", x)\n",
    "end"
   ]
  },
  {
   "cell_type": "code",
   "execution_count": null,
   "metadata": {
    "collapsed": false
   },
   "outputs": [],
   "source": [
    "for x in 1:10\n",
    "    if isodd(x)\n",
    "        println(\"x = \", x, \" (odd)\")\n",
    "    else\n",
    "        println(\"x = \", x, \" (even)\")\n",
    "    end\n",
    "end"
   ]
  },
  {
   "cell_type": "code",
   "execution_count": null,
   "metadata": {
    "collapsed": false
   },
   "outputs": [],
   "source": [
    "x = 1\n",
    "while x ≤ 10\n",
    "    if isodd(x)\n",
    "        println(\"x = \", x, \" (odd)\")\n",
    "    else\n",
    "        println(\"x = \", x, \" (even)\")\n",
    "    end\n",
    "    x += 1\n",
    "end"
   ]
  },
  {
   "cell_type": "markdown",
   "metadata": {},
   "source": [
    "### Defining functions\n",
    "\n",
    "First attempt to write a function that calculates the sum of all the elements of a\n",
    "`Vector`."
   ]
  },
  {
   "cell_type": "code",
   "execution_count": null,
   "metadata": {
    "collapsed": false
   },
   "outputs": [],
   "source": [
    "function mysum1(x)\n",
    "    res = 0\n",
    "    for idx in 1:length(x)\n",
    "        res += x[idx] # res = res + x[idx]\n",
    "    end\n",
    "    res\n",
    "end"
   ]
  },
  {
   "cell_type": "code",
   "execution_count": null,
   "metadata": {
    "collapsed": false
   },
   "outputs": [],
   "source": [
    "mysum1([1,2,3])"
   ]
  },
  {
   "cell_type": "markdown",
   "metadata": {},
   "source": [
    "We can measure the execution time of a function in `Julia` using the `@time` macro.\n",
    "[Macros](docs.julialang.org/en/stable/manual/metaprogramming/) will not be covered due\n",
    "to time limitations."
   ]
  },
  {
   "cell_type": "code",
   "execution_count": null,
   "metadata": {
    "collapsed": false
   },
   "outputs": [],
   "source": [
    "@time mysum1(ones(Float64,1000))"
   ]
  },
  {
   "cell_type": "code",
   "execution_count": null,
   "metadata": {
    "collapsed": false
   },
   "outputs": [],
   "source": [
    "@time mysum1(ones(Int,1000))"
   ]
  },
  {
   "cell_type": "markdown",
   "metadata": {},
   "source": [
    "What is the reason for the differences in execution times? Let's look at how `Julia` interpreted\n",
    "our function."
   ]
  },
  {
   "cell_type": "code",
   "execution_count": null,
   "metadata": {
    "collapsed": false
   },
   "outputs": [],
   "source": [
    "@code_warntype mysum1(1)"
   ]
  },
  {
   "cell_type": "code",
   "execution_count": null,
   "metadata": {
    "collapsed": false
   },
   "outputs": [],
   "source": [
    "@code_warntype mysum1(1.)"
   ]
  },
  {
   "cell_type": "markdown",
   "metadata": {},
   "source": [
    "**What happened?** In `mysum1`, we initialized `temp` to the `zero` of type `Int64`. Then, we\n",
    "have a `for` loop, which is not guaranteed to be executed (`x` could be empty). Hence, the\n",
    "compiler needs to guard against this."
   ]
  },
  {
   "cell_type": "markdown",
   "metadata": {},
   "source": [
    "Now, let's improve on the type issue above. We will tell `Julia` that `res` is of the same type as the elements of `x`."
   ]
  },
  {
   "cell_type": "code",
   "execution_count": null,
   "metadata": {
    "collapsed": false
   },
   "outputs": [],
   "source": [
    "function mysum2(x)\n",
    "    res = zero(eltype(x)) # only change here.\n",
    "    for idx in 1:length(x)\n",
    "        res += x[idx] # res = res + x[idx]\n",
    "    end\n",
    "    res\n",
    "end"
   ]
  },
  {
   "cell_type": "code",
   "execution_count": null,
   "metadata": {
    "collapsed": false
   },
   "outputs": [],
   "source": [
    "@code_warntype mysum2(1.)"
   ]
  },
  {
   "cell_type": "code",
   "execution_count": null,
   "metadata": {
    "collapsed": false
   },
   "outputs": [],
   "source": [
    "@time mysum2(ones(Float64,1000))"
   ]
  },
  {
   "cell_type": "code",
   "execution_count": null,
   "metadata": {
    "collapsed": false
   },
   "outputs": [],
   "source": [
    "@time mysum2(ones(Int,1000))"
   ]
  },
  {
   "cell_type": "markdown",
   "metadata": {},
   "source": [
    "**Take-home message.** `Julia` is flexible enough to suit different needs. For instance, when we\n",
    "want to prototype a piece of code, we can simply discard the type information, as in the\n",
    "case of `mysum1`, and carry on our operations. `Julia` will be happy to return what we want\n",
    "(generally). Similarly, when our major concern is the\n",
    "[performance](https://docs.julialang.org/en/stable/manual/performance-tips/), we can benefit\n",
    "from `Julia`'s [type system](https://docs.julialang.org/en/stable/manual/types/) to write code\n",
    "that will be compiled and executed efficiently for the specific types we use."
   ]
  },
  {
   "cell_type": "markdown",
   "metadata": {},
   "source": [
    "We can define functions also in the short-hand notation as follows:"
   ]
  },
  {
   "cell_type": "code",
   "execution_count": null,
   "metadata": {
    "collapsed": false
   },
   "outputs": [],
   "source": [
    "add_x_y(x,y) = x+y"
   ]
  },
  {
   "cell_type": "code",
   "execution_count": null,
   "metadata": {
    "collapsed": false
   },
   "outputs": [],
   "source": [
    "add_x_y(1, 5)"
   ]
  },
  {
   "cell_type": "code",
   "execution_count": null,
   "metadata": {
    "collapsed": false
   },
   "outputs": [],
   "source": [
    "add_x_y(1., 6 + im)"
   ]
  },
  {
   "cell_type": "code",
   "execution_count": null,
   "metadata": {
    "collapsed": false
   },
   "outputs": [],
   "source": [
    "add_x_y([1,2], [3,4])"
   ]
  },
  {
   "cell_type": "code",
   "execution_count": null,
   "metadata": {
    "collapsed": false
   },
   "outputs": [],
   "source": [
    "add_x_y([1 2; 3 4], I)"
   ]
  },
  {
   "cell_type": "markdown",
   "metadata": {},
   "source": [
    "**NOTE.** We have not explicitly stated what `x` and `y` are. When we call `add_x_y` on a pair\n",
    "of arguments for the first time, the function will be compiled for their corresponding types."
   ]
  },
  {
   "cell_type": "code",
   "execution_count": null,
   "metadata": {
    "collapsed": false
   },
   "outputs": [],
   "source": [
    "mult_α(x; α = 2) = α*x"
   ]
  },
  {
   "cell_type": "code",
   "execution_count": null,
   "metadata": {
    "collapsed": false
   },
   "outputs": [],
   "source": [
    "mult_α(1)"
   ]
  },
  {
   "cell_type": "code",
   "execution_count": null,
   "metadata": {
    "collapsed": false
   },
   "outputs": [],
   "source": [
    "mult_α([1, 5], α = 5)"
   ]
  },
  {
   "cell_type": "markdown",
   "metadata": {},
   "source": [
    "Apart from positional arguments, *e.g.*, `x` and `y` in `add_x_y`, we can also define *keyword*\n",
    "arguments, *e.g.*, `α` in `mult_α` when writing functions. Keyword arguments are later accessed\n",
    "by using their names.\n",
    "\n",
    "Anonymous functions (λ-functions) are also supported."
   ]
  },
  {
   "cell_type": "code",
   "execution_count": null,
   "metadata": {
    "collapsed": false
   },
   "outputs": [],
   "source": [
    "g = (t,x)->(t < zero(t) ? zero(t)*zero(x) : t*x)"
   ]
  },
  {
   "cell_type": "markdown",
   "metadata": {},
   "source": [
    "# Advanced Programming"
   ]
  },
  {
   "cell_type": "markdown",
   "metadata": {},
   "source": [
    "### Iterators"
   ]
  },
  {
   "cell_type": "markdown",
   "metadata": {},
   "source": [
    "Iterable objects help to improve not only code readability but also efficiency.\n",
    "\n",
    "`Array`s are iterable objects in `Julia`."
   ]
  },
  {
   "cell_type": "code",
   "execution_count": null,
   "metadata": {
    "collapsed": false
   },
   "outputs": [],
   "source": [
    "x = rand(1:100, 10)"
   ]
  },
  {
   "cell_type": "code",
   "execution_count": null,
   "metadata": {
    "collapsed": false
   },
   "outputs": [],
   "source": [
    "function mysum3(x)\n",
    "    temp = zero(eltype(x))\n",
    "    for elem in x\n",
    "        temp += elem\n",
    "    end\n",
    "    temp\n",
    "end"
   ]
  },
  {
   "cell_type": "code",
   "execution_count": null,
   "metadata": {
    "collapsed": false
   },
   "outputs": [],
   "source": [
    "mysum3(x)"
   ]
  },
  {
   "cell_type": "markdown",
   "metadata": {},
   "source": [
    "**NOTE.** Not only is the above code more readable, but it is also more general. Whenever `x`\n",
    "is an iterable object, the above code will work.\n",
    "\n",
    "For more information on iterable objects, please refer to\n",
    "[Interfaces](https://docs.julialang.org/en/stable/manual/interfaces/)."
   ]
  },
  {
   "cell_type": "markdown",
   "metadata": {},
   "source": [
    "### Array Comprehension"
   ]
  },
  {
   "cell_type": "markdown",
   "metadata": {},
   "source": [
    "We can create `Array`s using the array comprehension syntax."
   ]
  },
  {
   "cell_type": "code",
   "execution_count": null,
   "metadata": {
    "collapsed": false
   },
   "outputs": [],
   "source": [
    "[elem for elem in x]"
   ]
  },
  {
   "cell_type": "code",
   "execution_count": null,
   "metadata": {
    "collapsed": false
   },
   "outputs": [],
   "source": [
    "[elem for elem in x if isodd(elem)]"
   ]
  },
  {
   "cell_type": "code",
   "execution_count": null,
   "metadata": {
    "collapsed": false
   },
   "outputs": [],
   "source": [
    "sum([elem for elem in x if isodd(elem)])"
   ]
  },
  {
   "cell_type": "code",
   "execution_count": null,
   "metadata": {
    "collapsed": false
   },
   "outputs": [],
   "source": [
    "A = [col for row in 1:5, col in 1:5]"
   ]
  },
  {
   "cell_type": "code",
   "execution_count": null,
   "metadata": {
    "collapsed": false
   },
   "outputs": [],
   "source": [
    "# Let's get the upper triangular part of A\n",
    "[A[row,col] for col in indices(A,2), row in indices(A,1) if col ≥ row] # instead of >=, we can write `\\ge<TAB>`"
   ]
  },
  {
   "cell_type": "markdown",
   "metadata": {},
   "source": [
    "### Custom Datatypes\n",
    "\n",
    "When fundamental types are not enough for our purposes, we can define custom\n",
    "[datatypes](https://docs.julialang.org/en/stable/manual/types/)."
   ]
  },
  {
   "cell_type": "code",
   "execution_count": null,
   "metadata": {
    "collapsed": true
   },
   "outputs": [],
   "source": [
    "type MyDataType\n",
    "    t::Vector{Float64}\n",
    "    y1::Vector{Float64}\n",
    "    y2::Vector{Float64}\n",
    "end"
   ]
  },
  {
   "cell_type": "code",
   "execution_count": null,
   "metadata": {
    "collapsed": false
   },
   "outputs": [],
   "source": [
    "t = linspace(0, 10, 1000)\n",
    "y1, y2 = sin(π*t), cos(π*t)"
   ]
  },
  {
   "cell_type": "code",
   "execution_count": null,
   "metadata": {
    "collapsed": false
   },
   "outputs": [],
   "source": [
    "mydata = MyDataType(t,y1,y2)"
   ]
  },
  {
   "cell_type": "code",
   "execution_count": null,
   "metadata": {
    "collapsed": false
   },
   "outputs": [],
   "source": [
    "mydata.t"
   ]
  },
  {
   "cell_type": "markdown",
   "metadata": {},
   "source": [
    "Let's plot our custom datatype object."
   ]
  },
  {
   "cell_type": "code",
   "execution_count": null,
   "metadata": {
    "collapsed": false
   },
   "outputs": [],
   "source": [
    "plot(mydata.t, mydata.y1, xlabel = \"Time\", ylabel = \"Output\",\n",
    "    label = \"\\$y_{1}(t)\\$\") # PyPlot supports LaTeX strings"
   ]
  },
  {
   "cell_type": "markdown",
   "metadata": {},
   "source": [
    "**NOTE.** When we know how to visualize an object of some datatype, we can\n",
    "define [plotting recipes](https://github.com/JuliaPlots/RecipesBase.jl) so that\n",
    "`Plots` will carry out the necessary tasks for the corresponding backends. Niklas\n",
    "will show some examples on this in the next session.\n",
    "\n",
    "Let's try to write our data structure in a comma separated file."
   ]
  },
  {
   "cell_type": "code",
   "execution_count": null,
   "metadata": {
    "collapsed": false
   },
   "outputs": [],
   "source": [
    "writecsv(\"mydata1.csv\", mydata)"
   ]
  },
  {
   "cell_type": "markdown",
   "metadata": {},
   "source": [
    "**Option 1.** Define a data writer function and use it."
   ]
  },
  {
   "cell_type": "code",
   "execution_count": null,
   "metadata": {
    "collapsed": false
   },
   "outputs": [],
   "source": [
    "function mydatawriter(io, mydata)\n",
    "    writecsv(io, [\"t\" \"y1\" \"y2\"])\n",
    "    writecsv(io, [mydata.t mydata.y1 mydata.y2])\n",
    "end"
   ]
  },
  {
   "cell_type": "code",
   "execution_count": null,
   "metadata": {
    "collapsed": true
   },
   "outputs": [],
   "source": [
    "curio = open(\"mydata2.csv\", \"w\")\n",
    "mydatawriter(curio, mydata)\n",
    "close(curio)"
   ]
  },
  {
   "cell_type": "markdown",
   "metadata": {},
   "source": [
    "**Option 2.** When data writing might be error-prone, we need to make sure we have\n",
    "exception handling. We use the\n",
    "[try-catch](https://docs.julialang.org/en/stable/manual/control-flow/#the-try-catch-statement)\n",
    "mechanism to *finally* close the I/O handle."
   ]
  },
  {
   "cell_type": "code",
   "execution_count": null,
   "metadata": {
    "collapsed": true
   },
   "outputs": [],
   "source": [
    "curio = open(\"mydata3.csv\", \"w\")\n",
    "try\n",
    "    mydatawriter(curio, mydata)\n",
    "catch e\n",
    "    warn(\"Error occured: \", e)\n",
    "finally\n",
    "    close(curio)\n",
    "end"
   ]
  },
  {
   "cell_type": "markdown",
   "metadata": {},
   "source": [
    "**Option 3.** The `Julia`n way of doing it. We benefit from multiple dispatching\n",
    "and the\n",
    "[do-block](https://docs.julialang.org/en/stable/manual/functions/#do-block-syntax-for-function-arguments)\n",
    "syntax."
   ]
  },
  {
   "cell_type": "code",
   "execution_count": null,
   "metadata": {
    "collapsed": false
   },
   "outputs": [],
   "source": [
    "?open"
   ]
  },
  {
   "cell_type": "code",
   "execution_count": null,
   "metadata": {
    "collapsed": true
   },
   "outputs": [],
   "source": [
    "open(io->mydatawriter(io, mydata), \"mydata4.csv\", \"w\")"
   ]
  },
  {
   "cell_type": "code",
   "execution_count": null,
   "metadata": {
    "collapsed": true
   },
   "outputs": [],
   "source": [
    "open(\"mydata5.csv\", \"w\") do io\n",
    "    writecsv(io, [\"t\" \"y1\" \"y2\"])\n",
    "    writecsv(io, [mydata.t mydata.y1 mydata.y2])\n",
    "end"
   ]
  },
  {
   "cell_type": "markdown",
   "metadata": {},
   "source": [
    "### Other Useful Datatypes\n",
    "\n",
    "We have `Tuple`s"
   ]
  },
  {
   "cell_type": "code",
   "execution_count": null,
   "metadata": {
    "collapsed": false
   },
   "outputs": [],
   "source": [
    "x = (1,5) # we have already seen `Tuple`s in size(A)"
   ]
  },
  {
   "cell_type": "code",
   "execution_count": null,
   "metadata": {
    "collapsed": false
   },
   "outputs": [],
   "source": [
    "println(\"x[1] = $(x[1]), x[2] = $(x[2]).\")"
   ]
  },
  {
   "cell_type": "markdown",
   "metadata": {},
   "source": [
    "..., `Dict`s (dictionaries)"
   ]
  },
  {
   "cell_type": "code",
   "execution_count": null,
   "metadata": {
    "collapsed": false
   },
   "outputs": [],
   "source": [
    "mydict = Dict{Int64,Float64}() # dictionary having Int64 keys and Float64 values\n",
    "mydict[1] = 5.\n",
    "mydict[2] = 10"
   ]
  },
  {
   "cell_type": "code",
   "execution_count": null,
   "metadata": {
    "collapsed": false
   },
   "outputs": [],
   "source": [
    "mydict[3] # error! we don't have that element, yet."
   ]
  },
  {
   "cell_type": "code",
   "execution_count": null,
   "metadata": {
    "collapsed": false
   },
   "outputs": [],
   "source": [
    "mydict[3] = 100"
   ]
  },
  {
   "cell_type": "code",
   "execution_count": null,
   "metadata": {
    "collapsed": false
   },
   "outputs": [],
   "source": [
    "# iteration interface for dictionaries. we iterate on (key,value) `Tuple`s\n",
    "for (key,value) in mydict\n",
    "    println(\"$(key) => $(value)\")\n",
    "end"
   ]
  },
  {
   "cell_type": "code",
   "execution_count": null,
   "metadata": {
    "collapsed": false
   },
   "outputs": [],
   "source": [
    "heights = Dict{String,Int}()\n",
    "\n",
    "heights[\"Arda\"] = 179\n",
    "heights[\"Niklas\"] = 171"
   ]
  },
  {
   "cell_type": "code",
   "execution_count": null,
   "metadata": {
    "collapsed": false
   },
   "outputs": [],
   "source": [
    "for (name,height) in heights\n",
    "    println(\"$(name) is $(height) cm tall.\")\n",
    "end"
   ]
  },
  {
   "cell_type": "markdown",
   "metadata": {},
   "source": [
    "..., `Set`s (specialized `Dict`s)"
   ]
  },
  {
   "cell_type": "code",
   "execution_count": null,
   "metadata": {
    "collapsed": false
   },
   "outputs": [],
   "source": [
    "# set of Int64 values. Int will be Int32 on 32-bit computers, Int64 on 64-bit computers\n",
    "uniqueindices = Set{Int}()\n",
    "push!(uniqueindices, 1, 2, 3, 3, 5, 4, 2, 6, 8)\n",
    "uniqueindices"
   ]
  },
  {
   "cell_type": "markdown",
   "metadata": {},
   "source": [
    "..., and many more through the package [DataStructures](https://github.com/JuliaCollections/DataStructures.jl)."
   ]
  }
 ],
 "metadata": {
  "kernelspec": {
   "display_name": "Julia 0.5.1",
   "language": "julia",
   "name": "julia-0.5"
  },
  "language_info": {
   "file_extension": ".jl",
   "mimetype": "application/julia",
   "name": "julia",
   "version": "0.5.1"
  }
 },
 "nbformat": 4,
 "nbformat_minor": 1
}
