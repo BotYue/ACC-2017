{
 "cells": [
  {
   "cell_type": "code",
   "execution_count": null,
   "metadata": {
    "collapsed": true
   },
   "outputs": [],
   "source": [
    "# JuliaSystems toolboxes\n",
    "#Pkg.clone(\"https://github.com/JuliaSystems/SystemsBase.jl.git\")\n",
    "#Pkg.clone(\"https://github.com/JuliaSystems/ControlToolbox.jl.git\")\n",
    "#Pkg.clone(\"https://github.com/neveritt/IdentificationToolbox.jl.git\")\n",
    "Pkg.checkout(\"IdentificationToolbox\",\"WIP-MIMO\")\n",
    "Pkg.checkout(\"ControlToolbox\",\"development\")\n",
    "\n",
    "# Plotting functionality\n",
    "Pkg.add(\"Plots\")\n",
    "Pkg.add(\"GR\")\n",
    "\n",
    "Pkg.update()"
   ]
  },
  {
   "cell_type": "code",
   "execution_count": 3,
   "metadata": {},
   "outputs": [
    {
     "name": "stderr",
     "output_type": "stream",
     "text": [
      "WARNING: Method definition (::Type{IdentificationToolbox.PolyModel})() in module IdentificationToolbox at /home/neveritt/Documents/GITrepos/JuliaSystems/IdentificationToolbox.jl/src/types/idmodels.jl:123 overwritten at /home/neveritt/Documents/GITrepos/JuliaSystems/IdentificationToolbox.jl/src/types/idmodels.jl:128.\n",
      "WARNING: Method definition Type(Array{Any, 1}, Type{IdentificationToolbox.PolyModel}) in module IdentificationToolbox overwritten.\n",
      "\n",
      "WARNING: deprecated syntax \"opt::Core.getfield(Optim,:OptimizationResults)\".\n",
      "Use \"local opt::Core.getfield(Optim,:OptimizationResults)\" instead.\n"
     ]
    },
    {
     "data": {
      "text/plain": [
       "Plots.GRBackend()"
      ]
     },
     "execution_count": 3,
     "metadata": {},
     "output_type": "execute_result"
    }
   ],
   "source": [
    "include(\"../PolynomialMatrices.jl/src/PolynomialMatrices.jl\")\n",
    "include(\"../SystemsBase.jl/src/SystemsBase.jl\")\n",
    "include(\"../ControlToolbox.jl/src/ControlToolbox.jl\")\n",
    "include(\"../IdentificationToolbox.jl/src/IdentificationToolbox.jl\")\n",
    "using PolynomialMatrices\n",
    "using SystemsBase\n",
    "using IdentificationToolbox # Use IdentificationToolbox package\n",
    "using ControlToolbox        # Use ControlToolbox package\n",
    "#using ODE                   # Use ODE package\n",
    "using Plots                 # Use Plots frontend\n",
    "gr()                        # Use GR backend"
   ]
  },
  {
   "cell_type": "code",
   "execution_count": 4,
   "metadata": {},
   "outputs": [
    {
     "data": {
      "text/plain": [
       "(\n",
       "[0.0 -0.206242 0.644553; 0.1001 -1.17932 0.586008; … ; 99.8999 -1.22364 1.99638; 100.0 -4.12476 2.20096],\n",
       "\n",
       "AbstractString[\"t\" \"u\" \"y\"])"
      ]
     },
     "execution_count": 4,
     "metadata": {},
     "output_type": "execute_result"
    }
   ],
   "source": [
    "data, header = readcsv(\"collected-data.csv\", header=true)"
   ]
  },
  {
   "cell_type": "code",
   "execution_count": 5,
   "metadata": {},
   "outputs": [
    {
     "data": {
      "text/plain": [
       "Discrete-time data set with 1000 samples.\n",
       "Sampling time: 1.0 seconds\n"
      ]
     },
     "execution_count": 5,
     "metadata": {},
     "output_type": "execute_result"
    }
   ],
   "source": [
    "u = data[:,2].'; y = data[:,3].';\n",
    "zdata = iddata(y,u)"
   ]
  },
  {
   "cell_type": "code",
   "execution_count": 6,
   "metadata": {},
   "outputs": [
    {
     "ename": "LoadError",
     "evalue": "+ not defined for ForwardDiff.Dual{6,Float64}",
     "output_type": "error",
     "traceback": [
      "+ not defined for ForwardDiff.Dual{6,Float64}",
      "",
      " in _generic_matmatmul!(::Array{ForwardDiff.Dual{6,Float64},2}, ::Char, ::Char, ::Array{ForwardDiff.Dual{6,Float64},2}, ::Array{Float64,2}) at ./linalg/matmul.jl:475",
      " in generic_matmatmul!(::Array{ForwardDiff.Dual{6,Float64},2}, ::Char, ::Char, ::Array{ForwardDiff.Dual{6,Float64},2}, ::Array{Float64,2}) at ./linalg/matmul.jl:447",
      " in filt!(::Array{ForwardDiff.Dual{6,Float64},2}, ::PolynomialMatrices.PolyMatrix{ForwardDiff.Dual{6,Float64},Array{ForwardDiff.Dual{6,Float64},2},Val{:x},2}, ::PolynomialMatrices.PolyMatrix{ForwardDiff.Dual{6,Float64},Array{ForwardDiff.Dual{6,Float64},2},Val{:x},2}, ::Array{Float64,2}, ::Array{ForwardDiff.Dual{6,Float64},2}) at /home/neveritt/Documents/GITrepos/JuliaSystems/PolynomialMatrices.jl/src/filt.jl:20",
      " in filt(::PolynomialMatrices.PolyMatrix{ForwardDiff.Dual{6,Float64},Array{ForwardDiff.Dual{6,Float64},2},Val{:x},2}, ::PolynomialMatrices.PolyMatrix{ForwardDiff.Dual{6,Float64},Array{ForwardDiff.Dual{6,Float64},2},Val{:x},2}, ::Array{Float64,2}, ::Array{ForwardDiff.Dual{6,Float64},2}) at /home/neveritt/Documents/GITrepos/JuliaSystems/PolynomialMatrices.jl/src/filt.jl:8",
      " in predict(::IdentificationToolbox.IdDataObject{Float64,Array{Float64,2},Array{Float64,2}}, ::IdentificationToolbox.PolyModel{Val{:mimo},IdentificationToolbox.FullPolyOrder{Val{:mimo}},IdentificationToolbox.OE}, ::Array{ForwardDiff.Dual{6,Float64},1}, ::IdentificationToolbox.IdOptions{Optim.Options{Void}}) at /home/neveritt/Documents/GITrepos/JuliaSystems/IdentificationToolbox.jl/src/methods/pem.jl:132",
      " in cost(::IdentificationToolbox.IdDataObject{Float64,Array{Float64,2},Array{Float64,2}}, ::IdentificationToolbox.PolyModel{Val{:mimo},IdentificationToolbox.FullPolyOrder{Val{:mimo}},IdentificationToolbox.OE}, ::Array{ForwardDiff.Dual{6,Float64},1}, ::IdentificationToolbox.IdOptions{Optim.Options{Void}}) at /home/neveritt/Documents/GITrepos/JuliaSystems/IdentificationToolbox.jl/src/methods/pem.jl:160",
      " in vector_mode_gradient! at /home/neveritt/.julia/v0.5/ForwardDiff/src/gradient.jl:66 [inlined]",
      " in gradient!(::DiffBase.DiffResult{1,Float64,Tuple{Array{Float64,1}}}, ::IdentificationToolbox.##10#14{IdentificationToolbox.IdDataObject{Float64,Array{Float64,2},Array{Float64,2}},IdentificationToolbox.PolyModel{Val{:mimo},IdentificationToolbox.FullPolyOrder{Val{:mimo}},IdentificationToolbox.OE},IdentificationToolbox.IdOptions{Optim.Options{Void}}}, ::Array{Float64,1}, ::ForwardDiff.GradientConfig{6,Float64,Array{ForwardDiff.Dual{6,Float64},1}}) at /home/neveritt/.julia/v0.5/ForwardDiff/src/gradient.jl:15",
      " in (::Optim.##80#83{Float64,IdentificationToolbox.##10#14{IdentificationToolbox.IdDataObject{Float64,Array{Float64,2},Array{Float64,2}},IdentificationToolbox.PolyModel{Val{:mimo},IdentificationToolbox.FullPolyOrder{Val{:mimo}},IdentificationToolbox.OE},IdentificationToolbox.IdOptions{Optim.Options{Void}}}})(::Array{Float64,1}, ::Array{Float64,1}) at /home/neveritt/.julia/v0.5/Optim/src/optimize.jl:103",
      " in initial_state(::Optim.Newton, ::Optim.Options{Void}, ::Optim.TwiceDifferentiable, ::Array{Float64,1}) at /home/neveritt/.julia/v0.5/Optim/src/newton.jl:33",
      " in optimize(::Optim.TwiceDifferentiable, ::Array{Float64,1}, ::Optim.Newton, ::Optim.Options{Void}) at /home/neveritt/.julia/v0.5/Optim/src/optimize.jl:172",
      " in optimize(::IdentificationToolbox.##10#14{IdentificationToolbox.IdDataObject{Float64,Array{Float64,2},Array{Float64,2}},IdentificationToolbox.PolyModel{Val{:mimo},IdentificationToolbox.FullPolyOrder{Val{:mimo}},IdentificationToolbox.OE},IdentificationToolbox.IdOptions{Optim.Options{Void}}}, ::Array{Float64,1}, ::Optim.Newton, ::Optim.Options{Void}) at /home/neveritt/.julia/v0.5/Optim/src/optimize.jl:116",
      " in pem(::IdentificationToolbox.IdDataObject{Float64,Array{Float64,2},Array{Float64,2}}, ::IdentificationToolbox.PolyModel{Val{:mimo},IdentificationToolbox.FullPolyOrder{Val{:mimo}},IdentificationToolbox.OE}, ::Array{Float64,1}, ::IdentificationToolbox.IdOptions{Optim.Options{Void}}) at /home/neveritt/Documents/GITrepos/JuliaSystems/IdentificationToolbox.jl/src/methods/pem.jl:52",
      " in pem(::IdentificationToolbox.IdDataObject{Float64,Array{Float64,2},Array{Float64,2}}, ::IdentificationToolbox.PolyModel{Val{:mimo},IdentificationToolbox.FullPolyOrder{Val{:mimo}},IdentificationToolbox.OE}, ::Array{Float64,1}) at /home/neveritt/Documents/GITrepos/JuliaSystems/IdentificationToolbox.jl/src/methods/pem.jl:39"
     ]
    }
   ],
   "source": [
    "model = OE(2,2,[1]);\n",
    "pem(zdata, model, zeros(6))"
   ]
  },
  {
   "cell_type": "code",
   "execution_count": null,
   "metadata": {
    "collapsed": true
   },
   "outputs": [],
   "source": []
  },
  {
   "cell_type": "markdown",
   "metadata": {
    "collapsed": true
   },
   "source": [
    "### Aircraft Pitch: System Modeling\n",
    "\n",
    "Now we will simulate the time-response of the aircraft pitch model given below:\n",
    "\n",
    "\\begin{align*}\n",
    "  \\begin{bmatrix}\n",
    "    \\dot{\\alpha} \\\\ \\dot{q} \\\\ \\dot{\\theta}\n",
    "  \\end{bmatrix} & = \\begin{bmatrix}\n",
    "    -0.313  & 56.7   & 0 \\\\\n",
    "    -0.0139 & -0.426 & 0 \\\\\n",
    "     0      & 56.7   & 0\n",
    "  \\end{bmatrix} \\begin{bmatrix}\n",
    "    \\alpha \\\\ q \\\\ \\theta\n",
    "  \\end{bmatrix} + \\begin{bmatrix}\n",
    "    0.232 \\\\ 0.0203 \\\\ 0\n",
    "  \\end{bmatrix} \\delta \\\\\n",
    "  y & = \\begin{bmatrix}\n",
    "    0 & 0 & 1\n",
    "  \\end{bmatrix} \\begin{bmatrix}\n",
    "    \\alpha \\\\ q \\\\ \\theta\n",
    "  \\end{bmatrix}\n",
    "\\end{align*}"
   ]
  },
  {
   "cell_type": "code",
   "execution_count": 19,
   "metadata": {},
   "outputs": [
    {
     "data": {
      "text/plain": [
       "2×4 Array{RationalFunctions.RationalFunction{Val{:s},Val{:conj},Int64,Int64},2}:\n",
       " n(s̄)/d(s̄)  n(s̄)/d(s̄)  n(s̄)/d(s̄)  n(s̄)/d(s̄)\n",
       " n(s̄)/d(s̄)  n(s̄)/d(s̄)  n(s̄)/d(s̄)  n(s̄)/d(s̄)"
      ]
     },
     "execution_count": 19,
     "metadata": {},
     "output_type": "execute_result"
    }
   ],
   "source": [
    "A = [-0.313    56.7   0;\n",
    "     -0.0139  -0.426  0;\n",
    "      0        56.7   0];\n",
    "B = [ 0.232 0.0203 0].'\n",
    "C = [0 0 1]\n",
    "D = 0\n",
    "\n",
    "# generate statespace model\n",
    "P = ss(A,B,C,D)"
   ]
  },
  {
   "cell_type": "markdown",
   "metadata": {},
   "source": [
    "### Analysis\n",
    "\n",
    "Now let's see how the uncompensated open-loop system performs. Specifically, we will use the command step to analyze the open-loop step response where we have scaled the input to represent an elevator angle input ($\\delta$) of 0.2 radians (11 degrees)"
   ]
  },
  {
   "cell_type": "code",
   "execution_count": 12,
   "metadata": {},
   "outputs": [
    {
     "ename": "LoadError",
     "evalue": "MethodError: Cannot `convert` an object of type Float64 to an object of type SystemsBase.StateSpace{Val{:siso},Val{:cont},Array{Float64,2},Array{Float64,2},Array{Int64,2},Array{Int64,2}}\nThis may have arisen from a call to the constructor SystemsBase.StateSpace{Val{:siso},Val{:cont},Array{Float64,2},Array{Float64,2},Array{Int64,2},Array{Int64,2}}(...),\nsince type constructors fall back to convert methods.",
     "output_type": "error",
     "traceback": [
      "MethodError: Cannot `convert` an object of type Float64 to an object of type SystemsBase.StateSpace{Val{:siso},Val{:cont},Array{Float64,2},Array{Float64,2},Array{Int64,2},Array{Int64,2}}\nThis may have arisen from a call to the constructor SystemsBase.StateSpace{Val{:siso},Val{:cont},Array{Float64,2},Array{Float64,2},Array{Int64,2},Array{Int64,2}}(...),\nsince type constructors fall back to convert methods.",
      "",
      " in *(::Float64, ::SystemsBase.StateSpace{Val{:siso},Val{:cont},Array{Float64,2},Array{Float64,2},Array{Int64,2},Array{Int64,2}}) at /home/neveritt/Documents/GITrepos/JuliaSystems/SystemsBase.jl/src/types/system/statespace.jl:480"
     ]
    }
   ],
   "source": [
    "t = 0:0.01:10\n",
    "step(Pₚ,t)"
   ]
  },
  {
   "cell_type": "markdown",
   "metadata": {},
   "source": [
    "The open loop response is clearly unstable. Stability of a system can be determined by examining the poles of the transfer function where the poles can be identified using the command poles as shown below."
   ]
  },
  {
   "cell_type": "code",
   "execution_count": 7,
   "metadata": {},
   "outputs": [
    {
     "data": {
      "text/html": [
       "true"
      ],
      "text/plain": [
       "true"
      ]
     },
     "execution_count": 7,
     "metadata": {},
     "output_type": "execute_result"
    }
   ],
   "source": [
    "isstable(Pₚ)"
   ]
  },
  {
   "cell_type": "code",
   "execution_count": 8,
   "metadata": {},
   "outputs": [
    {
     "data": {
      "text/plain": [
       "3-element Array{Complex{Float64},1}:\n",
       "      -0.3695+0.885967im\n",
       "      -0.3695-0.885967im\n",
       " -1.40979e-30+0.0im     "
      ]
     },
     "execution_count": 8,
     "metadata": {},
     "output_type": "execute_result"
    }
   ],
   "source": [
    "poles(Pₚ)"
   ]
  },
  {
   "cell_type": "markdown",
   "metadata": {},
   "source": [
    "#### Closed-loop response\n",
    "\n",
    "In order to stabilize this system and eventually meet our given design requirements, we will add a feedback controller."
   ]
  },
  {
   "cell_type": "code",
   "execution_count": 11,
   "metadata": {},
   "outputs": [
    {
     "ename": "LoadError",
     "evalue": "MethodError: Cannot `convert` an object of type Int64 to an object of type SystemsBase.StateSpace{Val{:siso},Val{:cont},Array{Float64,2},Array{Float64,2},Array{Int64,2},Array{Int64,2}}\nThis may have arisen from a call to the constructor SystemsBase.StateSpace{Val{:siso},Val{:cont},Array{Float64,2},Array{Float64,2},Array{Int64,2},Array{Int64,2}}(...),\nsince type constructors fall back to convert methods.",
     "output_type": "error",
     "traceback": [
      "MethodError: Cannot `convert` an object of type Int64 to an object of type SystemsBase.StateSpace{Val{:siso},Val{:cont},Array{Float64,2},Array{Float64,2},Array{Int64,2},Array{Int64,2}}\nThis may have arisen from a call to the constructor SystemsBase.StateSpace{Val{:siso},Val{:cont},Array{Float64,2},Array{Float64,2},Array{Int64,2},Array{Int64,2}}(...),\nsince type constructors fall back to convert methods.",
      "",
      " in feedback(::SystemsBase.StateSpace{Val{:siso},Val{:cont},Array{Float64,2},Array{Float64,2},Array{Int64,2},Array{Int64,2}}, ::Int64) at /home/neveritt/Documents/GITrepos/JuliaSystems/SystemsBase.jl/src/methods/feedback.jl:25"
     ]
    }
   ],
   "source": [
    "sys_cl = feedback(Pₚ,1)\n",
    "poles(sys_cl)"
   ]
  },
  {
   "cell_type": "code",
   "execution_count": 10,
   "metadata": {},
   "outputs": [
    {
     "ename": "LoadError",
     "evalue": "UndefVarError: sys_cl not defined",
     "output_type": "error",
     "traceback": [
      "UndefVarError: sys_cl not defined",
      ""
     ]
    }
   ],
   "source": [
    "zeros(sys_cl)"
   ]
  },
  {
   "cell_type": "markdown",
   "metadata": {},
   "source": [
    "### PID design\n",
    "\n",
    "For a step reference of 0.2 radians, the design criteria are the following.\n",
    "\n",
    "- Overshoot less than 10%\n",
    "- Rise time less than 2 seconds\n",
    "- Settling time less than 10 seconds\n",
    "- Steady-state error less than 2%"
   ]
  },
  {
   "cell_type": "markdown",
   "metadata": {},
   "source": [
    "### Frequency domain control design\n",
    "\n",
    "For a step reference of 0.2 radians, the design criteria are the following.\n",
    "\n",
    "- Overshoot less than 10%\n",
    "- Rise time less than 2 seconds\n",
    "- Settling time less than 10 seconds\n",
    "- Steady-state error less than 2%\n",
    "\n",
    "\\begin{equation}\n",
    "  P(s) = \\frac{\\Theta(s)}{\\Delta(s)} = \\frac{1.151s + 0.1774s^2}{1 + 0.739s + 0.921s^2}\n",
    "\\end{equation}"
   ]
  },
  {
   "cell_type": "code",
   "execution_count": null,
   "metadata": {
    "collapsed": true
   },
   "outputs": [],
   "source": [
    "Pₚ = tf([0, 1.151, 0.1774], [1, 0.739, 0.921])\n",
    "step(0.2*Pₚ, [0,10]);"
   ]
  },
  {
   "cell_type": "markdown",
   "metadata": {},
   "source": [
    "### Closed loop response\n",
    "Let's now close the loop on our plant and see if that stabilizes the system. Consider the following unity feedback architecture for our system."
   ]
  },
  {
   "cell_type": "code",
   "execution_count": null,
   "metadata": {
    "collapsed": true
   },
   "outputs": [],
   "source": [
    "sys_cl = feedback(Pₚ, 1)\n",
    "step(sys_cl)"
   ]
  },
  {
   "cell_type": "code",
   "execution_count": null,
   "metadata": {
    "collapsed": true
   },
   "outputs": [],
   "source": [
    "poles(sys_cl)"
   ]
  },
  {
   "cell_type": "markdown",
   "metadata": {},
   "source": [
    "Examination of the above demonstrates that the settle time requirement of 10 seconds is not close to being met. One way to address this is to make the system response faster, but then the overshoot shown above will likely become a problem. Therefore, the overshoot must be reduced in conjunction with making the system response faster. We can accomplish these goals by adding a compensator to reshape the Bode plot of the open-loop system. The Bode plot of the open-loop system indicates behavior of the closed-loop system. More specifically,\n",
    "\n",
    "- the gain crossover frequency is directly related to the closed-loop system's speed of response, and\n",
    "- the phase margin is inversely related to the closed-loop system's overshoot.\n",
    "\n",
    "Therefore, we need to add a compensator that will increase the gain crossover frequency and increase the phase margin as indicated in the Bode plot of the open-loop system."
   ]
  },
  {
   "cell_type": "markdown",
   "metadata": {},
   "source": [
    "### Lead compensator\n",
    "\n",
    "A type of compensator that can accomplish both of our goals is a lead compensator. A lead compensator adds positive phase to the system. Additional positive phase increases the phase margin, thus, increasing the damping. The lead compensator also generally increases the magnitude of the open-loop frequency response at higher frequencies, thereby, increasing the gain crossover frequency and overall speed of the system. Therefore, the settling time should decrease as a result of the addition of a lead compensator. The general form of the transfer function of a lead compensator is the following.\n",
    "\n",
    "\\begin{equation}\n",
    "  C(s)=K \\frac{Ts + 1}{\\alpha Ts+1} \\quad (\\alpha < 1)\n",
    "\\end{equation}\n",
    "\n",
    "We thus need to find $\\alpha$, T and K. Typically, the gain K is set to satisfy requirements on steady-state error. Since our system is already type 1 (the plant has an integrator) the steady-state error for a step input will be zero for any value of K. Even though the steady-state error is zero, the slow tail on the response can be attributed to the fact the velocity-error constant is too small. This deficiency can be addressed by employing a value of K that is greater than 1, in other words, a value of K that will shift the magnitude plot upward. Through some trial and error, we will somewhat arbitrarily choose K = 10. Running the following code will demonstrate the effect of adding this K."
   ]
  },
  {
   "cell_type": "code",
   "execution_count": null,
   "metadata": {
    "collapsed": true
   },
   "outputs": [],
   "source": [
    "K = 10;\n",
    "bode(K*Pₚ)"
   ]
  },
  {
   "cell_type": "code",
   "execution_count": null,
   "metadata": {
    "collapsed": true
   },
   "outputs": [],
   "source": [
    "sys_cl = feedback(K*Pₚ,1);\n",
    "step(0.2*sys_cl)"
   ]
  },
  {
   "cell_type": "markdown",
   "metadata": {},
   "source": [
    "From examination of the above Bode plot, we have increased the system's magnitude at all frequencies and have pushed the gain crossover frequency higher. The effect of these changes are evident in the closed-loop step response shown above. Unfortunately, the addition of the K has also reduced the system's phase margin as evidenced by the increased overshoot in the system's step response. As mentioned previously, the lead compensator will help add damping to the system in order to reduce the overshoot in the step response.\n",
    "\n",
    "Continuing with the design of our compensator, we will next address the parameter $\\alpha$ which is defined as the ratio between the zero and pole. The larger the separation between the zero and the pole the greater the bump in phase where the maximum amount of phase that can be added with a single pole-zero pair is 90 degrees. The following equation captures the maximum phase added by a lead compensator as a function of $\\alpha$.\n",
    "\n",
    "$$ \\sin(\\phi_m)=\\frac{1 - \\alpha}{1 + \\alpha} $$\n",
    "\n",
    "Relationships between the time response and frequency response of a standard underdamped second-order system can be derived. One such relationship that is a good approximation for damping ratios less than approximately 0.6 or 0.7 is the following.\n",
    "\n",
    "$$ \\zeta \\approx \\frac{PM (degrees)}{100^{\\circ}} $$\n",
    "\n",
    "While our system does not have the form of a standard second-order system, we can use the above relationship as a starting point in our design. As we are required to have overshoot less than 10%, we need our damping ratio $\\zeta$ to be approximately larger than 0.59 and thus need a phase margin greater than about 59 degrees. Since our current phase margin (with the addition of K) is approximately 10.4 degrees, an additional 50 degrees of phase bump from the lead compensator should be sufficient. Since it is known that the lead compensator will further increase the magnitude of the frequency response, we will need to add more than 50 degrees of phase lead to account for the fact that the gain crossover frequency will increase to a point where the system has more phase lag. We will somewhat arbitrarily add 5 degrees and aim for a total bump in phase of 50+5 = 55 degrees.\n",
    "\n",
    "We can then use this number to solve the above relationship for $\\alpha$ as shown below.\n",
    "\n",
    "$$ \\alpha = \\frac{1 - \\sin(55^{\\circ})}{1 + \\sin(55^{\\circ})} \\approx 0.10 $$\n",
    "\n",
    "From the above, we can calculate that $\\alpha$ must be less than approximately 0.10. For this value of $\\alpha$, the following relationship can be used to determine the amount of magnitude increase that will be supplied by the lead compensator at the location of the maximum bump in phase.\n",
    "\n",
    "$$ 20 \\log \\left( \\frac{1}{\\sqrt{\\alpha}} \\right) \\approx 20 \\log \\left( \\frac{1}{\\sqrt{0.10}} \\right) \\approx 10 dB $$\n",
    "\n",
    "Examining the Bode plot shown above, the magnitude of the uncompensated system equals -10 dB at approximately 6.1 rad/sec. Therefore, the addition of our lead compensator will move the gain crossover frequency from 3.49 rad/sec to approximately 6.1 rad/sec. Using this information, we can then calculate a value of T from the following in order to center the maximum bump in phase at the new gain crossover frequency in order to maximize the system's resulting phase margin.\n",
    "\n",
    "$$ \\omega_m = \\frac{1}{T \\sqrt{\\alpha}} \\Rightarrow T = \\frac{1}{6.1\\sqrt{.10}} \\approx 0.52 $$\n",
    "\n",
    "With the values K = 10, $\\alpha$ = 0.10, and T = 0.52 calculated above, we now have a first attempt at our lead compensator. Adding the following lines to your m-file and running at the command line will generate the plot shown below demonstrating the effect of your lead compensator on the system's frequency response."
   ]
  },
  {
   "cell_type": "code",
   "execution_count": null,
   "metadata": {
    "collapsed": true
   },
   "outputs": [],
   "source": [
    "s = tf([1,0],[1])\n",
    "K = 10\n",
    "α = 0.10\n",
    "T = 0.52\n",
    "Cₗ = K*tf([T, 1], [α*T, 1])\n",
    "bode(Cₗ*Pₚ)"
   ]
  },
  {
   "cell_type": "code",
   "execution_count": null,
   "metadata": {
    "collapsed": true
   },
   "outputs": [],
   "source": [
    "sys_cl = feedback(Cₗ*Pₚ,1);\n",
    "step(0.2*sys_cl)"
   ]
  },
  {
   "cell_type": "markdown",
   "metadata": {},
   "source": [
    "From the above, all of our requirements are met except for the overshoot which is a bit larger than the requirement of 10%. Iterating on the above design process, we arrive at the parameters K = 10, $\\alpha$ = 0.04, and T = 0.55. The performance achieved with this controller can then be verified by modifying the code as follows."
   ]
  },
  {
   "cell_type": "code",
   "execution_count": null,
   "metadata": {
    "collapsed": true
   },
   "outputs": [],
   "source": [
    "s = tf([1,0],[1])\n",
    "K = 10\n",
    "α = 0.04\n",
    "T = 0.55\n",
    "Cₗ = K*tf([T, 1], [α*T, 1])\n",
    "bode(Cₗ*Pₚ)"
   ]
  },
  {
   "cell_type": "code",
   "execution_count": null,
   "metadata": {
    "collapsed": true
   },
   "outputs": [],
   "source": [
    "sys_cl = feedback(Cₗ*Pₚ,1);\n",
    "step(0.2*sys_cl)"
   ]
  },
  {
   "cell_type": "markdown",
   "metadata": {},
   "source": [
    "### root locus design"
   ]
  },
  {
   "cell_type": "code",
   "execution_count": null,
   "metadata": {
    "collapsed": true
   },
   "outputs": [],
   "source": [
    "rp = rootlocus(P)\n",
    "\n",
    "plot(rp, markershape = :star7, markersize = 5, markeralpha = 0.4)\n",
    "\n",
    "animate(rp, \"animation.gif\")"
   ]
  },
  {
   "cell_type": "markdown",
   "metadata": {},
   "source": [
    "### Controllability\n",
    "\n",
    "In order to apply our state-space controller design techniques we need to first verify an important property, controllability. The controllability property is necessary to guarantee that we have the authority to drive the state of the system anywhere we like. This corresponds to the ability to place the closed-loop poles of the system anywhere in the complex s-plane.\n",
    "\n",
    "The controllability Gramian is a Gramian used to determine whether or not a linear system is controllable. The controllability Gramian  is given as the \n",
    "unique solution of the Lyapunov equation\n",
    "\n",
    "\\begin{align*}\n",
    "  AW_{c}+W_{c}A^{T} & = -BB^{T}\n",
    "\\end{align*}\n",
    "\n",
    "is positive definite if and only if the pair $(A, B)$ is controllable."
   ]
  },
  {
   "cell_type": "code",
   "execution_count": null,
   "metadata": {
    "collapsed": true
   },
   "outputs": [],
   "source": [
    "# controllability grammian (Only works for A with real eigenvalues until lyapunov solvers are updated)\n",
    "# co = gram(Pₚ, :c) \n",
    "# eig(co) # check positive definiteness\n",
    "\n",
    "Tc,c = rosenbrock(A,B) \n",
    "c == size(A,1)"
   ]
  },
  {
   "cell_type": "markdown",
   "metadata": {},
   "source": [
    "`T` is a transformation to controllable realization and `c` is dimension of controllable subspace.\n",
    "The controllable realization can then be calculated using"
   ]
  },
  {
   "cell_type": "code",
   "execution_count": null,
   "metadata": {
    "collapsed": true
   },
   "outputs": [],
   "source": [
    "Ac = Tc'*A*Tc\n",
    "Bc = Tc'*B\n",
    "Cc = C*Tc\n",
    "Dc = D"
   ]
  },
  {
   "cell_type": "markdown",
   "metadata": {},
   "source": [
    "### Pole placement\n",
    "\n",
    "Referring back to the state-space equations at the top of the page, we see that substituting the state-feedback law $\\delta$ = $\\theta_r$ - K x for $\\delta$ leads to the following.\n",
    "\n",
    "\\begin{align*}\n",
    "  \\dot{{\\bf x}} & = (A - BK){\\bf x} + B\\theta_{r} \\\\\n",
    "  \\theta & = C{\\bf x}\n",
    "\\end{align*}\n",
    "\n",
    "Based on the above, matrix $A - BK$ determines the closed-loop dynamics of our system.\n",
    "\n",
    "We know from the above that we can place the closed-loop poles of the system anywhere we would like. The question then that is left is, where should we place them? If we have a standard first- or second-order system, we then have relationships that directly relate pole locations to characteristics of the step response and can use these relations to place the poles in order to meet our given requirements. This process becomes more difficult if we have a higher-order system or zeros. With a higher-order system, one approach is to place the higher-order poles 5-10 times farther to the left in the complex plane than the dominant poles, thereby leading them to have negligible contribution to the transient response. The effect of zeros is more difficult to address using a pole-placement approach to control. Another limitation of this pole-placement approach is that it doesn't explicitly take into account other factors like the amount of required control effort."
   ]
  },
  {
   "cell_type": "code",
   "execution_count": null,
   "metadata": {
    "collapsed": true
   },
   "outputs": [],
   "source": [
    "p₁ = [-10, -0.8+0.5im, -0.8-0.5im] # desired poles\n",
    "K = place(Pₚ.A, Pₚ.B, p)\n",
    "\n",
    "\n",
    "step\n",
    "\n",
    "\n",
    "p₂ = [-1, -1, -1]\n",
    "\n",
    "\n",
    "\n",
    "\n",
    "\n",
    "\n",
    "p₃ = [-0.6, -0.6+0.6im, -0.6-0.6im]\n",
    "P  = [p₁, p₂, p₃]\n",
    "\n",
    "# @gif\n",
    "for p in P\n",
    "    K = place(Pₚ.A, Pₚ.B, p)\n",
    "    \n",
    "    sys_cl = ss(A-B*K, B, C, D)\n",
    "    step(sys_cl)\n",
    "    \n",
    "end #every 5"
   ]
  },
  {
   "cell_type": "markdown",
   "metadata": {},
   "source": [
    "### Advanced user - MathProgBase interface\n",
    "By following the MathProgBase interface the advanced user can use their favourite solver to solve the Poleplacement problem."
   ]
  },
  {
   "cell_type": "code",
   "execution_count": null,
   "metadata": {
    "collapsed": true
   },
   "outputs": [],
   "source": [
    "using Ipopt  \n",
    "K = place(A,B,p,IpoptSolver())"
   ]
  },
  {
   "cell_type": "code",
   "execution_count": null,
   "metadata": {
    "collapsed": true
   },
   "outputs": [],
   "source": [
    "using NLopt\n",
    "K = place(A,B,p,NLoptSolver(algorithm=:LD_MMA))"
   ]
  },
  {
   "cell_type": "markdown",
   "metadata": {},
   "source": [
    "### Linear quadratic regulation\n",
    "\n",
    "We will use a technique called the Linear Quadratic Regulator (LQR) method to generate the \"best\" gain matrix K, without explicitly choosing to place the closed-loop poles in particular locations. This type of control technique optimally balances the system error and the control effort based on a cost that the designer specifies that defines the relative importance of minimizing errors and minimimizing control effort. In the case of the regulator problem, it is assumed that the reference is zero. Therefore, in this case the magnitude of the error is equal to the magnitude of the state. To use this LQR method, we need to define two parameters: the state-cost weighted matrix (Q) and the control weighted matrix (R). For simplicity, we will choose the control weighted matrix equal to 1 (R=1), and the state-cost matrix (Q) equal to pC'C. Employing the vector C from the output equation means that we will only consider those states in the output in defining our cost. In this case,  $\\theta$ is the only state variable in the output. The weighting factor (p) will be varied in order to modify the step response. In this case, R is a scalar since we have a single input system."
   ]
  },
  {
   "cell_type": "code",
   "execution_count": null,
   "metadata": {
    "collapsed": true
   },
   "outputs": [],
   "source": [
    "p = 2\n",
    "Q = p*C'*C\n",
    "R = 1\n",
    "K = lqr(A,B,Q,R)"
   ]
  },
  {
   "cell_type": "markdown",
   "metadata": {},
   "source": [
    "Note the structure of the weighting matrix Q and the resulting gain matrix K. Referring to the closed-loop state equations given above assuming a control law with non-zero reference, $\\delta = \\theta_{r}$ - K x $. Note that the response is scaled to model the fact that the pitch angle reference is a 0.2 radian (11 degree) step. The step response shown below should then be generated."
   ]
  },
  {
   "cell_type": "code",
   "execution_count": null,
   "metadata": {
    "collapsed": true
   },
   "outputs": [],
   "source": [
    "sys_cl = ss(A-B*K, B, C, D)\n",
    "step(0.2*sys_cl)"
   ]
  },
  {
   "cell_type": "markdown",
   "metadata": {},
   "source": [
    "### adding precompensation\n",
    "\n",
    "We try to make the response faster by penalizing the system error more by increasing $p$. Unlike other design methods, the full-state feedback system does not compare the output to the reference; instead, it compares all states multiplied by the control matrix $Kx$ to the reference. Thus, we should not expect the output to equal the commanded reference. To obtain the desired output, we can scale the reference input so that the output does equal the reference in steady state. This can be done by introducing a precompensator scaling factor called $\\bar{N}$."
   ]
  },
  {
   "cell_type": "code",
   "execution_count": null,
   "metadata": {
    "collapsed": true
   },
   "outputs": [],
   "source": [
    "p = 50;\n",
    "Q = p*C'*C;\n",
    "R = 1;\n",
    "K = lqr(A,B,Q,R);\n",
    "sys_cl = ss(A-B*K, B, C, D)\n",
    "\n",
    "N̄ = 1/sys_cl(0)\n",
    "\n",
    "sys_cl = ss(A-B*K,B*N̄,C,D)\n",
    "step(0.2*sys_cl)"
   ]
  },
  {
   "cell_type": "markdown",
   "metadata": {},
   "source": [
    "### Discrete state-space\n",
    "\n",
    "The first step in the design of a digital control system is to generate a sampled-data model of the plant. \n",
    "\n",
    "In choosing a sample time, note that it is desired that the sampling frequency be fast compared to the dynamics of the system in order that the sampled output of the system captures the system's full behavior, that is, so that significant inter-sample behavior isn't missed. One measure of a system's \"speed\" is its closed-loop bandwidth. A good rule of thumb is that the sampling time be smaller than 1/30th of the closed-loop bandwidth frequency.\n",
    "From the closed-loop Bode plot, the bandwidth frequency can be determined to be approximately 2 rad/sec (0.32 Hz). You may verify this yourself. Thus, to be sure we have a small enough sampling time, we will use a sampling time of 1/100 sec/sample. "
   ]
  },
  {
   "cell_type": "code",
   "execution_count": null,
   "metadata": {
    "collapsed": true
   },
   "outputs": [],
   "source": [
    "Ts = 0.01\n",
    "sys_d, x0map = c2d(sys_ss, Ts, Discretization.Bilinear())"
   ]
  },
  {
   "cell_type": "markdown",
   "metadata": {},
   "source": [
    "For a system in state space form, returns the discretized system as well as a\n",
    "matrix $x0map$ that transforms the initial conditions to the discrete domain by\n",
    "x0_discrete = x0map*[x0, u0]."
   ]
  },
  {
   "cell_type": "markdown",
   "metadata": {},
   "source": [
    "### System Identification\n",
    "\n"
   ]
  },
  {
   "cell_type": "code",
   "execution_count": null,
   "metadata": {
    "collapsed": true
   },
   "outputs": [],
   "source": [
    "data, header = readcsv(\"collected-data.csv\", header=true)\n",
    "\n",
    "u = data[:,2].'; y = data[:,3].';\n",
    "zdata = iddata(y,u)\n",
    "\n",
    "model = OE(3,3,[1]);\n",
    "xb, pe = IdentificationToolbox._morsm(zdata, model)\n",
    "\n",
    "idmodel = pem(zdata, model, xb[1:6], IdOptions(estimate_initial=false,autodiff=true,iterations=100))"
   ]
  },
  {
   "cell_type": "code",
   "execution_count": null,
   "metadata": {
    "collapsed": true
   },
   "outputs": [],
   "source": [
    "idmodel.in"
   ]
  }
 ],
 "metadata": {
  "kernelspec": {
   "display_name": "Julia 0.5.1",
   "language": "julia",
   "name": "julia-0.5"
  },
  "language_info": {
   "file_extension": ".jl",
   "mimetype": "application/julia",
   "name": "julia",
   "version": "0.5.1"
  }
 },
 "nbformat": 4,
 "nbformat_minor": 2
}
