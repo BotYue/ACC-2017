{
 "cells": [
  {
   "cell_type": "code",
   "execution_count": null,
   "metadata": {
    "collapsed": true
   },
   "outputs": [],
   "source": [
    "# JuliaSystems toolboxes\n",
    "#Pkg.clone(\"https://github.com/JuliaSystems/SystemsBase.jl.git\")\n",
    "#Pkg.clone(\"https://github.com/JuliaSystems/ControlToolbox.jl.git\")\n",
    "#Pkg.clone(\"https://github.com/neveritt/IdentificationToolbox.jl.git\")\n",
    "Pkg.checkout(\"IdentificationToolbox\",\"WIP-MIMO\")\n",
    "Pkg.checkout(\"ControlToolbox\",\"development\")\n",
    "\n",
    "# Plotting functionality\n",
    "Pkg.add(\"Plots\")\n",
    "Pkg.add(\"GR\")\n",
    "\n",
    "Pkg.update()"
   ]
  },
  {
   "cell_type": "code",
   "execution_count": 2,
   "metadata": {},
   "outputs": [
    {
     "name": "stderr",
     "output_type": "stream",
     "text": [
      "WARNING: Method definition similar(PolynomialMatrices.PolyMatrix{#T<:Any, #M<:Any, Base.Val{#W<:Any}, #N<:Any}) in module PolynomialMatrices at /home/neveritt/.julia/v0.5/PolynomialMatrices/src/methods.jl:21 overwritten at /home/neveritt/.julia/v0.5/PolynomialMatrices/src/methods.jl:28.\n",
      "WARNING: Method definition (::Type{IdentificationToolbox.PolyModel})() in module IdentificationToolbox at /home/neveritt/.julia/v0.5/IdentificationToolbox/src/types/idmodels.jl:123 overwritten at /home/neveritt/.julia/v0.5/IdentificationToolbox/src/types/idmodels.jl:128.\n",
      "WARNING: Method definition Type(Array{Any, 1}, Type{IdentificationToolbox.PolyModel}) in module IdentificationToolbox overwritten.\n",
      "\n",
      "WARNING: deprecated syntax \"opt::Core.getfield(Optim,:OptimizationResults)\".\n",
      "Use \"local opt::Core.getfield(Optim,:OptimizationResults)\" instead.\n",
      "\n",
      "WARNING: deprecated syntax \"call(::Type{DSisoRational}, ...)\".\n",
      "Use \"(::Type{DSisoRational})(...)\" instead.\n",
      "\n",
      "WARNING: deprecated syntax \"Ts::Float64\".\n",
      "Use \"local Ts::Float64\" instead.\n",
      "\n",
      "WARNING: deprecated syntax \"Ts::Float64\".\n",
      "Use \"local Ts::Float64\" instead.\n",
      "\n",
      "WARNING: deprecated syntax \"call(::Type{DSisoZpk}, ...)\".\n",
      "Use \"(::Type{DSisoZpk})(...)\" instead.\n",
      "\n",
      "WARNING: deprecated syntax \"Ts::Float64\".\n",
      "Use \"local Ts::Float64\" instead.\n",
      "\n",
      "WARNING: deprecated syntax \"Ts::Float64\".\n",
      "Use \"local Ts::Float64\" instead.\n",
      "\n",
      "WARNING: deprecated syntax \"call(::Type{DMimo}, ...)\".\n",
      "Use \"(::Type{DMimo})(...)\" instead.\n",
      "\n",
      "WARNING: deprecated syntax \"call(::Type{CSisoRational}, ...)\".\n",
      "Use \"(::Type{CSisoRational})(...)\" instead.\n",
      "\n",
      "WARNING: deprecated syntax \"call(::Type{CSisoZpk}, ...)\".\n",
      "Use \"(::Type{CSisoZpk})(...)\" instead.\n",
      "\n",
      "WARNING: deprecated syntax \"call(::Type{CMimo}, ...)\".\n",
      "Use \"(::Type{CMimo})(...)\" instead.\n",
      "\n",
      "WARNING: deprecated syntax \"call(::Type{CSisoSs}, ...)\".\n",
      "Use \"(::Type{CSisoSs})(...)\" instead.\n",
      "\n",
      "WARNING: deprecated syntax \"call(::Type{DSisoSs}, ...)\".\n",
      "Use \"(::Type{DSisoSs})(...)\" instead.\n",
      "\n",
      "WARNING: deprecated syntax \"call(::Type{CMimoSs}, ...)\".\n",
      "Use \"(::Type{CMimoSs})(...)\" instead.\n",
      "\n",
      "WARNING: deprecated syntax \"call(::Type{DMimoSs}, ...)\".\n",
      "Use \"(::Type{DMimoSs})(...)\" instead.\n",
      "WARNING: could not import ControlCore.StateSpace into ControlToolbox\n",
      "WARNING: could not import ControlCore.RationalTF into ControlToolbox\n",
      "WARNING: could not import ControlCore.ZeroPoleGain into ControlToolbox\n",
      "WARNING: could not import ControlCore.Siso into ControlToolbox\n",
      "WARNING: could not import ControlCore.Continuous into ControlToolbox\n",
      "WARNING: could not import ControlCore.StateSpace into Discretization\n",
      "WARNING: could not import ControlCore.RationalTF into Discretization\n",
      "WARNING: could not import ControlCore.ZeroPoleGain into Discretization\n",
      "WARNING: could not import ControlCore.Siso into Discretization\n",
      "WARNING: could not import ControlCore.Continuous into Discretization\n"
     ]
    },
    {
     "ename": "LoadError",
     "evalue": "LoadError: LoadError: UndefVarError: StateSpace not defined\nwhile loading /home/neveritt/.julia/v0.5/ControlToolbox/src/c2d.jl, in expression starting on line 13\nwhile loading /home/neveritt/.julia/v0.5/ControlToolbox/src/ControlToolbox.jl, in expression starting on line 33",
     "output_type": "error",
     "traceback": [
      "LoadError: LoadError: UndefVarError: StateSpace not defined\nwhile loading /home/neveritt/.julia/v0.5/ControlToolbox/src/c2d.jl, in expression starting on line 13\nwhile loading /home/neveritt/.julia/v0.5/ControlToolbox/src/ControlToolbox.jl, in expression starting on line 33",
      "",
      " in include_from_node1(::String) at ./loading.jl:488 (repeats 2 times)",
      " in eval(::Module, ::Any) at ./boot.jl:234",
      " in require(::Symbol) at ./loading.jl:415"
     ]
    }
   ],
   "source": [
    "using IdentificationToolbox\n",
    "using ControlToolbox"
   ]
  },
  {
   "cell_type": "code",
   "execution_count": 3,
   "metadata": {},
   "outputs": [
    {
     "data": {
      "text/plain": [
       "(\n",
       "[0.0 -0.206242 0.644553; 0.1001 -1.17932 0.586008; … ; 99.8999 -1.22364 1.99638; 100.0 -4.12476 2.20096],\n",
       "\n",
       "AbstractString[\"t\" \"u\" \"y\"])"
      ]
     },
     "execution_count": 3,
     "metadata": {},
     "output_type": "execute_result"
    }
   ],
   "source": [
    "data, header = readcsv(\"collected-data.csv\", header=true)"
   ]
  },
  {
   "cell_type": "code",
   "execution_count": 4,
   "metadata": {},
   "outputs": [
    {
     "data": {
      "text/plain": [
       "Discrete-time data set with 1000 samples.\n",
       "Sampling time: 1.0 seconds\n"
      ]
     },
     "execution_count": 4,
     "metadata": {},
     "output_type": "execute_result"
    }
   ],
   "source": [
    "u = data[:,2].'; y = data[:,3].';\n",
    "zdata = iddata(y,u)"
   ]
  },
  {
   "cell_type": "code",
   "execution_count": 11,
   "metadata": {},
   "outputs": [
    {
     "ename": "LoadError",
     "evalue": "DimensionMismatch(\"matrix A has dimensions (1,1000), matrix B has dimensions (1,1)\")",
     "output_type": "error",
     "traceback": [
      "DimensionMismatch(\"matrix A has dimensions (1,1000), matrix B has dimensions (1,1)\")",
      "",
      " in _generic_matmatmul!(::Array{ForwardDiff.Dual{6,Float64},2}, ::Char, ::Char, ::Array{Float64,2}, ::Array{ForwardDiff.Dual{6,Float64},2}) at ./linalg/matmul.jl:456",
      " in generic_matmatmul!(::Array{ForwardDiff.Dual{6,Float64},2}, ::Char, ::Char, ::Array{Float64,2}, ::Array{ForwardDiff.Dual{6,Float64},2}) at ./linalg/matmul.jl:447",
      " in filt!(::Array{ForwardDiff.Dual{6,Float64},2}, ::PolynomialMatrices.PolyMatrix{ForwardDiff.Dual{6,Float64},Array{ForwardDiff.Dual{6,Float64},2},Val{:x},2}, ::PolynomialMatrices.PolyMatrix{ForwardDiff.Dual{6,Float64},Array{ForwardDiff.Dual{6,Float64},2},Val{:x},2}, ::Array{Float64,2}, ::Array{ForwardDiff.Dual{6,Float64},2}) at /home/neveritt/.julia/v0.5/PolynomialMatrices/src/filt.jl:20",
      " in filt(::PolynomialMatrices.PolyMatrix{ForwardDiff.Dual{6,Float64},Array{ForwardDiff.Dual{6,Float64},2},Val{:x},2}, ::PolynomialMatrices.PolyMatrix{ForwardDiff.Dual{6,Float64},Array{ForwardDiff.Dual{6,Float64},2},Val{:x},2}, ::Array{Float64,2}, ::Array{ForwardDiff.Dual{6,Float64},2}) at /home/neveritt/.julia/v0.5/PolynomialMatrices/src/filt.jl:8",
      " in predict(::IdentificationToolbox.IdDataObject{Float64,Array{Float64,2},Array{Float64,2}}, ::IdentificationToolbox.PolyModel{Val{:mimo},IdentificationToolbox.FullPolyOrder{Val{:mimo}},IdentificationToolbox.OE}, ::Array{ForwardDiff.Dual{6,Float64},1}, ::IdentificationToolbox.IdOptions{Optim.Options{Void}}) at /home/neveritt/.julia/v0.5/IdentificationToolbox/src/methods/pem.jl:132",
      " in cost(::IdentificationToolbox.IdDataObject{Float64,Array{Float64,2},Array{Float64,2}}, ::IdentificationToolbox.PolyModel{Val{:mimo},IdentificationToolbox.FullPolyOrder{Val{:mimo}},IdentificationToolbox.OE}, ::Array{ForwardDiff.Dual{6,Float64},1}, ::IdentificationToolbox.IdOptions{Optim.Options{Void}}) at /home/neveritt/.julia/v0.5/IdentificationToolbox/src/methods/pem.jl:160",
      " in vector_mode_gradient! at /home/neveritt/.julia/v0.5/ForwardDiff/src/gradient.jl:66 [inlined]",
      " in gradient!(::DiffBase.DiffResult{1,Float64,Tuple{Array{Float64,1}}}, ::IdentificationToolbox.##10#14{IdentificationToolbox.IdDataObject{Float64,Array{Float64,2},Array{Float64,2}},IdentificationToolbox.PolyModel{Val{:mimo},IdentificationToolbox.FullPolyOrder{Val{:mimo}},IdentificationToolbox.OE},IdentificationToolbox.IdOptions{Optim.Options{Void}}}, ::Array{Float64,1}, ::ForwardDiff.GradientConfig{6,Float64,Array{ForwardDiff.Dual{6,Float64},1}}) at /home/neveritt/.julia/v0.5/ForwardDiff/src/gradient.jl:15",
      " in (::Optim.##80#83{Float64,IdentificationToolbox.##10#14{IdentificationToolbox.IdDataObject{Float64,Array{Float64,2},Array{Float64,2}},IdentificationToolbox.PolyModel{Val{:mimo},IdentificationToolbox.FullPolyOrder{Val{:mimo}},IdentificationToolbox.OE},IdentificationToolbox.IdOptions{Optim.Options{Void}}}})(::Array{Float64,1}, ::Array{Float64,1}) at /home/neveritt/.julia/v0.5/Optim/src/optimize.jl:103",
      " in initial_state(::Optim.Newton, ::Optim.Options{Void}, ::Optim.TwiceDifferentiable, ::Array{Float64,1}) at /home/neveritt/.julia/v0.5/Optim/src/newton.jl:33",
      " in optimize(::Optim.TwiceDifferentiable, ::Array{Float64,1}, ::Optim.Newton, ::Optim.Options{Void}) at /home/neveritt/.julia/v0.5/Optim/src/optimize.jl:172",
      " in optimize(::IdentificationToolbox.##10#14{IdentificationToolbox.IdDataObject{Float64,Array{Float64,2},Array{Float64,2}},IdentificationToolbox.PolyModel{Val{:mimo},IdentificationToolbox.FullPolyOrder{Val{:mimo}},IdentificationToolbox.OE},IdentificationToolbox.IdOptions{Optim.Options{Void}}}, ::Array{Float64,1}, ::Optim.Newton, ::Optim.Options{Void}) at /home/neveritt/.julia/v0.5/Optim/src/optimize.jl:116",
      " in pem(::IdentificationToolbox.IdDataObject{Float64,Array{Float64,2},Array{Float64,2}}, ::IdentificationToolbox.PolyModel{Val{:mimo},IdentificationToolbox.FullPolyOrder{Val{:mimo}},IdentificationToolbox.OE}, ::Array{Float64,1}, ::IdentificationToolbox.IdOptions{Optim.Options{Void}}) at /home/neveritt/.julia/v0.5/IdentificationToolbox/src/methods/pem.jl:52",
      " in pem(::IdentificationToolbox.IdDataObject{Float64,Array{Float64,2},Array{Float64,2}}, ::IdentificationToolbox.PolyModel{Val{:mimo},IdentificationToolbox.FullPolyOrder{Val{:mimo}},IdentificationToolbox.OE}, ::Array{Float64,1}) at /home/neveritt/.julia/v0.5/IdentificationToolbox/src/methods/pem.jl:39"
     ]
    }
   ],
   "source": [
    "model = OE(2,2,[1]);\n",
    "pem(zdata, model, zeros(6))"
   ]
  },
  {
   "cell_type": "code",
   "execution_count": null,
   "metadata": {
    "collapsed": true
   },
   "outputs": [],
   "source": [
    "Pkg.rm(\"IdentificationToolbox\")"
   ]
  },
  {
   "cell_type": "markdown",
   "metadata": {
    "collapsed": true
   },
   "source": [
    "### Aircraft Pitch: System Modeling\n",
    "\n",
    "Now we will simulate the time-response of the aircraft pitch model given below:\n",
    "\n",
    "\\begin{align*}\n",
    "  \\begin{bmatrix}\n",
    "    \\dot{\\alpha} \\\\ \\dot{q} \\\\ \\dot{\\theta}\n",
    "  \\end{bmatrix} & = \\begin{bmatrix}\n",
    "    -0.313  & 56.7   & 0 \\\\\n",
    "    -0.0139 & -0.426 & 0 \\\\\n",
    "     0      & 56.7   & 0\n",
    "  \\end{bmatrix} \\begin{bmatrix}\n",
    "    \\alpha \\\\ q \\\\ \\theta\n",
    "  \\end{bmatrix} + \\begin{bmatrix}\n",
    "    0.232 \\\\ 0.0203 \\\\ 0\n",
    "  \\end{bmatrix} \\delta \\\\\n",
    "  y & = \\begin{bmatrix}\n",
    "    0 & 0 & 1\n",
    "  \\end{bmatrix} \\begin{bmatrix}\n",
    "    \\alpha \\\\ q \\\\ \\theta\n",
    "  \\end{bmatrix}\n",
    "\\end{align*}"
   ]
  },
  {
   "cell_type": "code",
   "execution_count": null,
   "metadata": {
    "collapsed": true
   },
   "outputs": [],
   "source": [
    "A = [-0.313   56.7  0;\n",
    "     -0.0139 -0.426 0;\n",
    "      0       56.7  0]\n",
    "B = [0.232 ;\n",
    "     0.0203;\n",
    "     0     ]\n",
    "C = [0 0 1]\n",
    "D = [0]\n",
    "\n",
    "Pₚ = ss(A,B,C,D)"
   ]
  },
  {
   "cell_type": "markdown",
   "metadata": {},
   "source": [
    "### Analysis\n",
    "\n",
    "Now let's see how the uncompensated open-loop system performs. Specifically, we will use the command step to analyze the open-loop step response where we have scaled the input to represent an elevator angle input ($\\delta$) of 0.2 radians (11 degrees)"
   ]
  },
  {
   "cell_type": "markdown",
   "metadata": {},
   "source": [
    "t = collect(0:0.01:10)\n",
    "step(0.2*Pₚ,t);"
   ]
  },
  {
   "cell_type": "markdown",
   "metadata": {},
   "source": [
    "The open loop response is clearly unstable. Stability of a system can be determined by examining the poles of the transfer function where the poles can be identified using the command poles as shown below."
   ]
  },
  {
   "cell_type": "code",
   "execution_count": null,
   "metadata": {
    "collapsed": true
   },
   "outputs": [],
   "source": [
    "poles(Pₚ)"
   ]
  },
  {
   "cell_type": "markdown",
   "metadata": {},
   "source": [
    "#### Closed-loop response\n",
    "\n",
    "In order to stabilize this system and eventually meet our given design requirements, we will add a feedback controller."
   ]
  },
  {
   "cell_type": "code",
   "execution_count": null,
   "metadata": {
    "collapsed": true
   },
   "outputs": [],
   "source": [
    "sys_cl = feedback(Pₚ,1)\n",
    "poles(sys_cl)"
   ]
  },
  {
   "cell_type": "code",
   "execution_count": null,
   "metadata": {
    "collapsed": true
   },
   "outputs": [],
   "source": [
    "zeros(sys_cl)"
   ]
  },
  {
   "cell_type": "markdown",
   "metadata": {},
   "source": [
    "### PID design"
   ]
  },
  {
   "cell_type": "markdown",
   "metadata": {},
   "source": [
    "### root locus design"
   ]
  },
  {
   "cell_type": "markdown",
   "metadata": {},
   "source": [
    "### Controllability\n",
    "\n",
    "In order to apply our state-space controller design techniques we need to first verify an important property, controllability. The controllability property is necessary to guarantee that we have the authority to drive the state of the system anywhere we like. This corresponds to the ability to place the closed-loop poles of the system anywhere in the complex s-plane.\n",
    "\n",
    "The controllability Gramian is a Gramian used to determine whether or not a linear system is controllable. The controllability Gramian  is given as the \n",
    "unique solution of the Lyapunov equation\n",
    "\n",
    "\\begin{align*}\n",
    "  AW_{c}+W_{c}A^{T} & = -BB^{T}\n",
    "\\end{align*}\n",
    "\n",
    "is positive definite if and only if the pair $(A, B)$ is controllable."
   ]
  },
  {
   "cell_type": "code",
   "execution_count": null,
   "metadata": {
    "collapsed": true
   },
   "outputs": [],
   "source": [
    "co = gram(Pₚ, :c) # controllability grammian\n",
    "\n",
    "eig(co) # check positive definiteness"
   ]
  },
  {
   "cell_type": "markdown",
   "metadata": {},
   "source": [
    "### Pole placement\n",
    "\n",
    "Referring back to the state-space equations at the top of the page, we see that substituting the state-feedback law $\\delta$ = $\\theta_r$ - K x for $\\delta$ leads to the following.\n",
    "\n",
    "\\begin{align*}\n",
    "  \\dot{{\\bf x}} & = (A - BK){\\bf x} + B\\theta_{r} \\\\\n",
    "  \\theta & = C{\\bf x}\n",
    "\\end{align*}\n",
    "\n",
    "Based on the above, matrix $A - BK$ determines the closed-loop dynamics of our system.\n",
    "\n",
    "We know from the above that we can place the closed-loop poles of the system anywhere we would like. The question then that is left is, where should we place them? If we have a standard first- or second-order system, we then have relationships that directly relate pole locations to characteristics of the step response and can use these relations to place the poles in order to meet our given requirements. This process becomes more difficult if we have a higher-order system or zeros. With a higher-order system, one approach is to place the higher-order poles 5-10 times farther to the left in the complex plane than the dominant poles, thereby leading them to have negligible contribution to the transient response. The effect of zeros is more difficult to address using a pole-placement approach to control. Another limitation of this pole-placement approach is that it doesn't explicitly take into account other factors like the amount of required control effort."
   ]
  },
  {
   "cell_type": "code",
   "execution_count": null,
   "metadata": {
    "collapsed": true
   },
   "outputs": [],
   "source": [
    "p₁ = [-10, -0.8+0.5im, -0.8-0.5im] # desired poles\n",
    "p₂ = [-1, -1, -1]\n",
    "p₃ = [-0.6, -0.6+0.6im, -0.6-0.6im]\n",
    "P  = [p₁, p₂, p₃]\n",
    "\n",
    "for p in P\n",
    "    K = place(Pₚ.A, Pₚ.B, p)\n",
    "    \n",
    "    sys_cl = ss(A-K*B, B, C, D)\n",
    "    step(sys_cl)\n",
    "end"
   ]
  },
  {
   "cell_type": "markdown",
   "metadata": {},
   "source": [
    "### Linear quadratic regulation\n",
    "\n",
    "We will use a technique called the Linear Quadratic Regulator (LQR) method to generate the \"best\" gain matrix K, without explicitly choosing to place the closed-loop poles in particular locations. This type of control technique optimally balances the system error and the control effort based on a cost that the designer specifies that defines the relative importance of minimizing errors and minimimizing control effort. In the case of the regulator problem, it is assumed that the reference is zero. Therefore, in this case the magnitude of the error is equal to the magnitude of the state. To use this LQR method, we need to define two parameters: the state-cost weighted matrix (Q) and the control weighted matrix (R). For simplicity, we will choose the control weighted matrix equal to 1 (R=1), and the state-cost matrix (Q) equal to pC'C. Employing the vector C from the output equation means that we will only consider those states in the output in defining our cost. In this case,  $\\theta$ is the only state variable in the output. The weighting factor (p) will be varied in order to modify the step response. In this case, R is a scalar since we have a single input system."
   ]
  },
  {
   "cell_type": "code",
   "execution_count": null,
   "metadata": {
    "collapsed": true
   },
   "outputs": [],
   "source": [
    "p = 2\n",
    "Q = p*C'*C\n",
    "R = 1\n",
    "K = lqr(A,B,Q,R)"
   ]
  },
  {
   "cell_type": "markdown",
   "metadata": {},
   "source": [
    "Note the structure of the weighting matrix Q and the resulting gain matrix K. Referring to the closed-loop state equations given above assuming a control law with non-zero reference, $\\delta = \\theta_{r}$ - K x $. Note that the response is scaled to model the fact that the pitch angle reference is a 0.2 radian (11 degree) step. The step response shown below should then be generated."
   ]
  },
  {
   "cell_type": "code",
   "execution_count": null,
   "metadata": {
    "collapsed": true
   },
   "outputs": [],
   "source": [
    "sys_cl = ss(A-B*K, B, C, D)\n",
    "step(0.2*sys_cl)"
   ]
  },
  {
   "cell_type": "markdown",
   "metadata": {},
   "source": [
    "### adding precompensation\n",
    "\n",
    "We try to make the response faster by penalizing the system error more by increasing $p$. Unlike other design methods, the full-state feedback system does not compare the output to the reference; instead, it compares all states multiplied by the control matrix $Kx$ to the reference. Thus, we should not expect the output to equal the commanded reference. To obtain the desired output, we can scale the reference input so that the output does equal the reference in steady state. This can be done by introducing a precompensator scaling factor called $\\bar{N}$."
   ]
  },
  {
   "cell_type": "code",
   "execution_count": null,
   "metadata": {
    "collapsed": true
   },
   "outputs": [],
   "source": [
    "p = 50;\n",
    "Q = p*C'*C;\n",
    "R = 1;\n",
    "K = lqr(A,B,Q,R);\n",
    "sys_cl = ss(A-B*K, B, C, D)\n",
    "\n",
    "N̄ = 1/sys_cl(0)\n",
    "\n",
    "sys_cl = ss(A-B*K,B*N̄,C,D)\n",
    "step(0.2*sys_cl)"
   ]
  },
  {
   "cell_type": "markdown",
   "metadata": {},
   "source": [
    "### Discrete state-space\n",
    "\n",
    "The first step in the design of a digital control system is to generate a sampled-data model of the plant. \n",
    "\n",
    "In choosing a sample time, note that it is desired that the sampling frequency be fast compared to the dynamics of the system in order that the sampled output of the system captures the system's full behavior, that is, so that significant inter-sample behavior isn't missed. One measure of a system's \"speed\" is its closed-loop bandwidth. A good rule of thumb is that the sampling time be smaller than 1/30th of the closed-loop bandwidth frequency.\n",
    "From the closed-loop Bode plot, the bandwidth frequency can be determined to be approximately 2 rad/sec (0.32 Hz). You may verify this yourself. Thus, to be sure we have a small enough sampling time, we will use a sampling time of 1/100 sec/sample. "
   ]
  },
  {
   "cell_type": "code",
   "execution_count": null,
   "metadata": {
    "collapsed": true
   },
   "outputs": [],
   "source": [
    "Ts = 0.01\n",
    "sys_d, x0map = c2d(sys_ss, Ts, Discretization.Bilinear())"
   ]
  },
  {
   "cell_type": "markdown",
   "metadata": {},
   "source": [
    "For a system in state space form, returns the discretized system as well as a\n",
    "matrix $x0map$ that transforms the initial conditions to the discrete domain by\n",
    "x0_discrete = x0map*[x0, u0]."
   ]
  }
 ],
 "metadata": {
  "kernelspec": {
   "display_name": "Julia 0.5.1",
   "language": "julia",
   "name": "julia-0.5"
  },
  "language_info": {
   "file_extension": ".jl",
   "mimetype": "application/julia",
   "name": "julia",
   "version": "0.5.1"
  }
 },
 "nbformat": 4,
 "nbformat_minor": 2
}
