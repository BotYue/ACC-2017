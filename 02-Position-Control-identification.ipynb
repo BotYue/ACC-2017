{
 "cells": [
  {
   "cell_type": "markdown",
   "metadata": {},
   "source": [
    "## DC Motor\n",
    "\n",
    "In this tutorial we will model, identificy and control the speed of a DC motor.\n",
    "We will cover the following topics\n",
    "\n",
    "- System modelling\n",
    "  - Representations\n",
    "  - Simulation\n",
    "  - saving/loading data\n",
    "  \n",
    "  \n",
    "- System identification\n",
    "  - Transfer function estimation\n",
    "  - State space estimation\n",
    "\n",
    "\n",
    "- Control design\n",
    "  - Root locus\n",
    "  - PID\n",
    "  - Frequency domain (lead lag)\n",
    "  - Pole placement\n",
    "\n",
    "This tutorial is taken from\n",
    "[Control Tutorials for Matlab and Simulink (CTMS)](http://ctms.engin.umich.edu/CTMS/index.php?example=MotorSpeed&section=SystemModeling)\n"
   ]
  },
  {
   "cell_type": "code",
   "execution_count": null,
   "metadata": {},
   "outputs": [],
   "source": [
    "include(\"../PolynomialMatrices.jl/src/PolynomialMatrices.jl\")\n",
    "include(\"../SystemsBase.jl/src/SystemsBase.jl\")\n",
    "include(\"../ControlToolbox.jl/src/ControlToolbox.jl\")\n",
    "include(\"../IdentificationToolbox.jl/src/IdentificationToolbox.jl\")\n",
    "\n",
    "using PolynomialMatrices\n",
    "using SystemsBase\n",
    "using ControlToolbox\n",
    "using IdentificationToolbox\n",
    "using Plots\n",
    "pyplot();"
   ]
  },
  {
   "cell_type": "markdown",
   "metadata": {},
   "source": [
    "### System modelling\n",
    "\n",
    "#### Physical setup\n",
    "\n",
    "For this example, we will assume that the input of the system is the voltage source (V) applied to the motor's armature, while the output is the rotational speed of the shaft d(theta)/dt. The rotor and shaft are assumed to be rigid. We further assume a viscous friction model, that is, the friction torque is proportional to shaft angular velocity.\n",
    "\n",
    "\n",
    "![title](figures/motor.png)\n",
    "\n",
    "The physical constants are:\n",
    "\n",
    "| parameter     | description                     |  value         |\n",
    "| :------------ | :------------------------------ | :------------- |\n",
    "| J             | moment of inertia of the rotor  | 0.01 kg.m^2    |\n",
    "| b             | motor viscous friction constant | 0.1 N.m.s      |\n",
    "| Ke            | electromotive force constant    | 0.01 V/rad/sec |\n",
    "| Kt            | motor torque constant           | 0.01 N.m/Amp   |\n",
    "| R             | electric resistance             | 1 Ohm          |\n",
    "| L             | electric inductance             | 0.5 H          |\n"
   ]
  },
  {
   "cell_type": "markdown",
   "metadata": {},
   "source": [
    "#### System equations\n",
    "\n",
    "Motor torque is proportional to the armature current $i$ by a constant factor $Kt$\n",
    "$$\n",
    "T=K_{t}\n",
    "$$\n",
    "The back electromotive force, $e$, is proportional to the angular velocity of the shaft by a constant factor Ke.\n",
    "$$\n",
    "e = K_{e} \\dot{\\theta}\n",
    "$$\n",
    "In SI units, the motor torque and back electromotive force constant are equal, that is, $Kt = Ke$;\n",
    "therefore, we will use $K$ to represent both the motor torque constant and the back electromotive force constant.\n",
    "\n",
    "From the figure above, we can derive the following governing equations based on Newton's 2nd law\n",
    "and Kirchhoff's voltage law.\n",
    "$$\n",
    "J\\ddot{\\theta} + b \\dot{\\theta} = K i\n",
    "$$\n",
    "\n",
    "$$ L \\frac{di}{dt} + Ri = V - K\\dot{\\theta}$$"
   ]
  },
  {
   "cell_type": "markdown",
   "metadata": {},
   "source": [
    "### System representations\n",
    "\n",
    "#### Transfer function\n",
    "\n",
    "Applying the Laplace transform, the above modeling equations can be expressed in terms of the Laplace variable s.\n",
    "\n",
    "$$ s(Js + b)\\Theta(s) = KI(s) $$\n",
    "\n",
    "$$ (Ls + R)I(s) = V(s) - Ks\\Theta(s) $$\n",
    "\n",
    "We arrive at the following open-loop transfer function by eliminating I(s) between the two above equations, where the rotational speed is considered the output and the armature voltage is considered the input.\n",
    "\n",
    "$$\n",
    "P(s) = \\frac {\\dot{\\Theta}(s)}{V(s)} = \\frac{K}{(Js + b)(Ls + R) + K^2} \\qquad \\left[ \\frac{rad/sec}{V} \\right]\n",
    "$$"
   ]
  },
  {
   "cell_type": "code",
   "execution_count": null,
   "metadata": {},
   "outputs": [],
   "source": [
    "J = 0.01\n",
    "b = 0.1\n",
    "K = 0.01\n",
    "R = 1.\n",
    "L = 0.5\n",
    "s = tf([1,0], 1)\n",
    "\n",
    "Ptf = K/((J*s+b)*(L*s+R)+K^2)"
   ]
  },
  {
   "cell_type": "markdown",
   "metadata": {},
   "source": [
    "#### State-Space\n",
    "\n",
    "In state-space form, the governing equations above can be expressed by choosing the rotational speed and electric current as the state variables. \n",
    "\n",
    "$$\n",
    "\\frac{d}{dt}\n",
    "\\begin{bmatrix} \\dot{\\theta} \\\\ i \\end{bmatrix}\n",
    "    =\n",
    "\\begin{bmatrix}\n",
    "    -\\frac{b}{J} & \\frac{K}{J} \\\\\n",
    "    -\\frac{K}{L} & -\\frac{R}{L}\n",
    "\\end{bmatrix}\n",
    "\\begin{bmatrix} \\dot{\\theta} \\\\  i \\end{bmatrix}  +\n",
    "\\begin{bmatrix} 0 \\\\ \\frac{1}{L} \\end{bmatrix} V\n",
    "$$\n",
    "\n",
    "$$\n",
    "y =\n",
    "\\begin{bmatrix} 1 & 0 \\end{bmatrix}\n",
    "\\begin{bmatrix} \\dot{\\theta} \\\\ i \\end{bmatrix}\n",
    "$$"
   ]
  },
  {
   "cell_type": "code",
   "execution_count": null,
   "metadata": {},
   "outputs": [],
   "source": [
    "A = [-b/J   K/J\n",
    "    -K/L   -R/L]\n",
    "B = [0 1/L].'\n",
    "C = [1. 0]\n",
    "D = 0.\n",
    "Pss = ss(A,B,C,D)"
   ]
  },
  {
   "cell_type": "markdown",
   "metadata": {},
   "source": [
    "#### Design requirements\n",
    "\n",
    "For a unit step command in motor speed, the control system's output should meet the following requirements.\n",
    "\n",
    "- Settling time less than 2 seconds\n",
    "- Overshoot less than 5%\n",
    "- Steady-state error less than 1%"
   ]
  },
  {
   "cell_type": "code",
   "execution_count": null,
   "metadata": {},
   "outputs": [],
   "source": [
    "plot(pzmap(Pss), aspect_ratio = :equal, ylim = (-1,1))"
   ]
  },
  {
   "cell_type": "markdown",
   "metadata": {},
   "source": [
    "Because of the dominant pole, the open loop system behaves very much like the first order system\n",
    "\n",
    "$$\n",
    "\\frac{0.1}{0.5s +1}\n",
    "$$"
   ]
  },
  {
   "cell_type": "code",
   "execution_count": null,
   "metadata": {},
   "outputs": [],
   "source": [
    "plot(step(Pss))\n",
    "plot!(step(tf(0.1,[0.5, 1])))"
   ]
  },
  {
   "cell_type": "markdown",
   "metadata": {},
   "source": [
    "### Simulation\n",
    "\n",
    "We will now generate some data that can be used for identification"
   ]
  },
  {
   "cell_type": "code",
   "execution_count": null,
   "metadata": {
    "collapsed": true
   },
   "outputs": [],
   "source": []
  },
  {
   "cell_type": "markdown",
   "metadata": {},
   "source": [
    "### System identification\n",
    "\n",
    "#### load data"
   ]
  },
  {
   "cell_type": "code",
   "execution_count": null,
   "metadata": {},
   "outputs": [],
   "source": [
    "data, header = readcsv(\"collected-data.csv\", header=true)\n",
    "\n",
    "u = data[:,2].'\n",
    "y = data[:,3].'\n",
    "zdata = iddata(y,u)"
   ]
  },
  {
   "cell_type": "markdown",
   "metadata": {},
   "source": [
    "#### Transfer function identification\n",
    "\n",
    "We identify a transfer function model of order 2\n",
    "$$\n",
    "    P(z) = \\frac{b_0 z^{-1} + b_1 z^{-2}}{1 + f_1 z^{-1} + f_2 z^{-2}}\n",
    "$$\n",
    "\n",
    "We asssume that we know that the noise is white noise.\n",
    "This is an Output-Error model."
   ]
  },
  {
   "cell_type": "code",
   "execution_count": null,
   "metadata": {},
   "outputs": [],
   "source": [
    "model   = OE(2,2,1);\n",
    "\n",
    "Ptfinit = morsm(zdata, model)\n",
    "Ptfid   = pem(zdata, Ptfinit, IdOptions(estimate_initial=false));"
   ]
  },
  {
   "cell_type": "markdown",
   "metadata": {},
   "source": [
    "#### State-space identification\n",
    "\n",
    "We identify a state-space model with 2 states"
   ]
  },
  {
   "cell_type": "code",
   "execution_count": null,
   "metadata": {},
   "outputs": [],
   "source": [
    "Pssid = n4sid(zdata, 2)\n",
    "Pssid = ss(Pssid)"
   ]
  },
  {
   "cell_type": "markdown",
   "metadata": {},
   "source": [
    "#### Discretize true system"
   ]
  },
  {
   "cell_type": "code",
   "execution_count": null,
   "metadata": {},
   "outputs": [],
   "source": [
    "Ts = 0.05\n",
    "Pssd, xomap = c2d(Pss, Ts, Discretization.Bilinear()) # ZOH by default\n",
    "\n",
    "discretizer = Discretization.ZOH()\n",
    "\n",
    "Pssd, xomap = discretizer(Pss, Ts)\n",
    "Ptfd        = discretizer(Ptf, Ts)"
   ]
  },
  {
   "cell_type": "markdown",
   "metadata": {},
   "source": [
    "##### Compare time-responses"
   ]
  },
  {
   "cell_type": "code",
   "execution_count": null,
   "metadata": {
    "collapsed": true
   },
   "outputs": [],
   "source": [
    "plot(step(Pssd))\n",
    "plot!(step(ss(Pssid))"
   ]
  },
  {
   "cell_type": "markdown",
   "metadata": {},
   "source": [
    "### Root locus\n",
    "We investigate the behaviour of a simple proportional controller in the feedback loop:\n",
    "\n",
    "![title](figures/MotorSpeed_ControlRootLocus_feedback_motors.png)\n",
    "\n",
    "where\n",
    "$$\n",
    "C(s) = c\n",
    "$$"
   ]
  },
  {
   "cell_type": "code",
   "execution_count": null,
   "metadata": {},
   "outputs": [],
   "source": [
    "rl = rootlocus(Ptf)\n",
    "plot(rl)"
   ]
  },
  {
   "cell_type": "code",
   "execution_count": null,
   "metadata": {
    "collapsed": true
   },
   "outputs": [],
   "source": [
    "animate(rl, \"animation.gif\")"
   ]
  },
  {
   "cell_type": "code",
   "execution_count": null,
   "metadata": {
    "collapsed": true
   },
   "outputs": [],
   "source": [
    "plotly()\n",
    "plot(rl)"
   ]
  },
  {
   "cell_type": "markdown",
   "metadata": {},
   "source": [
    "The make the system as fast without too much overshoot we try to place the poles at $-2\\pm 6j$"
   ]
  },
  {
   "cell_type": "code",
   "execution_count": null,
   "metadata": {
    "collapsed": true
   },
   "outputs": [],
   "source": [
    "c = 10\n",
    "rl(c)"
   ]
  },
  {
   "cell_type": "code",
   "execution_count": null,
   "metadata": {
    "collapsed": true
   },
   "outputs": [],
   "source": [
    "Pcl = feedback(P*c,1)\n",
    "step(Pcl)"
   ]
  },
  {
   "cell_type": "markdown",
   "metadata": {},
   "source": [
    "In the above we saw that the overshoot and settling time criteria were met with the proportional controller,\n",
    "but the steady-state error requirement was not.\n",
    "A lag compensator is one type of controller known to be able to reduce steady-state error.\n",
    "\n",
    "$$ C(s) = \\frac {(s + 1)} { (s + 0.01) } $$"
   ]
  },
  {
   "cell_type": "code",
   "execution_count": null,
   "metadata": {},
   "outputs": [],
   "source": [
    "C = tf([1, 1.], [1., .01])\n",
    "rl = rootlocus(Ptf)\n",
    "plot(rl)"
   ]
  },
  {
   "cell_type": "markdown",
   "metadata": {},
   "source": [
    "We pick the gain 44."
   ]
  },
  {
   "cell_type": "code",
   "execution_count": null,
   "metadata": {
    "collapsed": true
   },
   "outputs": [],
   "source": [
    "Pcl = feedback(44*P*C,1)\n",
    "step(Pcl)"
   ]
  },
  {
   "cell_type": "markdown",
   "metadata": {},
   "source": [
    "### PID\n",
    "\n",
    "In this section we talk about PID"
   ]
  },
  {
   "cell_type": "code",
   "execution_count": null,
   "metadata": {
    "collapsed": true
   },
   "outputs": [],
   "source": [
    "pid(Code)"
   ]
  },
  {
   "cell_type": "markdown",
   "metadata": {},
   "source": [
    "### Frequency domain\n",
    "\n",
    "Here we will design a lag compensator using frequency domain methods."
   ]
  },
  {
   "cell_type": "code",
   "execution_count": null,
   "metadata": {
    "collapsed": true
   },
   "outputs": [],
   "source": [
    "Pss(10)       # Pss(s = 10)\n",
    "Pss(ω = 10)   # Pss(s = iω)\n",
    "freqresp(10)  # Pss(s = iω)"
   ]
  },
  {
   "cell_type": "code",
   "execution_count": null,
   "metadata": {
    "collapsed": true
   },
   "outputs": [],
   "source": [
    "br = Bode(Pss)\n",
    "plot(br)"
   ]
  },
  {
   "cell_type": "markdown",
   "metadata": {},
   "source": [
    "A phase margin of 60 degrees is generally sufficient for stability margin. From the above Bode plot, this phase margin is achieved for a crossover frequency of approximately 10 rad/sec. The gain needed to raise the magnitude plot so that the gain crossover frequency occurs at 10 rad/sec appears to be approximately 40 dB."
   ]
  },
  {
   "cell_type": "code",
   "execution_count": null,
   "metadata": {
    "collapsed": true
   },
   "outputs": [],
   "source": [
    "br(10)  "
   ]
  },
  {
   "cell_type": "code",
   "execution_count": null,
   "metadata": {
    "collapsed": true
   },
   "outputs": [],
   "source": [
    "C = 1/0.0139\n",
    "br = Bode(C*Pss)\n",
    "plot(br)"
   ]
  },
  {
   "cell_type": "code",
   "execution_count": null,
   "metadata": {
    "collapsed": true
   },
   "outputs": [],
   "source": [
    "Pcl = feedback(C*Pss,1)\n",
    "plot(step(Pcl))"
   ]
  },
  {
   "cell_type": "markdown",
   "metadata": {},
   "source": [
    "Note that the settling time is fast enough, but the overshoot and the steady-state error are too high. But can be fixed with a lag compensator."
   ]
  },
  {
   "cell_type": "markdown",
   "metadata": {},
   "source": [
    "#### Adding lag compensator\n",
    "Consider the following lag compensator:\n",
    "\n",
    "$$ C(s) = \\frac {(s + 1)} { (s + 0.01) } $$\n",
    "\n",
    "This lag compensator has a DC gain of 1/0.01 = 100 and will only add minor phase to around the crossover frequency of 10 rad/sec."
   ]
  },
  {
   "cell_type": "code",
   "execution_count": null,
   "metadata": {
    "collapsed": true
   },
   "outputs": [],
   "source": [
    "C = 45*(s + 1)/(s + 0.01)\n",
    "bode(C)"
   ]
  },
  {
   "cell_type": "code",
   "execution_count": null,
   "metadata": {
    "collapsed": true
   },
   "outputs": [],
   "source": [
    "Pcl = feedback(C*Ptf,1)\n",
    "step(Pcl)"
   ]
  },
  {
   "cell_type": "markdown",
   "metadata": {},
   "source": [
    "### Pole placement\n",
    "\n",
    "Since both of the state variables in our problem are easy to measure (simply add an ammeter for current and a tachometer for the speed), we can design a full-state feedback controller for the system without worrying about having to add an observer. The control law for a full-state feedback system has the form \n",
    "\n",
    "$$ u = r - Kc x $$ \n",
    "\n",
    "and the associated schematic is shown below.\n",
    "\n",
    "![title](figures/statefeedback_motors.png)"
   ]
  },
  {
   "cell_type": "code",
   "execution_count": null,
   "metadata": {},
   "outputs": [],
   "source": [
    "sys_order = numstates(Pss)\n",
    "sys_rank = rank(controllability(A,B))"
   ]
  },
  {
   "cell_type": "markdown",
   "metadata": {},
   "source": [
    "We try to place the poles on the real axis. "
   ]
  },
  {
   "cell_type": "code",
   "execution_count": null,
   "metadata": {},
   "outputs": [],
   "source": [
    "Kc = place(A,B,[-6,-6])"
   ]
  },
  {
   "cell_type": "code",
   "execution_count": null,
   "metadata": {},
   "outputs": [],
   "source": [
    "Pcl = ss(A-B*Kc,B,C,D)"
   ]
  },
  {
   "cell_type": "code",
   "execution_count": null,
   "metadata": {},
   "outputs": [],
   "source": [
    "poles(Pcl)"
   ]
  },
  {
   "cell_type": "code",
   "execution_count": null,
   "metadata": {
    "collapsed": true
   },
   "outputs": [],
   "source": [
    "plot(step(Pcl))"
   ]
  },
  {
   "cell_type": "markdown",
   "metadata": {},
   "source": [
    "To get the the correct steady state, we calculate the dcgain of the closed loop system and set the final control law to \n",
    "\n",
    "$$ u = \\bar{N} r - Kc x $$ \n",
    "\n",
    "where $\\bar{N}$ = 1/dcgain(Pcl)."
   ]
  },
  {
   "cell_type": "code",
   "execution_count": null,
   "metadata": {},
   "outputs": [],
   "source": [
    "N̄ = 1/dcgain(Pcl)"
   ]
  },
  {
   "cell_type": "code",
   "execution_count": null,
   "metadata": {},
   "outputs": [],
   "source": [
    "Pcl(0)"
   ]
  },
  {
   "cell_type": "code",
   "execution_count": null,
   "metadata": {
    "collapsed": true
   },
   "outputs": [],
   "source": [
    "step(N̄*Pcl)"
   ]
  }
 ],
 "metadata": {
  "kernelspec": {
   "display_name": "Julia 0.5.1",
   "language": "julia",
   "name": "julia-0.5"
  },
  "language_info": {
   "file_extension": ".jl",
   "mimetype": "application/julia",
   "name": "julia",
   "version": "0.5.1"
  }
 },
 "nbformat": 4,
 "nbformat_minor": 2
}
